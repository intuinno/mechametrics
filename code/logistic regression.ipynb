{
 "cells": [
  {
   "cell_type": "markdown",
   "metadata": {},
   "source": [
    "\"\"\"\n",
    "This tutorial introduces logistic regression using Theano and stochastic\n",
    "gradient descent.\n",
    "\n",
    "Logistic regression is a probabilistic, linear classifier. It is parametrized\n",
    "by a weight matrix :math:`W` and a bias vector :math:`b`. Classification is\n",
    "done by projecting data points onto a set of hyperplanes, the distance to\n",
    "which is used to determine a class membership probability.\n",
    "\n",
    "Mathematically, this can be written as:\n",
    "\n",
    ".. math::\n",
    "  P(Y=i|x, W,b) &= softmax_i(W x + b) \\\\\n",
    "                &= \\frac {e^{W_i x + b_i}} {\\sum_j e^{W_j x + b_j}}\n",
    "\n",
    "\n",
    "The output of the model or prediction is then done by taking the argmax of\n",
    "the vector whose i'th element is P(Y=i|x).\n",
    "\n",
    ".. math::\n",
    "\n",
    "  y_{pred} = argmax_i P(Y=i|x,W,b)\n",
    "\n",
    "\n",
    "This tutorial presents a stochastic gradient descent optimization method\n",
    "suitable for large datasets.\n",
    "\n",
    "\n",
    "References:\n",
    "\n",
    "    - textbooks: \"Pattern Recognition and Machine Learning\" -\n",
    "                 Christopher M. Bishop, section 4.3.2\n",
    "\n",
    "\"\"\""
   ]
  },
  {
   "cell_type": "markdown",
   "metadata": {},
   "source": [
    "\n",
    "$$P(Y=i|x, W,b) = softmax_i(W x + b) \\ = \\frac {e^{W_i x + b_i}} {\\sum_j e^{W_j x + b_j}}$$\n",
    "$$y_{pred} = argmax_i P(Y=i|x,W,b)$$"
   ]
  },
  {
   "cell_type": "code",
   "execution_count": 1,
   "metadata": {
    "collapsed": false
   },
   "outputs": [
    {
     "name": "stderr",
     "output_type": "stream",
     "text": [
      "Using gpu device 0: GeForce GTX TITAN X (CNMeM is disabled, cuDNN 5103)\n",
      "/home/intuinno/anaconda2/lib/python2.7/site-packages/theano/sandbox/cuda/__init__.py:600: UserWarning: Your cuDNN version is more recent than the one Theano officially supports. If you see any problems, try updating Theano or downgrading cuDNN to version 5.\n",
      "  warnings.warn(warn)\n"
     ]
    }
   ],
   "source": [
    "from __future__ import print_function\n",
    "\n",
    "__docformat__ = 'restructedtext en'\n",
    "\n",
    "import six.moves.cPickle as pickle\n",
    "import gzip\n",
    "import os\n",
    "import sys\n",
    "import timeit\n",
    "\n",
    "import numpy\n",
    "\n",
    "import theano\n",
    "import theano.tensor as T\n"
   ]
  },
  {
   "cell_type": "code",
   "execution_count": 2,
   "metadata": {
    "collapsed": true
   },
   "outputs": [],
   "source": [
    "class LogisticRegression(object):\n",
    "    \"\"\"Multi-class Logistic Regression Class\n",
    "\n",
    "    The logistic regression is fully described by a weight matrix :math:`W`\n",
    "    and bias vector :math:`b`. Classification is done by projecting data\n",
    "    points onto a set of hyperplanes, the distance to which is used to\n",
    "    determine a class membership probability.\n",
    "    \"\"\"\n",
    "\n",
    "    def __init__(self, input, n_in, n_out):\n",
    "        \"\"\" Initialize the parameters of the logistic regression\n",
    "\n",
    "        :type input: theano.tensor.TensorType\n",
    "        :param input: symbolic variable that describes the input of the\n",
    "                      architecture (one minibatch)\n",
    "\n",
    "        :type n_in: int\n",
    "        :param n_in: number of input units, the dimension of the space in\n",
    "                     which the datapoints lie\n",
    "\n",
    "        :type n_out: int\n",
    "        :param n_out: number of output units, the dimension of the space in\n",
    "                      which the labels lie\n",
    "\n",
    "        \"\"\"\n",
    "        # start-snippet-1\n",
    "        # initialize with 0 the weights W as a matrix of shape (n_in, n_out)\n",
    "        self.W = theano.shared(\n",
    "            value=numpy.zeros(\n",
    "                (n_in, n_out),\n",
    "                dtype=theano.config.floatX\n",
    "            ),\n",
    "            name='W',\n",
    "            borrow=True\n",
    "        )\n",
    "        # initialize the biases b as a vector of n_out 0s\n",
    "        self.b = theano.shared(\n",
    "            value=numpy.zeros(\n",
    "                (n_out,),\n",
    "                dtype=theano.config.floatX\n",
    "            ),\n",
    "            name='b',\n",
    "            borrow=True\n",
    "        )\n",
    "\n",
    "        # symbolic expression for computing the matrix of class-membership\n",
    "        # probabilities\n",
    "        # Where:\n",
    "        # W is a matrix where column-k represent the separation hyperplane for\n",
    "        # class-k\n",
    "        # x is a matrix where row-j  represents input training sample-j\n",
    "        # b is a vector where element-k represent the free parameter of\n",
    "        # hyperplane-k\n",
    "        self.p_y_given_x = T.nnet.softmax(T.dot(input, self.W) + self.b)\n",
    "\n",
    "        # symbolic description of how to compute prediction as class whose\n",
    "        # probability is maximal\n",
    "        self.y_pred = T.argmax(self.p_y_given_x, axis=1)\n",
    "        # end-snippet-1\n",
    "\n",
    "        # parameters of the model\n",
    "        self.params = [self.W, self.b]\n",
    "\n",
    "        # keep track of model input\n",
    "        self.input = input\n",
    "\n",
    "    def negative_log_likelihood(self, y):\n",
    "        \"\"\"Return the mean of the negative log-likelihood of the prediction\n",
    "        of this model under a given target distribution.\n",
    "\n",
    "        .. math::\n",
    "\n",
    "            \\frac{1}{|\\mathcal{D}|} \\mathcal{L} (\\theta=\\{W,b\\}, \\mathcal{D}) =\n",
    "            \\frac{1}{|\\mathcal{D}|} \\sum_{i=0}^{|\\mathcal{D}|}\n",
    "                \\log(P(Y=y^{(i)}|x^{(i)}, W,b)) \\\\\n",
    "            \\ell (\\theta=\\{W,b\\}, \\mathcal{D})\n",
    "\n",
    "        :type y: theano.tensor.TensorType\n",
    "        :param y: corresponds to a vector that gives for each example the\n",
    "                  correct label\n",
    "\n",
    "        Note: we use the mean instead of the sum so that\n",
    "              the learning rate is less dependent on the batch size\n",
    "        \"\"\"\n",
    "        # start-snippet-2\n",
    "        # y.shape[0] is (symbolically) the number of rows in y, i.e.,\n",
    "        # number of examples (call it n) in the minibatch\n",
    "        # T.arange(y.shape[0]) is a symbolic vector which will contain\n",
    "        # [0,1,2,... n-1] T.log(self.p_y_given_x) is a matrix of\n",
    "        # Log-Probabilities (call it LP) with one row per example and\n",
    "        # one column per class LP[T.arange(y.shape[0]),y] is a vector\n",
    "        # v containing [LP[0,y[0]], LP[1,y[1]], LP[2,y[2]], ...,\n",
    "        # LP[n-1,y[n-1]]] and T.mean(LP[T.arange(y.shape[0]),y]) is\n",
    "        # the mean (across minibatch examples) of the elements in v,\n",
    "        # i.e., the mean log-likelihood across the minibatch.\n",
    "        return -T.mean(T.log(self.p_y_given_x)[T.arange(y.shape[0]), y])\n",
    "        # end-snippet-2\n",
    "\n",
    "    def errors(self, y):\n",
    "        \"\"\"Return a float representing the number of errors in the minibatch\n",
    "        over the total number of examples of the minibatch ; zero one\n",
    "        loss over the size of the minibatch\n",
    "\n",
    "        :type y: theano.tensor.TensorType\n",
    "        :param y: corresponds to a vector that gives for each example the\n",
    "                  correct label\n",
    "        \"\"\"\n",
    "\n",
    "        # check if y has same dimension of y_pred\n",
    "        if y.ndim != self.y_pred.ndim:\n",
    "            raise TypeError(\n",
    "                'y should have the same shape as self.y_pred',\n",
    "                ('y', y.type, 'y_pred', self.y_pred.type)\n",
    "            )\n",
    "        # check if y is of the correct datatype\n",
    "        if y.dtype.startswith('int'):\n",
    "            # the T.neq operator returns a vector of 0s and 1s, where 1\n",
    "            # represents a mistake in prediction\n",
    "            return T.mean(T.neq(self.y_pred, y))\n",
    "        else:\n",
    "            raise NotImplementedError()\n",
    "\n"
   ]
  },
  {
   "cell_type": "code",
   "execution_count": 3,
   "metadata": {
    "collapsed": true
   },
   "outputs": [],
   "source": [
    "def load_data(dataset, data_size):\n",
    "    ''' Loads the dataset\n",
    "\n",
    "    :type dataset: string\n",
    "    :param dataset: the path to the dataset (here MNIST)\n",
    "    '''\n",
    "\n",
    "    #############\n",
    "    # LOAD DATA #\n",
    "    #############\n",
    "\n",
    "    # Download the MNIST dataset if it is not present\n",
    "#     data_dir, data_file = os.path.split(dataset)\n",
    "\n",
    "#     if (not os.path.isfile(dataset)) and data_file == 'mnist.pkl.gz':\n",
    "#         from six.moves import urllib\n",
    "#         origin = (\n",
    "#             'http://www.iro.umontreal.ca/~lisa/deep/data/mnist/mnist.pkl.gz'\n",
    "#         )\n",
    "#         print('Downloading data from %s' % origin)\n",
    "#         urllib.request.urlretrieve(origin, dataset)\n",
    "\n",
    "#     print('... loading data')\n",
    "\n",
    "    # Load the dataset\n",
    "    with gzip.open(dataset, 'rb') as f:\n",
    "        try:\n",
    "            train_set, valid_set, test_set = pickle.load(f, encoding='latin1')\n",
    "        except:\n",
    "            train_set, valid_set, test_set = pickle.load(f)\n",
    "    # train_set, valid_set, test_set format: tuple(input, target)\n",
    "    # input is a numpy.ndarray of 2 dimensions (a matrix)\n",
    "    # where each row corresponds to an example. target is a\n",
    "    # numpy.ndarray of 1 dimension (vector) that has the same length as\n",
    "    # the number of rows in the input. It should give the target\n",
    "    # to the example with the same index in the input.\n",
    "    trainX, trainY = train_set\n",
    "    train_set = (trainX[:data_size], trainY[:data_size])\n",
    "\n",
    "    def shared_dataset(data_xy, borrow=True):\n",
    "        \"\"\" Function that loads the dataset into shared variables\n",
    "\n",
    "        The reason we store our dataset in shared variables is to allow\n",
    "        Theano to copy it into the GPU memory (when code is run on GPU).\n",
    "        Since copying data into the GPU is slow, copying a minibatch everytime\n",
    "        is needed (the default behaviour if the data is not in a shared\n",
    "        variable) would lead to a large decrease in performance.\n",
    "        \"\"\"\n",
    "        data_x, data_y = data_xy\n",
    "        shared_x = theano.shared(numpy.asarray(data_x,\n",
    "                                               dtype=theano.config.floatX),\n",
    "                                 borrow=borrow)\n",
    "        shared_y = theano.shared(numpy.asarray(data_y,\n",
    "                                               dtype=theano.config.floatX),\n",
    "                                 borrow=borrow)\n",
    "        # When storing data on the GPU it has to be stored as floats\n",
    "        # therefore we will store the labels as ``floatX`` as well\n",
    "        # (``shared_y`` does exactly that). But during our computations\n",
    "        # we need them as ints (we use labels as index, and if they are\n",
    "        # floats it doesn't make sense) therefore instead of returning\n",
    "        # ``shared_y`` we will have to cast it to int. This little hack\n",
    "        # lets ous get around this issue\n",
    "        return shared_x, T.cast(shared_y, 'int32')\n",
    "\n",
    "    test_set_x, test_set_y = shared_dataset(test_set)\n",
    "    valid_set_x, valid_set_y = shared_dataset(valid_set)\n",
    "    train_set_x, train_set_y = shared_dataset(train_set)\n",
    "\n",
    "    rval = [(train_set_x, train_set_y), (valid_set_x, valid_set_y),\n",
    "            (test_set_x, test_set_y)]\n",
    "    return rval\n"
   ]
  },
  {
   "cell_type": "code",
   "execution_count": 4,
   "metadata": {
    "collapsed": true
   },
   "outputs": [],
   "source": [
    "def sgd_optimization_mnist(data_size, learning_rate=0.13, n_epochs=1000,\n",
    "                           dataset='mnist.pkl.gz',\n",
    "                           batch_size=600):\n",
    "    \"\"\"\n",
    "    Demonstrate stochastic gradient descent optimization of a log-linear\n",
    "    model\n",
    "\n",
    "    This is demonstrated on MNIST.\n",
    "\n",
    "    :type learning_rate: float\n",
    "    :param learning_rate: learning rate used (factor for the stochastic\n",
    "                          gradient)\n",
    "\n",
    "    :type n_epochs: int\n",
    "    :param n_epochs: maximal number of epochs to run the optimizer\n",
    "\n",
    "    :type dataset: string\n",
    "    :param dataset: the path of the MNIST dataset file from\n",
    "                 http://www.iro.umontreal.ca/~lisa/deep/data/mnist/mnist.pkl.gz\n",
    "\n",
    "    \"\"\"\n",
    "    datasets = load_data(dataset, data_size)\n",
    "    \n",
    "    batch_size = 100\n",
    "\n",
    "    train_set_x, train_set_y = datasets[0]\n",
    "    valid_set_x, valid_set_y = datasets[1]\n",
    "    test_set_x, test_set_y = datasets[2]\n",
    "\n",
    "    # compute number of minibatches for training, validation and testing\n",
    "    n_train_batches = train_set_x.get_value(borrow=True).shape[0] // batch_size\n",
    "    n_valid_batches = valid_set_x.get_value(borrow=True).shape[0] // batch_size\n",
    "    n_test_batches = test_set_x.get_value(borrow=True).shape[0] // batch_size\n",
    "\n",
    "    print ('Num dataset = ', n_train_batches*10)\n",
    "    ######################\n",
    "    # BUILD ACTUAL MODEL #\n",
    "    ######################\n",
    "#     print('... building the model')\n",
    "\n",
    "    # allocate symbolic variables for the data\n",
    "    index = T.lscalar()  # index to a [mini]batch\n",
    "\n",
    "    # generate symbolic variables for input (x and y represent a\n",
    "    # minibatch)\n",
    "    x = T.matrix('x')  # data, presented as rasterized images\n",
    "    y = T.ivector('y')  # labels, presented as 1D vector of [int] labels\n",
    "\n",
    "    # construct the logistic regression class\n",
    "    # Each MNIST image has size 28*28\n",
    "    classifier = LogisticRegression(input=x, n_in=28 * 28, n_out=10)\n",
    "\n",
    "    # the cost we minimize during training is the negative log likelihood of\n",
    "    # the model in symbolic format\n",
    "    cost = classifier.negative_log_likelihood(y)\n",
    "\n",
    "    # compiling a Theano function that computes the mistakes that are made by\n",
    "    # the model on a minibatch\n",
    "    test_model = theano.function(\n",
    "        inputs=[index],\n",
    "        outputs=classifier.errors(y),\n",
    "        givens={\n",
    "            x: test_set_x[index * batch_size: (index + 1) * batch_size],\n",
    "            y: test_set_y[index * batch_size: (index + 1) * batch_size]\n",
    "        }\n",
    "    )\n",
    "\n",
    "    validate_model = theano.function(\n",
    "        inputs=[index],\n",
    "        outputs=classifier.errors(y),\n",
    "        givens={\n",
    "            x: valid_set_x[index * batch_size: (index + 1) * batch_size],\n",
    "            y: valid_set_y[index * batch_size: (index + 1) * batch_size]\n",
    "        }\n",
    "    )\n",
    "\n",
    "    # compute the gradient of cost with respect to theta = (W,b)\n",
    "    g_W = T.grad(cost=cost, wrt=classifier.W)\n",
    "    g_b = T.grad(cost=cost, wrt=classifier.b)\n",
    "\n",
    "    # start-snippet-3\n",
    "    # specify how to update the parameters of the model as a list of\n",
    "    # (variable, update expression) pairs.\n",
    "    updates = [(classifier.W, classifier.W - learning_rate * g_W),\n",
    "               (classifier.b, classifier.b - learning_rate * g_b)]\n",
    "\n",
    "    # compiling a Theano function `train_model` that returns the cost, but in\n",
    "    # the same time updates the parameter of the model based on the rules\n",
    "    # defined in `updates`\n",
    "    train_model = theano.function(\n",
    "        inputs=[index],\n",
    "        outputs=cost,\n",
    "        updates=updates,\n",
    "        givens={\n",
    "            x: train_set_x[index * batch_size: (index + 1) * batch_size],\n",
    "            y: train_set_y[index * batch_size: (index + 1) * batch_size]\n",
    "        }\n",
    "    )\n",
    "    # end-snippet-3\n",
    "\n",
    "    ###############\n",
    "    # TRAIN MODEL #\n",
    "    ###############\n",
    "#     print('... training the model')\n",
    "    # early-stopping parameters\n",
    "    patience = 5000  # look as this many examples regardless\n",
    "    patience_increase = 2  # wait this much longer when a new best is\n",
    "                                  # found\n",
    "    improvement_threshold = 0.995  # a relative improvement of this much is\n",
    "                                  # considered significant\n",
    "    validation_frequency = min(n_train_batches, patience // 2)\n",
    "                                  # go through this many\n",
    "                                  # minibatche before checking the network\n",
    "                                  # on the validation set; in this case we\n",
    "                                  # check every epoch\n",
    "\n",
    "    best_validation_loss = numpy.inf\n",
    "    test_score = 0.\n",
    "    start_time = timeit.default_timer()\n",
    "\n",
    "    done_looping = False\n",
    "    epoch = 0\n",
    "    while (epoch < n_epochs) and (not done_looping):\n",
    "        epoch = epoch + 1\n",
    "        for minibatch_index in range(n_train_batches):\n",
    "\n",
    "            minibatch_avg_cost = train_model(minibatch_index)\n",
    "            # iteration number\n",
    "            iter = (epoch - 1) * n_train_batches + minibatch_index\n",
    "\n",
    "            if (iter + 1) % validation_frequency == 0:\n",
    "                # compute zero-one loss on validation set\n",
    "                validation_losses = [validate_model(i)\n",
    "                                     for i in range(n_valid_batches)]\n",
    "                this_validation_loss = numpy.mean(validation_losses)\n",
    "\n",
    "#                 print(\n",
    "#                     'epoch %i, minibatch %i/%i, validation error %f %%' %\n",
    "#                     (\n",
    "#                         epoch,\n",
    "#                         minibatch_index + 1,\n",
    "#                         n_train_batches,\n",
    "#                         this_validation_loss * 100.\n",
    "#                     )\n",
    "#                 )\n",
    "\n",
    "                # if we got the best validation score until now\n",
    "                if this_validation_loss < best_validation_loss:\n",
    "                    #improve patience if loss improvement is good enough\n",
    "                    if this_validation_loss < best_validation_loss *  \\\n",
    "                       improvement_threshold:\n",
    "                        patience = max(patience, iter * patience_increase)\n",
    "\n",
    "                    best_validation_loss = this_validation_loss\n",
    "                    # test it on the test set\n",
    "\n",
    "                    test_losses = [test_model(i)\n",
    "                                   for i in range(n_test_batches)]\n",
    "                    test_score = numpy.mean(test_losses)\n",
    "\n",
    "#                     print(\n",
    "#                         (\n",
    "#                             '     epoch %i, minibatch %i/%i, test error of'\n",
    "#                             ' best model %f %%'\n",
    "#                         ) %\n",
    "#                         (\n",
    "#                             epoch,\n",
    "#                             minibatch_index + 1,\n",
    "#                             n_train_batches,\n",
    "#                             test_score * 100.\n",
    "#                         )\n",
    "#                     )\n",
    "\n",
    "                    # save the best model\n",
    "                    with open('best_model.pkl', 'wb') as f:\n",
    "                        pickle.dump(classifier, f)\n",
    "\n",
    "            if patience <= iter:\n",
    "                done_looping = True\n",
    "                break\n",
    "\n",
    "    end_time = timeit.default_timer()\n",
    "    print(\n",
    "        (\n",
    "            'Optimization complete with best validation score of %f %%,'\n",
    "            'with test performance %f %%'\n",
    "        )\n",
    "        % (best_validation_loss * 100., test_score * 100.)\n",
    "    )\n",
    "    print('The code run for %d epochs, with %f epochs/sec' % (\n",
    "        epoch, 1. * epoch / (end_time - start_time)))\n",
    "    print(('The code for file ' +\n",
    "           ' ran for %.1fs' % ((end_time - start_time))), file=sys.stderr)\n",
    "\n"
   ]
  },
  {
   "cell_type": "code",
   "execution_count": 5,
   "metadata": {
    "collapsed": false
   },
   "outputs": [],
   "source": [
    "def predict():\n",
    "    \"\"\"\n",
    "    An example of how to load a trained model and use it\n",
    "    to predict labels.\n",
    "    \"\"\"\n",
    "\n",
    "    # load the saved model\n",
    "    classifier = pickle.load(open('best_model.pkl'))\n",
    "\n",
    "    # compile a predictor function\n",
    "    predict_model = theano.function(\n",
    "        inputs=[classifier.input],\n",
    "        outputs=classifier.y_pred)\n",
    "\n",
    "    # We can test it on some examples from test test\n",
    "    dataset='mnist.pkl.gz'\n",
    "    datasets = load_data(dataset,10)\n",
    "    test_set_x, test_set_y = datasets[2]\n",
    "    test_set_x = test_set_x.get_value()\n",
    "\n",
    "    predicted_values = predict_model(test_set_x)\n",
    "\n",
    "    return numpy.equal(test_set_y.eval(), predicted_values)\n",
    "\n"
   ]
  },
  {
   "cell_type": "code",
   "execution_count": 14,
   "metadata": {
    "collapsed": false,
    "scrolled": false
   },
   "outputs": [
    {
     "name": "stdout",
     "output_type": "stream",
     "text": [
      "Num dataset =  100\n",
      "Optimization complete with best validation score of 30.180000 %,with test performance 32.200000 %\n",
      "The code run for 501 epochs, with 6.125198 epochs/sec\n"
     ]
    },
    {
     "name": "stderr",
     "output_type": "stream",
     "text": [
      "The code for file  ran for 81.8s\n"
     ]
    },
    {
     "name": "stdout",
     "output_type": "stream",
     "text": [
      "Num dataset =  200\n",
      "Optimization complete with best validation score of 22.550000 %,with test performance 24.930000 %\n",
      "The code run for 251 epochs, with 6.060711 epochs/sec\n"
     ]
    },
    {
     "name": "stderr",
     "output_type": "stream",
     "text": [
      "The code for file  ran for 41.4s\n"
     ]
    },
    {
     "name": "stdout",
     "output_type": "stream",
     "text": [
      "Num dataset =  300\n",
      "Optimization complete with best validation score of 18.890000 %,with test performance 21.020000 %\n",
      "The code run for 167 epochs, with 5.629854 epochs/sec\n"
     ]
    },
    {
     "name": "stderr",
     "output_type": "stream",
     "text": [
      "The code for file  ran for 29.7s\n"
     ]
    },
    {
     "name": "stdout",
     "output_type": "stream",
     "text": [
      "Num dataset =  400\n",
      "Optimization complete with best validation score of 16.980000 %,with test performance 18.240000 %\n",
      "The code run for 126 epochs, with 4.849490 epochs/sec\n"
     ]
    },
    {
     "name": "stderr",
     "output_type": "stream",
     "text": [
      "The code for file  ran for 26.0s\n"
     ]
    },
    {
     "name": "stdout",
     "output_type": "stream",
     "text": [
      "Num dataset =  500\n",
      "Optimization complete with best validation score of 15.190000 %,with test performance 16.530000 %\n",
      "The code run for 101 epochs, with 5.325165 epochs/sec\n"
     ]
    },
    {
     "name": "stderr",
     "output_type": "stream",
     "text": [
      "The code for file  ran for 19.0s\n"
     ]
    },
    {
     "name": "stdout",
     "output_type": "stream",
     "text": [
      "Num dataset =  600\n",
      "Optimization complete with best validation score of 13.940000 %,with test performance 15.310000 %\n",
      "The code run for 84 epochs, with 5.376443 epochs/sec\n"
     ]
    },
    {
     "name": "stderr",
     "output_type": "stream",
     "text": [
      "The code for file  ran for 15.6s\n"
     ]
    },
    {
     "name": "stdout",
     "output_type": "stream",
     "text": [
      "Num dataset =  700\n",
      "Optimization complete with best validation score of 13.540000 %,with test performance 14.700000 %\n",
      "The code run for 72 epochs, with 4.928077 epochs/sec\n"
     ]
    },
    {
     "name": "stderr",
     "output_type": "stream",
     "text": [
      "The code for file  ran for 14.6s\n"
     ]
    },
    {
     "name": "stdout",
     "output_type": "stream",
     "text": [
      "Num dataset =  800\n",
      "Optimization complete with best validation score of 12.870000 %,with test performance 13.560000 %\n",
      "The code run for 63 epochs, with 5.082716 epochs/sec\n"
     ]
    },
    {
     "name": "stderr",
     "output_type": "stream",
     "text": [
      "The code for file  ran for 12.4s\n"
     ]
    },
    {
     "name": "stdout",
     "output_type": "stream",
     "text": [
      "Num dataset =  900\n",
      "Optimization complete with best validation score of 12.680000 %,with test performance 13.740000 %\n",
      "The code run for 56 epochs, with 4.966158 epochs/sec\n"
     ]
    },
    {
     "name": "stderr",
     "output_type": "stream",
     "text": [
      "The code for file  ran for 11.3s\n"
     ]
    },
    {
     "name": "stdout",
     "output_type": "stream",
     "text": [
      "Num dataset =  1000\n",
      "Optimization complete with best validation score of 13.100000 %,with test performance 14.200000 %\n",
      "The code run for 51 epochs, with 4.546330 epochs/sec\n"
     ]
    },
    {
     "name": "stderr",
     "output_type": "stream",
     "text": [
      "The code for file  ran for 11.2s\n"
     ]
    },
    {
     "name": "stdout",
     "output_type": "stream",
     "text": [
      "Num dataset =  1100\n",
      "Optimization complete with best validation score of 12.380000 %,with test performance 13.650000 %\n",
      "The code run for 46 epochs, with 4.791378 epochs/sec\n"
     ]
    },
    {
     "name": "stderr",
     "output_type": "stream",
     "text": [
      "The code for file  ran for 9.6s\n"
     ]
    },
    {
     "name": "stdout",
     "output_type": "stream",
     "text": [
      "Num dataset =  1200\n",
      "Optimization complete with best validation score of 12.690000 %,with test performance 13.440000 %\n",
      "The code run for 42 epochs, with 3.748797 epochs/sec\n"
     ]
    },
    {
     "name": "stderr",
     "output_type": "stream",
     "text": [
      "The code for file  ran for 11.2s\n"
     ]
    },
    {
     "name": "stdout",
     "output_type": "stream",
     "text": [
      "Num dataset =  1300\n",
      "Optimization complete with best validation score of 12.560000 %,with test performance 13.100000 %\n",
      "The code run for 39 epochs, with 4.684487 epochs/sec\n"
     ]
    },
    {
     "name": "stderr",
     "output_type": "stream",
     "text": [
      "The code for file  ran for 8.3s\n"
     ]
    },
    {
     "name": "stdout",
     "output_type": "stream",
     "text": [
      "Num dataset =  1400\n",
      "Optimization complete with best validation score of 12.520000 %,with test performance 13.140000 %\n",
      "The code run for 36 epochs, with 4.448776 epochs/sec\n"
     ]
    },
    {
     "name": "stderr",
     "output_type": "stream",
     "text": [
      "The code for file  ran for 8.1s\n"
     ]
    },
    {
     "name": "stdout",
     "output_type": "stream",
     "text": [
      "Num dataset =  1500\n",
      "Optimization complete with best validation score of 11.930000 %,with test performance 12.650000 %\n",
      "The code run for 34 epochs, with 4.366835 epochs/sec\n"
     ]
    },
    {
     "name": "stderr",
     "output_type": "stream",
     "text": [
      "The code for file  ran for 7.8s\n"
     ]
    },
    {
     "name": "stdout",
     "output_type": "stream",
     "text": [
      "Num dataset =  1600\n",
      "Optimization complete with best validation score of 12.000000 %,with test performance 12.380000 %\n",
      "The code run for 32 epochs, with 4.321902 epochs/sec\n"
     ]
    },
    {
     "name": "stderr",
     "output_type": "stream",
     "text": [
      "The code for file  ran for 7.4s\n"
     ]
    },
    {
     "name": "stdout",
     "output_type": "stream",
     "text": [
      "Num dataset =  1700\n",
      "Optimization complete with best validation score of 11.880000 %,with test performance 12.630000 %\n",
      "The code run for 30 epochs, with 3.874976 epochs/sec\n"
     ]
    },
    {
     "name": "stderr",
     "output_type": "stream",
     "text": [
      "The code for file  ran for 7.7s\n"
     ]
    },
    {
     "name": "stdout",
     "output_type": "stream",
     "text": [
      "Num dataset =  1800\n",
      "Optimization complete with best validation score of 11.680000 %,with test performance 12.510000 %\n",
      "The code run for 28 epochs, with 3.837588 epochs/sec\n"
     ]
    },
    {
     "name": "stderr",
     "output_type": "stream",
     "text": [
      "The code for file  ran for 7.3s\n"
     ]
    },
    {
     "name": "stdout",
     "output_type": "stream",
     "text": [
      "Num dataset =  1900\n",
      "Optimization complete with best validation score of 11.110000 %,with test performance 11.740000 %\n",
      "The code run for 27 epochs, with 3.965293 epochs/sec\n"
     ]
    },
    {
     "name": "stderr",
     "output_type": "stream",
     "text": [
      "The code for file  ran for 6.8s\n"
     ]
    },
    {
     "name": "stdout",
     "output_type": "stream",
     "text": [
      "Num dataset =  2000\n",
      "Optimization complete with best validation score of 10.710000 %,with test performance 11.310000 %\n",
      "The code run for 26 epochs, with 4.399549 epochs/sec\n"
     ]
    },
    {
     "name": "stderr",
     "output_type": "stream",
     "text": [
      "The code for file  ran for 5.9s\n"
     ]
    },
    {
     "name": "stdout",
     "output_type": "stream",
     "text": [
      "Num dataset =  2100\n",
      "Optimization complete with best validation score of 11.210000 %,with test performance 11.780000 %\n",
      "The code run for 24 epochs, with 3.974665 epochs/sec\n"
     ]
    },
    {
     "name": "stderr",
     "output_type": "stream",
     "text": [
      "The code for file  ran for 6.0s\n"
     ]
    },
    {
     "name": "stdout",
     "output_type": "stream",
     "text": [
      "Num dataset =  2200\n",
      "Optimization complete with best validation score of 10.890000 %,with test performance 11.400000 %\n",
      "The code run for 23 epochs, with 3.767193 epochs/sec\n"
     ]
    },
    {
     "name": "stderr",
     "output_type": "stream",
     "text": [
      "The code for file  ran for 6.1s\n"
     ]
    },
    {
     "name": "stdout",
     "output_type": "stream",
     "text": [
      "Num dataset =  2300\n",
      "Optimization complete with best validation score of 11.000000 %,with test performance 12.120000 %\n",
      "The code run for 22 epochs, with 3.727798 epochs/sec\n"
     ]
    },
    {
     "name": "stderr",
     "output_type": "stream",
     "text": [
      "The code for file  ran for 5.9s\n"
     ]
    },
    {
     "name": "stdout",
     "output_type": "stream",
     "text": [
      "Num dataset =  2400\n",
      "Optimization complete with best validation score of 10.220000 %,with test performance 11.210000 %\n",
      "The code run for 21 epochs, with 3.645132 epochs/sec\n"
     ]
    },
    {
     "name": "stderr",
     "output_type": "stream",
     "text": [
      "The code for file  ran for 5.8s\n"
     ]
    },
    {
     "name": "stdout",
     "output_type": "stream",
     "text": [
      "Num dataset =  2500\n",
      "Optimization complete with best validation score of 11.060000 %,with test performance 12.150000 %\n",
      "The code run for 21 epochs, with 3.297679 epochs/sec\n"
     ]
    },
    {
     "name": "stderr",
     "output_type": "stream",
     "text": [
      "The code for file  ran for 6.4s\n"
     ]
    },
    {
     "name": "stdout",
     "output_type": "stream",
     "text": [
      "Num dataset =  2600\n",
      "Optimization complete with best validation score of 10.770000 %,with test performance 11.700000 %\n",
      "The code run for 20 epochs, with 3.523061 epochs/sec\n"
     ]
    },
    {
     "name": "stderr",
     "output_type": "stream",
     "text": [
      "The code for file  ran for 5.7s\n"
     ]
    },
    {
     "name": "stdout",
     "output_type": "stream",
     "text": [
      "Num dataset =  2700\n",
      "Optimization complete with best validation score of 10.660000 %,with test performance 11.360000 %\n",
      "The code run for 19 epochs, with 3.518863 epochs/sec\n"
     ]
    },
    {
     "name": "stderr",
     "output_type": "stream",
     "text": [
      "The code for file  ran for 5.4s\n"
     ]
    },
    {
     "name": "stdout",
     "output_type": "stream",
     "text": [
      "Num dataset =  2800\n",
      "Optimization complete with best validation score of 10.570000 %,with test performance 11.400000 %\n",
      "The code run for 34 epochs, with 3.150408 epochs/sec\n"
     ]
    },
    {
     "name": "stderr",
     "output_type": "stream",
     "text": [
      "The code for file  ran for 10.8s\n"
     ]
    },
    {
     "name": "stdout",
     "output_type": "stream",
     "text": [
      "Num dataset =  2900\n",
      "Optimization complete with best validation score of 10.750000 %,with test performance 10.860000 %\n",
      "The code run for 18 epochs, with 3.516312 epochs/sec\n"
     ]
    },
    {
     "name": "stderr",
     "output_type": "stream",
     "text": [
      "The code for file  ran for 5.1s\n"
     ]
    },
    {
     "name": "stdout",
     "output_type": "stream",
     "text": [
      "Num dataset =  3000\n",
      "Optimization complete with best validation score of 10.550000 %,with test performance 10.960000 %\n",
      "The code run for 17 epochs, with 3.306038 epochs/sec\n"
     ]
    },
    {
     "name": "stderr",
     "output_type": "stream",
     "text": [
      "The code for file  ran for 5.1s\n"
     ]
    },
    {
     "name": "stdout",
     "output_type": "stream",
     "text": [
      "Num dataset =  3100\n",
      "Optimization complete with best validation score of 11.410000 %,with test performance 11.610000 %\n",
      "The code run for 17 epochs, with 3.550354 epochs/sec\n"
     ]
    },
    {
     "name": "stderr",
     "output_type": "stream",
     "text": [
      "The code for file  ran for 4.8s\n"
     ]
    },
    {
     "name": "stdout",
     "output_type": "stream",
     "text": [
      "Num dataset =  3200\n",
      "Optimization complete with best validation score of 10.120000 %,with test performance 10.640000 %\n",
      "The code run for 16 epochs, with 3.453882 epochs/sec\n"
     ]
    },
    {
     "name": "stderr",
     "output_type": "stream",
     "text": [
      "The code for file  ran for 4.6s\n"
     ]
    },
    {
     "name": "stdout",
     "output_type": "stream",
     "text": [
      "Num dataset =  3300\n",
      "Optimization complete with best validation score of 10.310000 %,with test performance 11.200000 %\n",
      "The code run for 16 epochs, with 3.340817 epochs/sec\n"
     ]
    },
    {
     "name": "stderr",
     "output_type": "stream",
     "text": [
      "The code for file  ran for 4.8s\n"
     ]
    },
    {
     "name": "stdout",
     "output_type": "stream",
     "text": [
      "Num dataset =  3400\n",
      "Optimization complete with best validation score of 10.320000 %,with test performance 11.450000 %\n",
      "The code run for 24 epochs, with 2.967112 epochs/sec\n"
     ]
    },
    {
     "name": "stderr",
     "output_type": "stream",
     "text": [
      "The code for file  ran for 8.1s\n"
     ]
    },
    {
     "name": "stdout",
     "output_type": "stream",
     "text": [
      "Num dataset =  3500\n",
      "Optimization complete with best validation score of 10.020000 %,with test performance 10.960000 %\n",
      "The code run for 22 epochs, with 3.015187 epochs/sec\n"
     ]
    },
    {
     "name": "stderr",
     "output_type": "stream",
     "text": [
      "The code for file  ran for 7.3s\n"
     ]
    },
    {
     "name": "stdout",
     "output_type": "stream",
     "text": [
      "Num dataset =  3600\n",
      "Optimization complete with best validation score of 10.570000 %,with test performance 11.150000 %\n",
      "The code run for 14 epochs, with 2.987899 epochs/sec\n"
     ]
    },
    {
     "name": "stderr",
     "output_type": "stream",
     "text": [
      "The code for file  ran for 4.7s\n"
     ]
    },
    {
     "name": "stdout",
     "output_type": "stream",
     "text": [
      "Num dataset =  3700\n",
      "Optimization complete with best validation score of 10.050000 %,with test performance 10.700000 %\n",
      "The code run for 14 epochs, with 2.880232 epochs/sec\n"
     ]
    },
    {
     "name": "stderr",
     "output_type": "stream",
     "text": [
      "The code for file  ran for 4.9s\n"
     ]
    },
    {
     "name": "stdout",
     "output_type": "stream",
     "text": [
      "Num dataset =  3800\n",
      "Optimization complete with best validation score of 10.030000 %,with test performance 10.620000 %\n",
      "The code run for 14 epochs, with 2.860984 epochs/sec\n"
     ]
    },
    {
     "name": "stderr",
     "output_type": "stream",
     "text": [
      "The code for file  ran for 4.9s\n"
     ]
    },
    {
     "name": "stdout",
     "output_type": "stream",
     "text": [
      "Num dataset =  3900\n",
      "Optimization complete with best validation score of 9.680000 %,with test performance 10.340000 %\n",
      "The code run for 13 epochs, with 2.830352 epochs/sec\n"
     ]
    },
    {
     "name": "stderr",
     "output_type": "stream",
     "text": [
      "The code for file  ran for 4.6s\n"
     ]
    },
    {
     "name": "stdout",
     "output_type": "stream",
     "text": [
      "Num dataset =  4000\n",
      "Optimization complete with best validation score of 9.920000 %,with test performance 10.390000 %\n",
      "The code run for 13 epochs, with 2.917521 epochs/sec\n"
     ]
    },
    {
     "name": "stderr",
     "output_type": "stream",
     "text": [
      "The code for file  ran for 4.5s\n"
     ]
    },
    {
     "name": "stdout",
     "output_type": "stream",
     "text": [
      "Num dataset =  4100\n",
      "Optimization complete with best validation score of 9.790000 %,with test performance 10.190000 %\n",
      "The code run for 13 epochs, with 2.921193 epochs/sec\n"
     ]
    },
    {
     "name": "stderr",
     "output_type": "stream",
     "text": [
      "The code for file  ran for 4.5s\n"
     ]
    },
    {
     "name": "stdout",
     "output_type": "stream",
     "text": [
      "Num dataset =  4200\n",
      "Optimization complete with best validation score of 9.850000 %,with test performance 10.430000 %\n",
      "The code run for 20 epochs, with 2.936495 epochs/sec\n"
     ]
    },
    {
     "name": "stderr",
     "output_type": "stream",
     "text": [
      "The code for file  ran for 6.8s\n"
     ]
    },
    {
     "name": "stdout",
     "output_type": "stream",
     "text": [
      "Num dataset =  4300\n",
      "Optimization complete with best validation score of 10.180000 %,with test performance 11.080000 %\n",
      "The code run for 32 epochs, with 2.755998 epochs/sec\n"
     ]
    },
    {
     "name": "stderr",
     "output_type": "stream",
     "text": [
      "The code for file  ran for 11.6s\n"
     ]
    },
    {
     "name": "stdout",
     "output_type": "stream",
     "text": [
      "Num dataset =  4400\n",
      "Optimization complete with best validation score of 9.630000 %,with test performance 10.240000 %\n",
      "The code run for 12 epochs, with 3.089354 epochs/sec\n"
     ]
    },
    {
     "name": "stderr",
     "output_type": "stream",
     "text": [
      "The code for file  ran for 3.9s\n"
     ]
    },
    {
     "name": "stdout",
     "output_type": "stream",
     "text": [
      "Num dataset =  4500\n",
      "Optimization complete with best validation score of 9.480000 %,with test performance 10.020000 %\n",
      "The code run for 12 epochs, with 2.916771 epochs/sec\n"
     ]
    },
    {
     "name": "stderr",
     "output_type": "stream",
     "text": [
      "The code for file  ran for 4.1s\n"
     ]
    },
    {
     "name": "stdout",
     "output_type": "stream",
     "text": [
      "Num dataset =  4600\n",
      "Optimization complete with best validation score of 9.280000 %,with test performance 9.900000 %\n",
      "The code run for 14 epochs, with 2.703706 epochs/sec\n"
     ]
    },
    {
     "name": "stderr",
     "output_type": "stream",
     "text": [
      "The code for file  ran for 5.2s\n"
     ]
    },
    {
     "name": "stdout",
     "output_type": "stream",
     "text": [
      "Num dataset =  4700\n",
      "Optimization complete with best validation score of 9.610000 %,with test performance 10.370000 %\n",
      "The code run for 22 epochs, with 2.626019 epochs/sec\n"
     ]
    },
    {
     "name": "stderr",
     "output_type": "stream",
     "text": [
      "The code for file  ran for 8.4s\n"
     ]
    },
    {
     "name": "stdout",
     "output_type": "stream",
     "text": [
      "Num dataset =  4800\n",
      "Optimization complete with best validation score of 9.800000 %,with test performance 10.680000 %\n",
      "The code run for 14 epochs, with 2.624371 epochs/sec\n"
     ]
    },
    {
     "name": "stderr",
     "output_type": "stream",
     "text": [
      "The code for file  ran for 5.3s\n"
     ]
    },
    {
     "name": "stdout",
     "output_type": "stream",
     "text": [
      "Num dataset =  4900\n",
      "Optimization complete with best validation score of 9.520000 %,with test performance 10.560000 %\n",
      "The code run for 16 epochs, with 2.588611 epochs/sec\n"
     ]
    },
    {
     "name": "stderr",
     "output_type": "stream",
     "text": [
      "The code for file  ran for 6.2s\n"
     ]
    },
    {
     "name": "stdout",
     "output_type": "stream",
     "text": [
      "Num dataset =  5000\n",
      "Optimization complete with best validation score of 9.260000 %,with test performance 10.300000 %\n",
      "The code run for 14 epochs, with 2.370843 epochs/sec\n"
     ]
    },
    {
     "name": "stderr",
     "output_type": "stream",
     "text": [
      "The code for file  ran for 5.9s\n"
     ]
    },
    {
     "name": "stdout",
     "output_type": "stream",
     "text": [
      "Num dataset =  5100\n",
      "Optimization complete with best validation score of 9.290000 %,with test performance 9.900000 %\n",
      "The code run for 16 epochs, with 2.625339 epochs/sec\n"
     ]
    },
    {
     "name": "stderr",
     "output_type": "stream",
     "text": [
      "The code for file  ran for 6.1s\n"
     ]
    },
    {
     "name": "stdout",
     "output_type": "stream",
     "text": [
      "Num dataset =  5200\n",
      "Optimization complete with best validation score of 9.590000 %,with test performance 10.040000 %\n",
      "The code run for 10 epochs, with 2.330755 epochs/sec\n"
     ]
    },
    {
     "name": "stderr",
     "output_type": "stream",
     "text": [
      "The code for file  ran for 4.3s\n"
     ]
    },
    {
     "name": "stdout",
     "output_type": "stream",
     "text": [
      "Num dataset =  5300\n",
      "Optimization complete with best validation score of 9.590000 %,with test performance 9.960000 %\n",
      "The code run for 10 epochs, with 2.669623 epochs/sec\n"
     ]
    },
    {
     "name": "stderr",
     "output_type": "stream",
     "text": [
      "The code for file  ran for 3.7s\n"
     ]
    },
    {
     "name": "stdout",
     "output_type": "stream",
     "text": [
      "Num dataset =  5400\n",
      "Optimization complete with best validation score of 9.400000 %,with test performance 9.800000 %\n",
      "The code run for 12 epochs, with 2.423944 epochs/sec\n"
     ]
    },
    {
     "name": "stderr",
     "output_type": "stream",
     "text": [
      "The code for file  ran for 5.0s\n"
     ]
    },
    {
     "name": "stdout",
     "output_type": "stream",
     "text": [
      "Num dataset =  5500\n",
      "Optimization complete with best validation score of 9.230000 %,with test performance 9.650000 %\n",
      "The code run for 12 epochs, with 2.583494 epochs/sec\n"
     ]
    },
    {
     "name": "stderr",
     "output_type": "stream",
     "text": [
      "The code for file  ran for 4.6s\n"
     ]
    },
    {
     "name": "stdout",
     "output_type": "stream",
     "text": [
      "Num dataset =  5600\n",
      "Optimization complete with best validation score of 9.710000 %,with test performance 10.070000 %\n",
      "The code run for 18 epochs, with 2.553244 epochs/sec\n"
     ]
    },
    {
     "name": "stderr",
     "output_type": "stream",
     "text": [
      "The code for file  ran for 7.0s\n"
     ]
    },
    {
     "name": "stdout",
     "output_type": "stream",
     "text": [
      "Num dataset =  5700\n",
      "Optimization complete with best validation score of 9.620000 %,with test performance 10.210000 %\n",
      "The code run for 9 epochs, with 2.746005 epochs/sec\n"
     ]
    },
    {
     "name": "stderr",
     "output_type": "stream",
     "text": [
      "The code for file  ran for 3.3s\n"
     ]
    },
    {
     "name": "stdout",
     "output_type": "stream",
     "text": [
      "Num dataset =  5800\n",
      "Optimization complete with best validation score of 9.380000 %,with test performance 10.190000 %\n",
      "The code run for 10 epochs, with 2.438183 epochs/sec\n"
     ]
    },
    {
     "name": "stderr",
     "output_type": "stream",
     "text": [
      "The code for file  ran for 4.1s\n"
     ]
    },
    {
     "name": "stdout",
     "output_type": "stream",
     "text": [
      "Num dataset =  5900\n",
      "Optimization complete with best validation score of 9.720000 %,with test performance 10.190000 %\n",
      "The code run for 16 epochs, with 2.247310 epochs/sec\n"
     ]
    },
    {
     "name": "stderr",
     "output_type": "stream",
     "text": [
      "The code for file  ran for 7.1s\n"
     ]
    },
    {
     "name": "stdout",
     "output_type": "stream",
     "text": [
      "Num dataset =  6000\n",
      "Optimization complete with best validation score of 9.310000 %,with test performance 9.940000 %\n",
      "The code run for 10 epochs, with 2.429726 epochs/sec\n"
     ]
    },
    {
     "name": "stderr",
     "output_type": "stream",
     "text": [
      "The code for file  ran for 4.1s\n"
     ]
    },
    {
     "name": "stdout",
     "output_type": "stream",
     "text": [
      "Num dataset =  6100\n",
      "Optimization complete with best validation score of 9.590000 %,with test performance 9.970000 %\n",
      "The code run for 9 epochs, with 2.360167 epochs/sec\n"
     ]
    },
    {
     "name": "stderr",
     "output_type": "stream",
     "text": [
      "The code for file  ran for 3.8s\n"
     ]
    },
    {
     "name": "stdout",
     "output_type": "stream",
     "text": [
      "Num dataset =  6200\n",
      "Optimization complete with best validation score of 9.770000 %,with test performance 10.430000 %\n",
      "The code run for 9 epochs, with 2.610697 epochs/sec\n"
     ]
    },
    {
     "name": "stderr",
     "output_type": "stream",
     "text": [
      "The code for file  ran for 3.4s\n"
     ]
    },
    {
     "name": "stdout",
     "output_type": "stream",
     "text": [
      "Num dataset =  6300\n",
      "Optimization complete with best validation score of 9.930000 %,with test performance 10.460000 %\n",
      "The code run for 10 epochs, with 2.206563 epochs/sec\n"
     ]
    },
    {
     "name": "stderr",
     "output_type": "stream",
     "text": [
      "The code for file  ran for 4.5s\n"
     ]
    },
    {
     "name": "stdout",
     "output_type": "stream",
     "text": [
      "Num dataset =  6400\n",
      "Optimization complete with best validation score of 9.910000 %,with test performance 10.420000 %\n",
      "The code run for 8 epochs, with 2.383528 epochs/sec\n"
     ]
    },
    {
     "name": "stderr",
     "output_type": "stream",
     "text": [
      "The code for file  ran for 3.4s\n"
     ]
    },
    {
     "name": "stdout",
     "output_type": "stream",
     "text": [
      "Num dataset =  6500\n",
      "Optimization complete with best validation score of 9.610000 %,with test performance 10.180000 %\n",
      "The code run for 10 epochs, with 2.205601 epochs/sec\n"
     ]
    },
    {
     "name": "stderr",
     "output_type": "stream",
     "text": [
      "The code for file  ran for 4.5s\n"
     ]
    },
    {
     "name": "stdout",
     "output_type": "stream",
     "text": [
      "Num dataset =  6600\n",
      "Optimization complete with best validation score of 9.640000 %,with test performance 9.880000 %\n",
      "The code run for 8 epochs, with 2.310807 epochs/sec\n"
     ]
    },
    {
     "name": "stderr",
     "output_type": "stream",
     "text": [
      "The code for file  ran for 3.5s\n"
     ]
    },
    {
     "name": "stdout",
     "output_type": "stream",
     "text": [
      "Num dataset =  6700\n",
      "Optimization complete with best validation score of 9.130000 %,with test performance 9.640000 %\n",
      "The code run for 14 epochs, with 2.257462 epochs/sec\n"
     ]
    },
    {
     "name": "stderr",
     "output_type": "stream",
     "text": [
      "The code for file  ran for 6.2s\n"
     ]
    },
    {
     "name": "stdout",
     "output_type": "stream",
     "text": [
      "Num dataset =  6800\n",
      "Optimization complete with best validation score of 10.160000 %,with test performance 10.760000 %\n",
      "The code run for 10 epochs, with 2.189799 epochs/sec\n"
     ]
    },
    {
     "name": "stderr",
     "output_type": "stream",
     "text": [
      "The code for file  ran for 4.6s\n"
     ]
    },
    {
     "name": "stdout",
     "output_type": "stream",
     "text": [
      "Num dataset =  6900\n",
      "Optimization complete with best validation score of 9.850000 %,with test performance 10.330000 %\n",
      "The code run for 8 epochs, with 2.397885 epochs/sec\n"
     ]
    },
    {
     "name": "stderr",
     "output_type": "stream",
     "text": [
      "The code for file  ran for 3.3s\n"
     ]
    },
    {
     "name": "stdout",
     "output_type": "stream",
     "text": [
      "Num dataset =  7000\n",
      "Optimization complete with best validation score of 9.080000 %,with test performance 9.640000 %\n",
      "The code run for 8 epochs, with 2.477398 epochs/sec\n"
     ]
    },
    {
     "name": "stderr",
     "output_type": "stream",
     "text": [
      "The code for file  ran for 3.2s\n"
     ]
    },
    {
     "name": "stdout",
     "output_type": "stream",
     "text": [
      "Num dataset =  7100\n",
      "Optimization complete with best validation score of 9.290000 %,with test performance 9.850000 %\n",
      "The code run for 10 epochs, with 2.118199 epochs/sec\n"
     ]
    },
    {
     "name": "stderr",
     "output_type": "stream",
     "text": [
      "The code for file  ran for 4.7s\n"
     ]
    },
    {
     "name": "stdout",
     "output_type": "stream",
     "text": [
      "Num dataset =  7200\n",
      "Optimization complete with best validation score of 9.650000 %,with test performance 10.280000 %\n",
      "The code run for 18 epochs, with 2.163326 epochs/sec\n"
     ]
    },
    {
     "name": "stderr",
     "output_type": "stream",
     "text": [
      "The code for file  ran for 8.3s\n"
     ]
    },
    {
     "name": "stdout",
     "output_type": "stream",
     "text": [
      "Num dataset =  7300\n",
      "Optimization complete with best validation score of 9.130000 %,with test performance 9.960000 %\n",
      "The code run for 7 epochs, with 2.290480 epochs/sec\n"
     ]
    },
    {
     "name": "stderr",
     "output_type": "stream",
     "text": [
      "The code for file  ran for 3.1s\n"
     ]
    },
    {
     "name": "stdout",
     "output_type": "stream",
     "text": [
      "Num dataset =  7400\n",
      "Optimization complete with best validation score of 9.960000 %,with test performance 10.980000 %\n",
      "The code run for 12 epochs, with 2.180299 epochs/sec\n"
     ]
    },
    {
     "name": "stderr",
     "output_type": "stream",
     "text": [
      "The code for file  ran for 5.5s\n"
     ]
    },
    {
     "name": "stdout",
     "output_type": "stream",
     "text": [
      "Num dataset =  7500\n",
      "Optimization complete with best validation score of 9.470000 %,with test performance 10.360000 %\n",
      "The code run for 12 epochs, with 2.090569 epochs/sec\n"
     ]
    },
    {
     "name": "stderr",
     "output_type": "stream",
     "text": [
      "The code for file  ran for 5.7s\n"
     ]
    },
    {
     "name": "stdout",
     "output_type": "stream",
     "text": [
      "Num dataset =  7600\n",
      "Optimization complete with best validation score of 9.080000 %,with test performance 9.640000 %\n",
      "The code run for 12 epochs, with 2.175047 epochs/sec\n"
     ]
    },
    {
     "name": "stderr",
     "output_type": "stream",
     "text": [
      "The code for file  ran for 5.5s\n"
     ]
    },
    {
     "name": "stdout",
     "output_type": "stream",
     "text": [
      "Num dataset =  7700\n",
      "Optimization complete with best validation score of 9.160000 %,with test performance 9.830000 %\n",
      "The code run for 18 epochs, with 2.037566 epochs/sec\n"
     ]
    },
    {
     "name": "stderr",
     "output_type": "stream",
     "text": [
      "The code for file  ran for 8.8s\n"
     ]
    },
    {
     "name": "stdout",
     "output_type": "stream",
     "text": [
      "Num dataset =  7800\n",
      "Optimization complete with best validation score of 9.560000 %,with test performance 10.100000 %\n",
      "The code run for 18 epochs, with 1.904441 epochs/sec\n"
     ]
    },
    {
     "name": "stderr",
     "output_type": "stream",
     "text": [
      "The code for file  ran for 9.5s\n"
     ]
    },
    {
     "name": "stdout",
     "output_type": "stream",
     "text": [
      "Num dataset =  7900\n",
      "Optimization complete with best validation score of 9.620000 %,with test performance 10.150000 %\n",
      "The code run for 34 epochs, with 2.151416 epochs/sec\n"
     ]
    },
    {
     "name": "stderr",
     "output_type": "stream",
     "text": [
      "The code for file  ran for 15.8s\n"
     ]
    },
    {
     "name": "stdout",
     "output_type": "stream",
     "text": [
      "Num dataset =  8000\n",
      "Optimization complete with best validation score of 10.010000 %,with test performance 10.110000 %\n",
      "The code run for 7 epochs, with 2.089560 epochs/sec\n"
     ]
    },
    {
     "name": "stderr",
     "output_type": "stream",
     "text": [
      "The code for file  ran for 3.3s\n"
     ]
    },
    {
     "name": "stdout",
     "output_type": "stream",
     "text": [
      "Num dataset =  8100\n",
      "Optimization complete with best validation score of 9.600000 %,with test performance 9.760000 %\n",
      "The code run for 8 epochs, with 2.061530 epochs/sec\n"
     ]
    },
    {
     "name": "stderr",
     "output_type": "stream",
     "text": [
      "The code for file  ran for 3.9s\n"
     ]
    },
    {
     "name": "stdout",
     "output_type": "stream",
     "text": [
      "Num dataset =  8200\n",
      "Optimization complete with best validation score of 9.500000 %,with test performance 10.430000 %\n",
      "The code run for 24 epochs, with 2.059645 epochs/sec\n"
     ]
    },
    {
     "name": "stderr",
     "output_type": "stream",
     "text": [
      "The code for file  ran for 11.7s\n"
     ]
    },
    {
     "name": "stdout",
     "output_type": "stream",
     "text": [
      "Num dataset =  8300\n",
      "Optimization complete with best validation score of 10.270000 %,with test performance 11.140000 %\n",
      "The code run for 10 epochs, with 1.875511 epochs/sec\n"
     ]
    },
    {
     "name": "stderr",
     "output_type": "stream",
     "text": [
      "The code for file  ran for 5.3s\n"
     ]
    },
    {
     "name": "stdout",
     "output_type": "stream",
     "text": [
      "Num dataset =  8400\n",
      "Optimization complete with best validation score of 9.160000 %,with test performance 9.700000 %\n",
      "The code run for 10 epochs, with 2.062702 epochs/sec\n"
     ]
    },
    {
     "name": "stderr",
     "output_type": "stream",
     "text": [
      "The code for file  ran for 4.8s\n"
     ]
    },
    {
     "name": "stdout",
     "output_type": "stream",
     "text": [
      "Num dataset =  8500\n",
      "Optimization complete with best validation score of 9.810000 %,with test performance 10.270000 %\n",
      "The code run for 16 epochs, with 1.999748 epochs/sec\n"
     ]
    },
    {
     "name": "stderr",
     "output_type": "stream",
     "text": [
      "The code for file  ran for 8.0s\n"
     ]
    },
    {
     "name": "stdout",
     "output_type": "stream",
     "text": [
      "Num dataset =  8600\n",
      "Optimization complete with best validation score of 9.630000 %,with test performance 9.820000 %\n",
      "The code run for 18 epochs, with 2.039070 epochs/sec\n"
     ]
    },
    {
     "name": "stderr",
     "output_type": "stream",
     "text": [
      "The code for file  ran for 8.8s\n"
     ]
    },
    {
     "name": "stdout",
     "output_type": "stream",
     "text": [
      "Num dataset =  8700\n",
      "Optimization complete with best validation score of 10.010000 %,with test performance 9.930000 %\n",
      "The code run for 6 epochs, with 1.883258 epochs/sec\n"
     ]
    },
    {
     "name": "stderr",
     "output_type": "stream",
     "text": [
      "The code for file  ran for 3.2s\n"
     ]
    },
    {
     "name": "stdout",
     "output_type": "stream",
     "text": [
      "Num dataset =  8800\n",
      "Optimization complete with best validation score of 9.530000 %,with test performance 9.590000 %\n",
      "The code run for 8 epochs, with 1.770964 epochs/sec\n"
     ]
    },
    {
     "name": "stderr",
     "output_type": "stream",
     "text": [
      "The code for file  ran for 4.5s\n"
     ]
    },
    {
     "name": "stdout",
     "output_type": "stream",
     "text": [
      "Num dataset =  8900\n",
      "Optimization complete with best validation score of 10.500000 %,with test performance 10.690000 %\n",
      "The code run for 28 epochs, with 1.962701 epochs/sec\n"
     ]
    },
    {
     "name": "stderr",
     "output_type": "stream",
     "text": [
      "The code for file  ran for 14.3s\n"
     ]
    },
    {
     "name": "stdout",
     "output_type": "stream",
     "text": [
      "Num dataset =  9000\n",
      "Optimization complete with best validation score of 10.010000 %,with test performance 10.090000 %\n",
      "The code run for 12 epochs, with 1.881864 epochs/sec\n"
     ]
    },
    {
     "name": "stderr",
     "output_type": "stream",
     "text": [
      "The code for file  ran for 6.4s\n"
     ]
    },
    {
     "name": "stdout",
     "output_type": "stream",
     "text": [
      "Num dataset =  9100\n",
      "Optimization complete with best validation score of 9.600000 %,with test performance 9.600000 %\n",
      "The code run for 14 epochs, with 1.818743 epochs/sec\n"
     ]
    },
    {
     "name": "stderr",
     "output_type": "stream",
     "text": [
      "The code for file  ran for 7.7s\n"
     ]
    },
    {
     "name": "stdout",
     "output_type": "stream",
     "text": [
      "Num dataset =  9200\n",
      "Optimization complete with best validation score of 9.600000 %,with test performance 9.810000 %\n",
      "The code run for 8 epochs, with 1.852006 epochs/sec\n"
     ]
    },
    {
     "name": "stderr",
     "output_type": "stream",
     "text": [
      "The code for file  ran for 4.3s\n"
     ]
    },
    {
     "name": "stdout",
     "output_type": "stream",
     "text": [
      "Num dataset =  9300\n",
      "Optimization complete with best validation score of 9.550000 %,with test performance 9.460000 %\n",
      "The code run for 12 epochs, with 1.843759 epochs/sec\n"
     ]
    },
    {
     "name": "stderr",
     "output_type": "stream",
     "text": [
      "The code for file  ran for 6.5s\n"
     ]
    },
    {
     "name": "stdout",
     "output_type": "stream",
     "text": [
      "Num dataset =  9400\n",
      "Optimization complete with best validation score of 9.570000 %,with test performance 10.110000 %\n",
      "The code run for 8 epochs, with 1.935097 epochs/sec\n"
     ]
    },
    {
     "name": "stderr",
     "output_type": "stream",
     "text": [
      "The code for file  ran for 4.1s\n"
     ]
    },
    {
     "name": "stdout",
     "output_type": "stream",
     "text": [
      "Num dataset =  9500\n",
      "Optimization complete with best validation score of 9.840000 %,with test performance 10.540000 %\n",
      "The code run for 6 epochs, with 1.948717 epochs/sec\n"
     ]
    },
    {
     "name": "stderr",
     "output_type": "stream",
     "text": [
      "The code for file  ran for 3.1s\n"
     ]
    },
    {
     "name": "stdout",
     "output_type": "stream",
     "text": [
      "Num dataset =  9600\n",
      "Optimization complete with best validation score of 9.530000 %,with test performance 10.230000 %\n",
      "The code run for 20 epochs, with 1.882869 epochs/sec\n"
     ]
    },
    {
     "name": "stderr",
     "output_type": "stream",
     "text": [
      "The code for file  ran for 10.6s\n"
     ]
    },
    {
     "name": "stdout",
     "output_type": "stream",
     "text": [
      "Num dataset =  9700\n",
      "Optimization complete with best validation score of 9.370000 %,with test performance 9.940000 %\n",
      "The code run for 14 epochs, with 1.846119 epochs/sec\n"
     ]
    },
    {
     "name": "stderr",
     "output_type": "stream",
     "text": [
      "The code for file  ran for 7.6s\n"
     ]
    },
    {
     "name": "stdout",
     "output_type": "stream",
     "text": [
      "Num dataset =  9800\n",
      "Optimization complete with best validation score of 9.510000 %,with test performance 9.940000 %\n",
      "The code run for 20 epochs, with 1.793656 epochs/sec\n"
     ]
    },
    {
     "name": "stderr",
     "output_type": "stream",
     "text": [
      "The code for file  ran for 11.2s\n"
     ]
    },
    {
     "name": "stdout",
     "output_type": "stream",
     "text": [
      "Num dataset =  9900\n",
      "Optimization complete with best validation score of 9.460000 %,with test performance 9.940000 %\n",
      "The code run for 24 epochs, with 1.861137 epochs/sec\n"
     ]
    },
    {
     "name": "stderr",
     "output_type": "stream",
     "text": [
      "The code for file  ran for 12.9s\n"
     ]
    },
    {
     "name": "stdout",
     "output_type": "stream",
     "text": [
      "Num dataset =  10000\n",
      "Optimization complete with best validation score of 9.160000 %,with test performance 9.530000 %\n",
      "The code run for 8 epochs, with 1.705091 epochs/sec\n"
     ]
    },
    {
     "name": "stderr",
     "output_type": "stream",
     "text": [
      "The code for file  ran for 4.7s\n"
     ]
    },
    {
     "name": "stdout",
     "output_type": "stream",
     "text": [
      "Num dataset =  10100\n",
      "Optimization complete with best validation score of 9.130000 %,with test performance 9.710000 %\n",
      "The code run for 20 epochs, with 1.749193 epochs/sec\n"
     ]
    },
    {
     "name": "stderr",
     "output_type": "stream",
     "text": [
      "The code for file  ran for 11.4s\n"
     ]
    },
    {
     "name": "stdout",
     "output_type": "stream",
     "text": [
      "Num dataset =  10200\n",
      "Optimization complete with best validation score of 8.980000 %,with test performance 9.530000 %\n",
      "The code run for 8 epochs, with 1.818449 epochs/sec\n"
     ]
    },
    {
     "name": "stderr",
     "output_type": "stream",
     "text": [
      "The code for file  ran for 4.4s\n"
     ]
    },
    {
     "name": "stdout",
     "output_type": "stream",
     "text": [
      "Num dataset =  10300\n",
      "Optimization complete with best validation score of 10.770000 %,with test performance 11.340000 %\n",
      "The code run for 6 epochs, with 1.814891 epochs/sec\n"
     ]
    },
    {
     "name": "stderr",
     "output_type": "stream",
     "text": [
      "The code for file  ran for 3.3s\n"
     ]
    },
    {
     "name": "stdout",
     "output_type": "stream",
     "text": [
      "Num dataset =  10400\n",
      "Optimization complete with best validation score of 10.320000 %,with test performance 10.380000 %\n",
      "The code run for 6 epochs, with 1.737257 epochs/sec\n"
     ]
    },
    {
     "name": "stderr",
     "output_type": "stream",
     "text": [
      "The code for file  ran for 3.5s\n"
     ]
    },
    {
     "name": "stdout",
     "output_type": "stream",
     "text": [
      "Num dataset =  10500\n",
      "Optimization complete with best validation score of 8.840000 %,with test performance 9.010000 %\n",
      "The code run for 8 epochs, with 1.737059 epochs/sec\n"
     ]
    },
    {
     "name": "stderr",
     "output_type": "stream",
     "text": [
      "The code for file  ran for 4.6s\n"
     ]
    },
    {
     "name": "stdout",
     "output_type": "stream",
     "text": [
      "Num dataset =  10600\n",
      "Optimization complete with best validation score of 8.850000 %,with test performance 8.930000 %\n",
      "The code run for 8 epochs, with 1.737212 epochs/sec\n"
     ]
    },
    {
     "name": "stderr",
     "output_type": "stream",
     "text": [
      "The code for file  ran for 4.6s\n"
     ]
    },
    {
     "name": "stdout",
     "output_type": "stream",
     "text": [
      "Num dataset =  10700\n",
      "Optimization complete with best validation score of 8.660000 %,with test performance 8.660000 %\n",
      "The code run for 8 epochs, with 1.705262 epochs/sec\n"
     ]
    },
    {
     "name": "stderr",
     "output_type": "stream",
     "text": [
      "The code for file  ran for 4.7s\n"
     ]
    },
    {
     "name": "stdout",
     "output_type": "stream",
     "text": [
      "Num dataset =  10800\n",
      "Optimization complete with best validation score of 8.880000 %,with test performance 9.510000 %\n",
      "The code run for 20 epochs, with 1.816148 epochs/sec\n"
     ]
    },
    {
     "name": "stderr",
     "output_type": "stream",
     "text": [
      "The code for file  ran for 11.0s\n"
     ]
    },
    {
     "name": "stdout",
     "output_type": "stream",
     "text": [
      "Num dataset =  10900\n",
      "Optimization complete with best validation score of 8.720000 %,with test performance 9.080000 %\n",
      "The code run for 14 epochs, with 1.714620 epochs/sec\n"
     ]
    },
    {
     "name": "stderr",
     "output_type": "stream",
     "text": [
      "The code for file  ran for 8.2s\n"
     ]
    },
    {
     "name": "stdout",
     "output_type": "stream",
     "text": [
      "Num dataset =  11000\n",
      "Optimization complete with best validation score of 8.720000 %,with test performance 9.280000 %\n",
      "The code run for 8 epochs, with 1.766211 epochs/sec\n"
     ]
    },
    {
     "name": "stderr",
     "output_type": "stream",
     "text": [
      "The code for file  ran for 4.5s\n"
     ]
    },
    {
     "name": "stdout",
     "output_type": "stream",
     "text": [
      "Num dataset =  11100\n",
      "Optimization complete with best validation score of 9.110000 %,with test performance 9.250000 %\n",
      "The code run for 8 epochs, with 1.606798 epochs/sec\n"
     ]
    },
    {
     "name": "stderr",
     "output_type": "stream",
     "text": [
      "The code for file  ran for 5.0s\n"
     ]
    },
    {
     "name": "stdout",
     "output_type": "stream",
     "text": [
      "Num dataset =  11200\n",
      "Optimization complete with best validation score of 8.860000 %,with test performance 9.250000 %\n",
      "The code run for 6 epochs, with 1.576077 epochs/sec\n"
     ]
    },
    {
     "name": "stderr",
     "output_type": "stream",
     "text": [
      "The code for file  ran for 3.8s\n"
     ]
    },
    {
     "name": "stdout",
     "output_type": "stream",
     "text": [
      "Num dataset =  11300\n",
      "Optimization complete with best validation score of 9.430000 %,with test performance 9.870000 %\n",
      "The code run for 12 epochs, with 1.662837 epochs/sec\n"
     ]
    },
    {
     "name": "stderr",
     "output_type": "stream",
     "text": [
      "The code for file  ran for 7.2s\n"
     ]
    },
    {
     "name": "stdout",
     "output_type": "stream",
     "text": [
      "Num dataset =  11400\n",
      "Optimization complete with best validation score of 8.990000 %,with test performance 9.500000 %\n",
      "The code run for 22 epochs, with 1.763760 epochs/sec\n"
     ]
    },
    {
     "name": "stderr",
     "output_type": "stream",
     "text": [
      "The code for file  ran for 12.5s\n"
     ]
    },
    {
     "name": "stdout",
     "output_type": "stream",
     "text": [
      "Num dataset =  11500\n",
      "Optimization complete with best validation score of 8.590000 %,with test performance 9.170000 %\n",
      "The code run for 10 epochs, with 1.647630 epochs/sec\n"
     ]
    },
    {
     "name": "stderr",
     "output_type": "stream",
     "text": [
      "The code for file  ran for 6.1s\n"
     ]
    },
    {
     "name": "stdout",
     "output_type": "stream",
     "text": [
      "Num dataset =  11600\n",
      "Optimization complete with best validation score of 8.960000 %,with test performance 10.000000 %\n",
      "The code run for 6 epochs, with 1.613352 epochs/sec\n"
     ]
    },
    {
     "name": "stderr",
     "output_type": "stream",
     "text": [
      "The code for file  ran for 3.7s\n"
     ]
    },
    {
     "name": "stdout",
     "output_type": "stream",
     "text": [
      "Num dataset =  11700\n",
      "Optimization complete with best validation score of 8.910000 %,with test performance 10.370000 %\n",
      "The code run for 8 epochs, with 1.647920 epochs/sec\n"
     ]
    },
    {
     "name": "stderr",
     "output_type": "stream",
     "text": [
      "The code for file  ran for 4.9s\n"
     ]
    },
    {
     "name": "stdout",
     "output_type": "stream",
     "text": [
      "Num dataset =  11800\n",
      "Optimization complete with best validation score of 9.100000 %,with test performance 9.800000 %\n",
      "The code run for 22 epochs, with 1.575449 epochs/sec\n"
     ]
    },
    {
     "name": "stderr",
     "output_type": "stream",
     "text": [
      "The code for file  ran for 14.0s\n"
     ]
    },
    {
     "name": "stdout",
     "output_type": "stream",
     "text": [
      "Num dataset =  11900\n",
      "Optimization complete with best validation score of 9.160000 %,with test performance 9.680000 %\n",
      "The code run for 14 epochs, with 1.561747 epochs/sec\n"
     ]
    },
    {
     "name": "stderr",
     "output_type": "stream",
     "text": [
      "The code for file  ran for 9.0s\n"
     ]
    },
    {
     "name": "stdout",
     "output_type": "stream",
     "text": [
      "Num dataset =  12000\n",
      "Optimization complete with best validation score of 8.820000 %,with test performance 9.550000 %\n",
      "The code run for 14 epochs, with 1.649956 epochs/sec\n"
     ]
    },
    {
     "name": "stderr",
     "output_type": "stream",
     "text": [
      "The code for file  ran for 8.5s\n"
     ]
    },
    {
     "name": "stdout",
     "output_type": "stream",
     "text": [
      "Num dataset =  12100\n",
      "Optimization complete with best validation score of 9.680000 %,with test performance 10.530000 %\n",
      "The code run for 38 epochs, with 1.641950 epochs/sec\n"
     ]
    },
    {
     "name": "stderr",
     "output_type": "stream",
     "text": [
      "The code for file  ran for 23.1s\n"
     ]
    },
    {
     "name": "stdout",
     "output_type": "stream",
     "text": [
      "Num dataset =  12200\n",
      "Optimization complete with best validation score of 10.450000 %,with test performance 11.440000 %\n",
      "The code run for 30 epochs, with 1.625799 epochs/sec\n"
     ]
    },
    {
     "name": "stderr",
     "output_type": "stream",
     "text": [
      "The code for file  ran for 18.5s\n"
     ]
    },
    {
     "name": "stdout",
     "output_type": "stream",
     "text": [
      "Num dataset =  12300\n",
      "Optimization complete with best validation score of 10.350000 %,with test performance 10.670000 %\n",
      "The code run for 12 epochs, with 1.516423 epochs/sec\n"
     ]
    },
    {
     "name": "stderr",
     "output_type": "stream",
     "text": [
      "The code for file  ran for 7.9s\n"
     ]
    },
    {
     "name": "stdout",
     "output_type": "stream",
     "text": [
      "Num dataset =  12400\n",
      "Optimization complete with best validation score of 8.850000 %,with test performance 9.310000 %\n",
      "The code run for 10 epochs, with 1.582382 epochs/sec\n"
     ]
    },
    {
     "name": "stderr",
     "output_type": "stream",
     "text": [
      "The code for file  ran for 6.3s\n"
     ]
    },
    {
     "name": "stdout",
     "output_type": "stream",
     "text": [
      "Num dataset =  12500\n",
      "Optimization complete with best validation score of 9.230000 %,with test performance 9.780000 %\n",
      "The code run for 12 epochs, with 1.554935 epochs/sec\n"
     ]
    },
    {
     "name": "stderr",
     "output_type": "stream",
     "text": [
      "The code for file  ran for 7.7s\n"
     ]
    },
    {
     "name": "stdout",
     "output_type": "stream",
     "text": [
      "Num dataset =  12600\n",
      "Optimization complete with best validation score of 9.320000 %,with test performance 9.510000 %\n",
      "The code run for 6 epochs, with 1.621441 epochs/sec\n"
     ]
    },
    {
     "name": "stderr",
     "output_type": "stream",
     "text": [
      "The code for file  ran for 3.7s\n"
     ]
    },
    {
     "name": "stdout",
     "output_type": "stream",
     "text": [
      "Num dataset =  12700\n",
      "Optimization complete with best validation score of 10.830000 %,with test performance 10.800000 %\n",
      "The code run for 14 epochs, with 1.583438 epochs/sec\n"
     ]
    },
    {
     "name": "stderr",
     "output_type": "stream",
     "text": [
      "The code for file  ran for 8.8s\n"
     ]
    },
    {
     "name": "stdout",
     "output_type": "stream",
     "text": [
      "Num dataset =  12800\n",
      "Optimization complete with best validation score of 9.030000 %,with test performance 9.290000 %\n",
      "The code run for 12 epochs, with 1.474269 epochs/sec\n"
     ]
    },
    {
     "name": "stderr",
     "output_type": "stream",
     "text": [
      "The code for file  ran for 8.1s\n"
     ]
    },
    {
     "name": "stdout",
     "output_type": "stream",
     "text": [
      "Num dataset =  12900\n",
      "Optimization complete with best validation score of 9.400000 %,with test performance 9.590000 %\n",
      "The code run for 6 epochs, with 1.622607 epochs/sec\n"
     ]
    },
    {
     "name": "stderr",
     "output_type": "stream",
     "text": [
      "The code for file  ran for 3.7s\n"
     ]
    },
    {
     "name": "stdout",
     "output_type": "stream",
     "text": [
      "Num dataset =  13000\n",
      "Optimization complete with best validation score of 9.730000 %,with test performance 9.990000 %\n",
      "The code run for 8 epochs, with 1.526594 epochs/sec\n"
     ]
    },
    {
     "name": "stderr",
     "output_type": "stream",
     "text": [
      "The code for file  ran for 5.2s\n"
     ]
    },
    {
     "name": "stdout",
     "output_type": "stream",
     "text": [
      "Num dataset =  13100\n",
      "Optimization complete with best validation score of 10.280000 %,with test performance 10.440000 %\n",
      "The code run for 6 epochs, with 1.570589 epochs/sec\n"
     ]
    },
    {
     "name": "stderr",
     "output_type": "stream",
     "text": [
      "The code for file  ran for 3.8s\n"
     ]
    },
    {
     "name": "stdout",
     "output_type": "stream",
     "text": [
      "Num dataset =  13200\n",
      "Optimization complete with best validation score of 9.410000 %,with test performance 9.870000 %\n",
      "The code run for 6 epochs, with 1.574492 epochs/sec\n"
     ]
    },
    {
     "name": "stderr",
     "output_type": "stream",
     "text": [
      "The code for file  ran for 3.8s\n"
     ]
    },
    {
     "name": "stdout",
     "output_type": "stream",
     "text": [
      "Num dataset =  13300\n",
      "Optimization complete with best validation score of 9.280000 %,with test performance 9.900000 %\n",
      "The code run for 6 epochs, with 1.500776 epochs/sec\n"
     ]
    },
    {
     "name": "stderr",
     "output_type": "stream",
     "text": [
      "The code for file  ran for 4.0s\n"
     ]
    },
    {
     "name": "stdout",
     "output_type": "stream",
     "text": [
      "Num dataset =  13400\n",
      "Optimization complete with best validation score of 8.680000 %,with test performance 8.890000 %\n",
      "The code run for 8 epochs, with 1.458448 epochs/sec\n"
     ]
    },
    {
     "name": "stderr",
     "output_type": "stream",
     "text": [
      "The code for file  ran for 5.5s\n"
     ]
    },
    {
     "name": "stdout",
     "output_type": "stream",
     "text": [
      "Num dataset =  13500\n",
      "Optimization complete with best validation score of 8.940000 %,with test performance 9.230000 %\n",
      "The code run for 4 epochs, with 1.602425 epochs/sec\n"
     ]
    },
    {
     "name": "stderr",
     "output_type": "stream",
     "text": [
      "The code for file  ran for 2.5s\n"
     ]
    },
    {
     "name": "stdout",
     "output_type": "stream",
     "text": [
      "Num dataset =  13600\n",
      "Optimization complete with best validation score of 8.770000 %,with test performance 9.120000 %\n",
      "The code run for 6 epochs, with 1.501717 epochs/sec\n"
     ]
    },
    {
     "name": "stderr",
     "output_type": "stream",
     "text": [
      "The code for file  ran for 4.0s\n"
     ]
    },
    {
     "name": "stdout",
     "output_type": "stream",
     "text": [
      "Num dataset =  13700\n",
      "Optimization complete with best validation score of 9.660000 %,with test performance 9.990000 %\n",
      "The code run for 8 epochs, with 1.510171 epochs/sec\n"
     ]
    },
    {
     "name": "stderr",
     "output_type": "stream",
     "text": [
      "The code for file  ran for 5.3s\n"
     ]
    },
    {
     "name": "stdout",
     "output_type": "stream",
     "text": [
      "Num dataset =  13800\n",
      "Optimization complete with best validation score of 8.540000 %,with test performance 9.110000 %\n",
      "The code run for 6 epochs, with 1.497392 epochs/sec\n"
     ]
    },
    {
     "name": "stderr",
     "output_type": "stream",
     "text": [
      "The code for file  ran for 4.0s\n"
     ]
    },
    {
     "name": "stdout",
     "output_type": "stream",
     "text": [
      "Num dataset =  13900\n",
      "Optimization complete with best validation score of 8.430000 %,with test performance 8.760000 %\n",
      "The code run for 10 epochs, with 1.470798 epochs/sec\n"
     ]
    },
    {
     "name": "stderr",
     "output_type": "stream",
     "text": [
      "The code for file  ran for 6.8s\n"
     ]
    },
    {
     "name": "stdout",
     "output_type": "stream",
     "text": [
      "Num dataset =  14000\n",
      "Optimization complete with best validation score of 8.500000 %,with test performance 8.590000 %\n",
      "The code run for 12 epochs, with 1.414018 epochs/sec\n"
     ]
    },
    {
     "name": "stderr",
     "output_type": "stream",
     "text": [
      "The code for file  ran for 8.5s\n"
     ]
    },
    {
     "name": "stdout",
     "output_type": "stream",
     "text": [
      "Num dataset =  14100\n",
      "Optimization complete with best validation score of 9.040000 %,with test performance 9.360000 %\n",
      "The code run for 14 epochs, with 1.490040 epochs/sec\n"
     ]
    },
    {
     "name": "stderr",
     "output_type": "stream",
     "text": [
      "The code for file  ran for 9.4s\n"
     ]
    },
    {
     "name": "stdout",
     "output_type": "stream",
     "text": [
      "Num dataset =  14200\n",
      "Optimization complete with best validation score of 9.420000 %,with test performance 10.250000 %\n",
      "The code run for 56 epochs, with 1.466215 epochs/sec\n"
     ]
    },
    {
     "name": "stderr",
     "output_type": "stream",
     "text": [
      "The code for file  ran for 38.2s\n"
     ]
    },
    {
     "name": "stdout",
     "output_type": "stream",
     "text": [
      "Num dataset =  14300\n",
      "Optimization complete with best validation score of 9.250000 %,with test performance 9.690000 %\n",
      "The code run for 4 epochs, with 1.513662 epochs/sec\n"
     ]
    },
    {
     "name": "stderr",
     "output_type": "stream",
     "text": [
      "The code for file  ran for 2.6s\n"
     ]
    },
    {
     "name": "stdout",
     "output_type": "stream",
     "text": [
      "Num dataset =  14400\n",
      "Optimization complete with best validation score of 9.020000 %,with test performance 9.220000 %\n",
      "The code run for 14 epochs, with 1.437070 epochs/sec\n"
     ]
    },
    {
     "name": "stderr",
     "output_type": "stream",
     "text": [
      "The code for file  ran for 9.7s\n"
     ]
    },
    {
     "name": "stdout",
     "output_type": "stream",
     "text": [
      "Num dataset =  14500\n",
      "Optimization complete with best validation score of 8.560000 %,with test performance 8.960000 %\n",
      "The code run for 8 epochs, with 1.477705 epochs/sec\n"
     ]
    },
    {
     "name": "stderr",
     "output_type": "stream",
     "text": [
      "The code for file  ran for 5.4s\n"
     ]
    },
    {
     "name": "stdout",
     "output_type": "stream",
     "text": [
      "Num dataset =  14600\n",
      "Optimization complete with best validation score of 9.130000 %,with test performance 9.670000 %\n",
      "The code run for 10 epochs, with 1.396113 epochs/sec\n"
     ]
    },
    {
     "name": "stderr",
     "output_type": "stream",
     "text": [
      "The code for file  ran for 7.2s\n"
     ]
    },
    {
     "name": "stdout",
     "output_type": "stream",
     "text": [
      "Num dataset =  14700\n",
      "Optimization complete with best validation score of 8.710000 %,with test performance 9.770000 %\n",
      "The code run for 18 epochs, with 1.363747 epochs/sec\n"
     ]
    },
    {
     "name": "stderr",
     "output_type": "stream",
     "text": [
      "The code for file  ran for 13.2s\n"
     ]
    },
    {
     "name": "stdout",
     "output_type": "stream",
     "text": [
      "Num dataset =  14800\n",
      "Optimization complete with best validation score of 9.080000 %,with test performance 9.630000 %\n",
      "The code run for 26 epochs, with 1.387632 epochs/sec\n"
     ]
    },
    {
     "name": "stderr",
     "output_type": "stream",
     "text": [
      "The code for file  ran for 18.7s\n"
     ]
    },
    {
     "name": "stdout",
     "output_type": "stream",
     "text": [
      "Num dataset =  14900\n",
      "Optimization complete with best validation score of 9.510000 %,with test performance 9.740000 %\n",
      "The code run for 4 epochs, with 1.391577 epochs/sec\n"
     ]
    },
    {
     "name": "stderr",
     "output_type": "stream",
     "text": [
      "The code for file  ran for 2.9s\n"
     ]
    },
    {
     "name": "stdout",
     "output_type": "stream",
     "text": [
      "Num dataset =  15000\n",
      "Optimization complete with best validation score of 8.420000 %,with test performance 8.890000 %\n",
      "The code run for 24 epochs, with 1.434503 epochs/sec\n"
     ]
    },
    {
     "name": "stderr",
     "output_type": "stream",
     "text": [
      "The code for file  ran for 16.7s\n"
     ]
    },
    {
     "name": "stdout",
     "output_type": "stream",
     "text": [
      "Num dataset =  15100\n",
      "Optimization complete with best validation score of 8.780000 %,with test performance 9.060000 %\n",
      "The code run for 6 epochs, with 1.353591 epochs/sec\n"
     ]
    },
    {
     "name": "stderr",
     "output_type": "stream",
     "text": [
      "The code for file  ran for 4.4s\n"
     ]
    },
    {
     "name": "stdout",
     "output_type": "stream",
     "text": [
      "Num dataset =  15200\n",
      "Optimization complete with best validation score of 9.800000 %,with test performance 10.170000 %\n",
      "The code run for 4 epochs, with 1.455508 epochs/sec\n"
     ]
    },
    {
     "name": "stderr",
     "output_type": "stream",
     "text": [
      "The code for file  ran for 2.7s\n"
     ]
    },
    {
     "name": "stdout",
     "output_type": "stream",
     "text": [
      "Num dataset =  15300\n",
      "Optimization complete with best validation score of 8.470000 %,with test performance 9.090000 %\n",
      "The code run for 6 epochs, with 1.432568 epochs/sec\n"
     ]
    },
    {
     "name": "stderr",
     "output_type": "stream",
     "text": [
      "The code for file  ran for 4.2s\n"
     ]
    },
    {
     "name": "stdout",
     "output_type": "stream",
     "text": [
      "Num dataset =  15400\n",
      "Optimization complete with best validation score of 9.040000 %,with test performance 9.220000 %\n",
      "The code run for 16 epochs, with 1.340791 epochs/sec\n"
     ]
    },
    {
     "name": "stderr",
     "output_type": "stream",
     "text": [
      "The code for file  ran for 11.9s\n"
     ]
    },
    {
     "name": "stdout",
     "output_type": "stream",
     "text": [
      "Num dataset =  15500\n",
      "Optimization complete with best validation score of 8.670000 %,with test performance 8.870000 %\n",
      "The code run for 6 epochs, with 1.384798 epochs/sec\n"
     ]
    },
    {
     "name": "stderr",
     "output_type": "stream",
     "text": [
      "The code for file  ran for 4.3s\n"
     ]
    },
    {
     "name": "stdout",
     "output_type": "stream",
     "text": [
      "Num dataset =  15600\n",
      "Optimization complete with best validation score of 8.420000 %,with test performance 8.730000 %\n",
      "The code run for 18 epochs, with 1.418339 epochs/sec\n"
     ]
    },
    {
     "name": "stderr",
     "output_type": "stream",
     "text": [
      "The code for file  ran for 12.7s\n"
     ]
    },
    {
     "name": "stdout",
     "output_type": "stream",
     "text": [
      "Num dataset =  15700\n",
      "Optimization complete with best validation score of 8.340000 %,with test performance 8.530000 %\n",
      "The code run for 20 epochs, with 1.397703 epochs/sec\n"
     ]
    },
    {
     "name": "stderr",
     "output_type": "stream",
     "text": [
      "The code for file  ran for 14.3s\n"
     ]
    },
    {
     "name": "stdout",
     "output_type": "stream",
     "text": [
      "Num dataset =  15800\n",
      "Optimization complete with best validation score of 8.470000 %,with test performance 8.470000 %\n",
      "The code run for 8 epochs, with 1.370902 epochs/sec\n"
     ]
    },
    {
     "name": "stderr",
     "output_type": "stream",
     "text": [
      "The code for file  ran for 5.8s\n"
     ]
    },
    {
     "name": "stdout",
     "output_type": "stream",
     "text": [
      "Num dataset =  15900\n",
      "Optimization complete with best validation score of 8.340000 %,with test performance 8.880000 %\n",
      "The code run for 20 epochs, with 1.337683 epochs/sec\n"
     ]
    },
    {
     "name": "stderr",
     "output_type": "stream",
     "text": [
      "The code for file  ran for 15.0s\n"
     ]
    },
    {
     "name": "stdout",
     "output_type": "stream",
     "text": [
      "Num dataset =  16000\n",
      "Optimization complete with best validation score of 8.920000 %,with test performance 9.200000 %\n",
      "The code run for 16 epochs, with 1.292574 epochs/sec\n"
     ]
    },
    {
     "name": "stderr",
     "output_type": "stream",
     "text": [
      "The code for file  ran for 12.4s\n"
     ]
    },
    {
     "name": "stdout",
     "output_type": "stream",
     "text": [
      "Num dataset =  16100\n",
      "Optimization complete with best validation score of 8.360000 %,with test performance 8.640000 %\n",
      "The code run for 10 epochs, with 1.347635 epochs/sec\n"
     ]
    },
    {
     "name": "stderr",
     "output_type": "stream",
     "text": [
      "The code for file  ran for 7.4s\n"
     ]
    },
    {
     "name": "stdout",
     "output_type": "stream",
     "text": [
      "Num dataset =  16200\n",
      "Optimization complete with best validation score of 8.850000 %,with test performance 9.060000 %\n",
      "The code run for 18 epochs, with 1.338342 epochs/sec\n"
     ]
    },
    {
     "name": "stderr",
     "output_type": "stream",
     "text": [
      "The code for file  ran for 13.4s\n"
     ]
    },
    {
     "name": "stdout",
     "output_type": "stream",
     "text": [
      "Num dataset =  16300\n",
      "Optimization complete with best validation score of 8.210000 %,with test performance 8.500000 %\n",
      "The code run for 22 epochs, with 1.362665 epochs/sec\n"
     ]
    },
    {
     "name": "stderr",
     "output_type": "stream",
     "text": [
      "The code for file  ran for 16.1s\n"
     ]
    },
    {
     "name": "stdout",
     "output_type": "stream",
     "text": [
      "Num dataset =  16400\n",
      "Optimization complete with best validation score of 8.870000 %,with test performance 9.040000 %\n",
      "The code run for 4 epochs, with 1.409166 epochs/sec\n"
     ]
    },
    {
     "name": "stderr",
     "output_type": "stream",
     "text": [
      "The code for file  ran for 2.8s\n"
     ]
    },
    {
     "name": "stdout",
     "output_type": "stream",
     "text": [
      "Num dataset =  16500\n",
      "Optimization complete with best validation score of 8.820000 %,with test performance 9.140000 %\n",
      "The code run for 16 epochs, with 1.307039 epochs/sec\n"
     ]
    },
    {
     "name": "stderr",
     "output_type": "stream",
     "text": [
      "The code for file  ran for 12.2s\n"
     ]
    },
    {
     "name": "stdout",
     "output_type": "stream",
     "text": [
      "Num dataset =  16600\n",
      "Optimization complete with best validation score of 8.610000 %,with test performance 8.750000 %\n",
      "The code run for 12 epochs, with 1.248338 epochs/sec\n"
     ]
    },
    {
     "name": "stderr",
     "output_type": "stream",
     "text": [
      "The code for file  ran for 9.6s\n"
     ]
    },
    {
     "name": "stdout",
     "output_type": "stream",
     "text": [
      "Num dataset =  16700\n",
      "Optimization complete with best validation score of 9.280000 %,with test performance 9.650000 %\n",
      "The code run for 6 epochs, with 1.277921 epochs/sec\n"
     ]
    },
    {
     "name": "stderr",
     "output_type": "stream",
     "text": [
      "The code for file  ran for 4.7s\n"
     ]
    },
    {
     "name": "stdout",
     "output_type": "stream",
     "text": [
      "Num dataset =  16800\n",
      "Optimization complete with best validation score of 8.400000 %,with test performance 8.680000 %\n",
      "The code run for 10 epochs, with 1.323598 epochs/sec\n"
     ]
    },
    {
     "name": "stderr",
     "output_type": "stream",
     "text": [
      "The code for file  ran for 7.6s\n"
     ]
    },
    {
     "name": "stdout",
     "output_type": "stream",
     "text": [
      "Num dataset =  16900\n",
      "Optimization complete with best validation score of 8.170000 %,with test performance 8.570000 %\n",
      "The code run for 16 epochs, with 1.279612 epochs/sec\n"
     ]
    },
    {
     "name": "stderr",
     "output_type": "stream",
     "text": [
      "The code for file  ran for 12.5s\n"
     ]
    },
    {
     "name": "stdout",
     "output_type": "stream",
     "text": [
      "Num dataset =  17000\n",
      "Optimization complete with best validation score of 8.420000 %,with test performance 8.760000 %\n",
      "The code run for 14 epochs, with 1.191016 epochs/sec\n"
     ]
    },
    {
     "name": "stderr",
     "output_type": "stream",
     "text": [
      "The code for file  ran for 11.8s\n"
     ]
    },
    {
     "name": "stdout",
     "output_type": "stream",
     "text": [
      "Num dataset =  17100\n",
      "Optimization complete with best validation score of 8.230000 %,with test performance 8.800000 %\n",
      "The code run for 14 epochs, with 1.314625 epochs/sec\n"
     ]
    },
    {
     "name": "stderr",
     "output_type": "stream",
     "text": [
      "The code for file  ran for 10.6s\n"
     ]
    },
    {
     "name": "stdout",
     "output_type": "stream",
     "text": [
      "Num dataset =  17200\n",
      "Optimization complete with best validation score of 8.550000 %,with test performance 8.590000 %\n",
      "The code run for 6 epochs, with 1.245699 epochs/sec\n"
     ]
    },
    {
     "name": "stderr",
     "output_type": "stream",
     "text": [
      "The code for file  ran for 4.8s\n"
     ]
    },
    {
     "name": "stdout",
     "output_type": "stream",
     "text": [
      "Num dataset =  17300\n",
      "Optimization complete with best validation score of 8.520000 %,with test performance 8.550000 %\n",
      "The code run for 16 epochs, with 1.242624 epochs/sec\n"
     ]
    },
    {
     "name": "stderr",
     "output_type": "stream",
     "text": [
      "The code for file  ran for 12.9s\n"
     ]
    },
    {
     "name": "stdout",
     "output_type": "stream",
     "text": [
      "Num dataset =  17400\n",
      "Optimization complete with best validation score of 8.280000 %,with test performance 8.620000 %\n",
      "The code run for 12 epochs, with 1.209308 epochs/sec\n"
     ]
    },
    {
     "name": "stderr",
     "output_type": "stream",
     "text": [
      "The code for file  ran for 9.9s\n"
     ]
    },
    {
     "name": "stdout",
     "output_type": "stream",
     "text": [
      "Num dataset =  17500\n",
      "Optimization complete with best validation score of 8.740000 %,with test performance 9.080000 %\n",
      "The code run for 8 epochs, with 1.273727 epochs/sec\n"
     ]
    },
    {
     "name": "stderr",
     "output_type": "stream",
     "text": [
      "The code for file  ran for 6.3s\n"
     ]
    },
    {
     "name": "stdout",
     "output_type": "stream",
     "text": [
      "Num dataset =  17600\n",
      "Optimization complete with best validation score of 8.660000 %,with test performance 9.260000 %\n",
      "The code run for 26 epochs, with 1.224105 epochs/sec\n"
     ]
    },
    {
     "name": "stderr",
     "output_type": "stream",
     "text": [
      "The code for file  ran for 21.2s\n"
     ]
    },
    {
     "name": "stdout",
     "output_type": "stream",
     "text": [
      "Num dataset =  17700\n",
      "Optimization complete with best validation score of 8.810000 %,with test performance 8.830000 %\n",
      "The code run for 48 epochs, with 1.293462 epochs/sec\n"
     ]
    },
    {
     "name": "stderr",
     "output_type": "stream",
     "text": [
      "The code for file  ran for 37.1s\n"
     ]
    },
    {
     "name": "stdout",
     "output_type": "stream",
     "text": [
      "Num dataset =  17800\n",
      "Optimization complete with best validation score of 8.650000 %,with test performance 8.890000 %\n",
      "The code run for 10 epochs, with 1.299562 epochs/sec\n"
     ]
    },
    {
     "name": "stderr",
     "output_type": "stream",
     "text": [
      "The code for file  ran for 7.7s\n"
     ]
    },
    {
     "name": "stdout",
     "output_type": "stream",
     "text": [
      "Num dataset =  17900\n",
      "Optimization complete with best validation score of 8.580000 %,with test performance 8.790000 %\n",
      "The code run for 4 epochs, with 1.245180 epochs/sec\n"
     ]
    },
    {
     "name": "stderr",
     "output_type": "stream",
     "text": [
      "The code for file  ran for 3.2s\n"
     ]
    },
    {
     "name": "stdout",
     "output_type": "stream",
     "text": [
      "Num dataset =  18000\n",
      "Optimization complete with best validation score of 8.660000 %,with test performance 9.000000 %\n",
      "The code run for 6 epochs, with 1.227550 epochs/sec\n"
     ]
    },
    {
     "name": "stderr",
     "output_type": "stream",
     "text": [
      "The code for file  ran for 4.9s\n"
     ]
    },
    {
     "name": "stdout",
     "output_type": "stream",
     "text": [
      "Num dataset =  18100\n",
      "Optimization complete with best validation score of 8.380000 %,with test performance 8.880000 %\n",
      "The code run for 6 epochs, with 1.232233 epochs/sec\n"
     ]
    },
    {
     "name": "stderr",
     "output_type": "stream",
     "text": [
      "The code for file  ran for 4.9s\n"
     ]
    },
    {
     "name": "stdout",
     "output_type": "stream",
     "text": [
      "Num dataset =  18200\n",
      "Optimization complete with best validation score of 8.270000 %,with test performance 8.460000 %\n",
      "The code run for 14 epochs, with 1.195124 epochs/sec\n"
     ]
    },
    {
     "name": "stderr",
     "output_type": "stream",
     "text": [
      "The code for file  ran for 11.7s\n"
     ]
    },
    {
     "name": "stdout",
     "output_type": "stream",
     "text": [
      "Num dataset =  18300\n",
      "Optimization complete with best validation score of 8.540000 %,with test performance 8.870000 %\n",
      "The code run for 6 epochs, with 1.153950 epochs/sec\n"
     ]
    },
    {
     "name": "stderr",
     "output_type": "stream",
     "text": [
      "The code for file  ran for 5.2s\n"
     ]
    },
    {
     "name": "stdout",
     "output_type": "stream",
     "text": [
      "Num dataset =  18400\n",
      "Optimization complete with best validation score of 8.400000 %,with test performance 8.800000 %\n",
      "The code run for 6 epochs, with 1.229659 epochs/sec\n"
     ]
    },
    {
     "name": "stderr",
     "output_type": "stream",
     "text": [
      "The code for file  ran for 4.9s\n"
     ]
    },
    {
     "name": "stdout",
     "output_type": "stream",
     "text": [
      "Num dataset =  18500\n",
      "Optimization complete with best validation score of 9.740000 %,with test performance 10.130000 %\n",
      "The code run for 10 epochs, with 1.196369 epochs/sec\n"
     ]
    },
    {
     "name": "stderr",
     "output_type": "stream",
     "text": [
      "The code for file  ran for 8.4s\n"
     ]
    },
    {
     "name": "stdout",
     "output_type": "stream",
     "text": [
      "Num dataset =  18600\n",
      "Optimization complete with best validation score of 8.420000 %,with test performance 8.580000 %\n",
      "The code run for 6 epochs, with 1.216368 epochs/sec\n"
     ]
    },
    {
     "name": "stderr",
     "output_type": "stream",
     "text": [
      "The code for file  ran for 4.9s\n"
     ]
    },
    {
     "name": "stdout",
     "output_type": "stream",
     "text": [
      "Num dataset =  18700\n",
      "Optimization complete with best validation score of 8.260000 %,with test performance 8.330000 %\n",
      "The code run for 10 epochs, with 1.205334 epochs/sec\n"
     ]
    },
    {
     "name": "stderr",
     "output_type": "stream",
     "text": [
      "The code for file  ran for 8.3s\n"
     ]
    },
    {
     "name": "stdout",
     "output_type": "stream",
     "text": [
      "Num dataset =  18800\n",
      "Optimization complete with best validation score of 7.940000 %,with test performance 8.260000 %\n",
      "The code run for 18 epochs, with 1.158758 epochs/sec\n"
     ]
    },
    {
     "name": "stderr",
     "output_type": "stream",
     "text": [
      "The code for file  ran for 15.5s\n"
     ]
    },
    {
     "name": "stdout",
     "output_type": "stream",
     "text": [
      "Num dataset =  18900\n",
      "Optimization complete with best validation score of 7.800000 %,with test performance 8.310000 %\n",
      "The code run for 22 epochs, with 1.221526 epochs/sec\n"
     ]
    },
    {
     "name": "stderr",
     "output_type": "stream",
     "text": [
      "The code for file  ran for 18.0s\n"
     ]
    },
    {
     "name": "stdout",
     "output_type": "stream",
     "text": [
      "Num dataset =  19000\n",
      "Optimization complete with best validation score of 8.270000 %,with test performance 8.410000 %\n",
      "The code run for 8 epochs, with 1.138876 epochs/sec\n"
     ]
    },
    {
     "name": "stderr",
     "output_type": "stream",
     "text": [
      "The code for file  ran for 7.0s\n"
     ]
    },
    {
     "name": "stdout",
     "output_type": "stream",
     "text": [
      "Num dataset =  19100\n",
      "Optimization complete with best validation score of 7.870000 %,with test performance 8.230000 %\n",
      "The code run for 10 epochs, with 1.105312 epochs/sec\n"
     ]
    },
    {
     "name": "stderr",
     "output_type": "stream",
     "text": [
      "The code for file  ran for 9.0s\n"
     ]
    },
    {
     "name": "stdout",
     "output_type": "stream",
     "text": [
      "Num dataset =  19200\n",
      "Optimization complete with best validation score of 7.840000 %,with test performance 8.350000 %\n",
      "The code run for 22 epochs, with 1.163553 epochs/sec\n"
     ]
    },
    {
     "name": "stderr",
     "output_type": "stream",
     "text": [
      "The code for file  ran for 18.9s\n"
     ]
    },
    {
     "name": "stdout",
     "output_type": "stream",
     "text": [
      "Num dataset =  19300\n",
      "Optimization complete with best validation score of 8.340000 %,with test performance 8.690000 %\n",
      "The code run for 14 epochs, with 1.130046 epochs/sec\n"
     ]
    },
    {
     "name": "stderr",
     "output_type": "stream",
     "text": [
      "The code for file  ran for 12.4s\n"
     ]
    },
    {
     "name": "stdout",
     "output_type": "stream",
     "text": [
      "Num dataset =  19400\n",
      "Optimization complete with best validation score of 8.130000 %,with test performance 8.550000 %\n",
      "The code run for 26 epochs, with 1.159806 epochs/sec\n"
     ]
    },
    {
     "name": "stderr",
     "output_type": "stream",
     "text": [
      "The code for file  ran for 22.4s\n"
     ]
    },
    {
     "name": "stdout",
     "output_type": "stream",
     "text": [
      "Num dataset =  19500\n",
      "Optimization complete with best validation score of 8.590000 %,with test performance 8.780000 %\n",
      "The code run for 20 epochs, with 1.222366 epochs/sec\n"
     ]
    },
    {
     "name": "stderr",
     "output_type": "stream",
     "text": [
      "The code for file  ran for 16.4s\n"
     ]
    },
    {
     "name": "stdout",
     "output_type": "stream",
     "text": [
      "Num dataset =  19600\n",
      "Optimization complete with best validation score of 8.630000 %,with test performance 9.250000 %\n",
      "The code run for 22 epochs, with 1.147423 epochs/sec\n"
     ]
    },
    {
     "name": "stderr",
     "output_type": "stream",
     "text": [
      "The code for file  ran for 19.2s\n"
     ]
    },
    {
     "name": "stdout",
     "output_type": "stream",
     "text": [
      "Num dataset =  19700\n",
      "Optimization complete with best validation score of 8.120000 %,with test performance 8.480000 %\n",
      "The code run for 12 epochs, with 1.202932 epochs/sec\n"
     ]
    },
    {
     "name": "stderr",
     "output_type": "stream",
     "text": [
      "The code for file  ran for 10.0s\n"
     ]
    },
    {
     "name": "stdout",
     "output_type": "stream",
     "text": [
      "Num dataset =  19800\n",
      "Optimization complete with best validation score of 7.940000 %,with test performance 8.540000 %\n",
      "The code run for 14 epochs, with 1.171109 epochs/sec\n"
     ]
    },
    {
     "name": "stderr",
     "output_type": "stream",
     "text": [
      "The code for file  ran for 12.0s\n"
     ]
    },
    {
     "name": "stdout",
     "output_type": "stream",
     "text": [
      "Num dataset =  19900\n",
      "Optimization complete with best validation score of 8.800000 %,with test performance 9.440000 %\n",
      "The code run for 10 epochs, with 1.151218 epochs/sec\n"
     ]
    },
    {
     "name": "stderr",
     "output_type": "stream",
     "text": [
      "The code for file  ran for 8.7s\n"
     ]
    },
    {
     "name": "stdout",
     "output_type": "stream",
     "text": [
      "Num dataset =  20000\n",
      "Optimization complete with best validation score of 8.400000 %,with test performance 9.010000 %\n",
      "The code run for 10 epochs, with 1.178601 epochs/sec\n"
     ]
    },
    {
     "name": "stderr",
     "output_type": "stream",
     "text": [
      "The code for file  ran for 8.5s\n"
     ]
    },
    {
     "name": "stdout",
     "output_type": "stream",
     "text": [
      "Num dataset =  20100\n",
      "Optimization complete with best validation score of 8.460000 %,with test performance 8.820000 %\n",
      "The code run for 8 epochs, with 1.156194 epochs/sec\n"
     ]
    },
    {
     "name": "stderr",
     "output_type": "stream",
     "text": [
      "The code for file  ran for 6.9s\n"
     ]
    },
    {
     "name": "stdout",
     "output_type": "stream",
     "text": [
      "Num dataset =  20200\n",
      "Optimization complete with best validation score of 8.660000 %,with test performance 8.860000 %\n",
      "The code run for 12 epochs, with 1.081460 epochs/sec\n"
     ]
    },
    {
     "name": "stderr",
     "output_type": "stream",
     "text": [
      "The code for file  ran for 11.1s\n"
     ]
    },
    {
     "name": "stdout",
     "output_type": "stream",
     "text": [
      "Num dataset =  20300\n",
      "Optimization complete with best validation score of 8.220000 %,with test performance 8.400000 %\n",
      "The code run for 10 epochs, with 1.115241 epochs/sec\n"
     ]
    },
    {
     "name": "stderr",
     "output_type": "stream",
     "text": [
      "The code for file  ran for 9.0s\n"
     ]
    },
    {
     "name": "stdout",
     "output_type": "stream",
     "text": [
      "Num dataset =  20400\n",
      "Optimization complete with best validation score of 8.050000 %,with test performance 8.350000 %\n",
      "The code run for 10 epochs, with 1.130502 epochs/sec\n"
     ]
    },
    {
     "name": "stderr",
     "output_type": "stream",
     "text": [
      "The code for file  ran for 8.8s\n"
     ]
    },
    {
     "name": "stdout",
     "output_type": "stream",
     "text": [
      "Num dataset =  20500\n",
      "Optimization complete with best validation score of 8.290000 %,with test performance 8.780000 %\n",
      "The code run for 8 epochs, with 1.149190 epochs/sec\n"
     ]
    },
    {
     "name": "stderr",
     "output_type": "stream",
     "text": [
      "The code for file  ran for 7.0s\n"
     ]
    },
    {
     "name": "stdout",
     "output_type": "stream",
     "text": [
      "Num dataset =  20600\n",
      "Optimization complete with best validation score of 7.880000 %,with test performance 8.170000 %\n",
      "The code run for 10 epochs, with 1.072341 epochs/sec\n"
     ]
    },
    {
     "name": "stderr",
     "output_type": "stream",
     "text": [
      "The code for file  ran for 9.3s\n"
     ]
    },
    {
     "name": "stdout",
     "output_type": "stream",
     "text": [
      "Num dataset =  20700\n",
      "Optimization complete with best validation score of 8.370000 %,with test performance 8.520000 %\n",
      "The code run for 10 epochs, with 1.078943 epochs/sec\n"
     ]
    },
    {
     "name": "stderr",
     "output_type": "stream",
     "text": [
      "The code for file  ran for 9.3s\n"
     ]
    },
    {
     "name": "stdout",
     "output_type": "stream",
     "text": [
      "Num dataset =  20800\n",
      "Optimization complete with best validation score of 10.150000 %,with test performance 10.030000 %\n",
      "The code run for 26 epochs, with 1.107359 epochs/sec\n"
     ]
    },
    {
     "name": "stderr",
     "output_type": "stream",
     "text": [
      "The code for file  ran for 23.5s\n"
     ]
    },
    {
     "name": "stdout",
     "output_type": "stream",
     "text": [
      "Num dataset =  20900\n",
      "Optimization complete with best validation score of 9.210000 %,with test performance 9.350000 %\n",
      "The code run for 12 epochs, with 1.135416 epochs/sec\n"
     ]
    },
    {
     "name": "stderr",
     "output_type": "stream",
     "text": [
      "The code for file  ran for 10.6s\n"
     ]
    },
    {
     "name": "stdout",
     "output_type": "stream",
     "text": [
      "Num dataset =  21000\n",
      "Optimization complete with best validation score of 9.240000 %,with test performance 9.180000 %\n",
      "The code run for 6 epochs, with 1.055977 epochs/sec\n"
     ]
    },
    {
     "name": "stderr",
     "output_type": "stream",
     "text": [
      "The code for file  ran for 5.7s\n"
     ]
    },
    {
     "name": "stdout",
     "output_type": "stream",
     "text": [
      "Num dataset =  21100\n",
      "Optimization complete with best validation score of 8.480000 %,with test performance 8.410000 %\n",
      "The code run for 12 epochs, with 1.110222 epochs/sec\n"
     ]
    },
    {
     "name": "stderr",
     "output_type": "stream",
     "text": [
      "The code for file  ran for 10.8s\n"
     ]
    },
    {
     "name": "stdout",
     "output_type": "stream",
     "text": [
      "Num dataset =  21200\n",
      "Optimization complete with best validation score of 8.500000 %,with test performance 8.540000 %\n",
      "The code run for 6 epochs, with 1.120838 epochs/sec\n"
     ]
    },
    {
     "name": "stderr",
     "output_type": "stream",
     "text": [
      "The code for file  ran for 5.4s\n"
     ]
    },
    {
     "name": "stdout",
     "output_type": "stream",
     "text": [
      "Num dataset =  21300\n",
      "Optimization complete with best validation score of 8.180000 %,with test performance 8.310000 %\n",
      "The code run for 8 epochs, with 1.029505 epochs/sec\n"
     ]
    },
    {
     "name": "stderr",
     "output_type": "stream",
     "text": [
      "The code for file  ran for 7.8s\n"
     ]
    },
    {
     "name": "stdout",
     "output_type": "stream",
     "text": [
      "Num dataset =  21400\n",
      "Optimization complete with best validation score of 8.570000 %,with test performance 8.560000 %\n",
      "The code run for 8 epochs, with 1.071499 epochs/sec\n"
     ]
    },
    {
     "name": "stderr",
     "output_type": "stream",
     "text": [
      "The code for file  ran for 7.5s\n"
     ]
    },
    {
     "name": "stdout",
     "output_type": "stream",
     "text": [
      "Num dataset =  21500\n",
      "Optimization complete with best validation score of 8.320000 %,with test performance 8.310000 %\n",
      "The code run for 10 epochs, with 1.143116 epochs/sec\n"
     ]
    },
    {
     "name": "stderr",
     "output_type": "stream",
     "text": [
      "The code for file  ran for 8.7s\n"
     ]
    },
    {
     "name": "stdout",
     "output_type": "stream",
     "text": [
      "Num dataset =  21600\n",
      "Optimization complete with best validation score of 8.360000 %,with test performance 8.550000 %\n",
      "The code run for 6 epochs, with 1.117526 epochs/sec\n"
     ]
    },
    {
     "name": "stderr",
     "output_type": "stream",
     "text": [
      "The code for file  ran for 5.4s\n"
     ]
    },
    {
     "name": "stdout",
     "output_type": "stream",
     "text": [
      "Num dataset =  21700\n",
      "Optimization complete with best validation score of 8.730000 %,with test performance 8.730000 %\n",
      "The code run for 4 epochs, with 1.079960 epochs/sec\n"
     ]
    },
    {
     "name": "stderr",
     "output_type": "stream",
     "text": [
      "The code for file  ran for 3.7s\n"
     ]
    },
    {
     "name": "stdout",
     "output_type": "stream",
     "text": [
      "Num dataset =  21800\n",
      "Optimization complete with best validation score of 8.320000 %,with test performance 8.360000 %\n",
      "The code run for 8 epochs, with 1.058927 epochs/sec\n"
     ]
    },
    {
     "name": "stderr",
     "output_type": "stream",
     "text": [
      "The code for file  ran for 7.6s\n"
     ]
    },
    {
     "name": "stdout",
     "output_type": "stream",
     "text": [
      "Num dataset =  21900\n",
      "Optimization complete with best validation score of 8.200000 %,with test performance 8.340000 %\n",
      "The code run for 16 epochs, with 0.953246 epochs/sec\n"
     ]
    },
    {
     "name": "stderr",
     "output_type": "stream",
     "text": [
      "The code for file  ran for 16.8s\n"
     ]
    },
    {
     "name": "stdout",
     "output_type": "stream",
     "text": [
      "Num dataset =  22000\n",
      "Optimization complete with best validation score of 8.190000 %,with test performance 8.380000 %\n",
      "The code run for 10 epochs, with 1.063751 epochs/sec\n"
     ]
    },
    {
     "name": "stderr",
     "output_type": "stream",
     "text": [
      "The code for file  ran for 9.4s\n"
     ]
    },
    {
     "name": "stdout",
     "output_type": "stream",
     "text": [
      "Num dataset =  22100\n",
      "Optimization complete with best validation score of 8.010000 %,with test performance 8.300000 %\n",
      "The code run for 20 epochs, with 1.074671 epochs/sec\n"
     ]
    },
    {
     "name": "stderr",
     "output_type": "stream",
     "text": [
      "The code for file  ran for 18.6s\n"
     ]
    },
    {
     "name": "stdout",
     "output_type": "stream",
     "text": [
      "Num dataset =  22200\n",
      "Optimization complete with best validation score of 8.180000 %,with test performance 8.090000 %\n",
      "The code run for 16 epochs, with 1.066659 epochs/sec\n"
     ]
    },
    {
     "name": "stderr",
     "output_type": "stream",
     "text": [
      "The code for file  ran for 15.0s\n"
     ]
    },
    {
     "name": "stdout",
     "output_type": "stream",
     "text": [
      "Num dataset =  22300\n",
      "Optimization complete with best validation score of 8.340000 %,with test performance 8.710000 %\n",
      "The code run for 4 epochs, with 1.042598 epochs/sec\n"
     ]
    },
    {
     "name": "stderr",
     "output_type": "stream",
     "text": [
      "The code for file  ran for 3.8s\n"
     ]
    },
    {
     "name": "stdout",
     "output_type": "stream",
     "text": [
      "Num dataset =  22400\n",
      "Optimization complete with best validation score of 8.100000 %,with test performance 8.380000 %\n",
      "The code run for 12 epochs, with 1.058459 epochs/sec\n"
     ]
    },
    {
     "name": "stderr",
     "output_type": "stream",
     "text": [
      "The code for file  ran for 11.3s\n"
     ]
    },
    {
     "name": "stdout",
     "output_type": "stream",
     "text": [
      "Num dataset =  22500\n",
      "Optimization complete with best validation score of 8.090000 %,with test performance 8.320000 %\n",
      "The code run for 12 epochs, with 1.030712 epochs/sec\n"
     ]
    },
    {
     "name": "stderr",
     "output_type": "stream",
     "text": [
      "The code for file  ran for 11.6s\n"
     ]
    },
    {
     "name": "stdout",
     "output_type": "stream",
     "text": [
      "Num dataset =  22600\n",
      "Optimization complete with best validation score of 8.930000 %,with test performance 9.380000 %\n",
      "The code run for 8 epochs, with 1.081657 epochs/sec\n"
     ]
    },
    {
     "name": "stderr",
     "output_type": "stream",
     "text": [
      "The code for file  ran for 7.4s\n"
     ]
    },
    {
     "name": "stdout",
     "output_type": "stream",
     "text": [
      "Num dataset =  22700\n",
      "Optimization complete with best validation score of 9.200000 %,with test performance 9.500000 %\n",
      "The code run for 10 epochs, with 1.016791 epochs/sec\n"
     ]
    },
    {
     "name": "stderr",
     "output_type": "stream",
     "text": [
      "The code for file  ran for 9.8s\n"
     ]
    },
    {
     "name": "stdout",
     "output_type": "stream",
     "text": [
      "Num dataset =  22800\n",
      "Optimization complete with best validation score of 8.450000 %,with test performance 8.540000 %\n",
      "The code run for 10 epochs, with 1.072318 epochs/sec\n"
     ]
    },
    {
     "name": "stderr",
     "output_type": "stream",
     "text": [
      "The code for file  ran for 9.3s\n"
     ]
    },
    {
     "name": "stdout",
     "output_type": "stream",
     "text": [
      "Num dataset =  22900\n",
      "Optimization complete with best validation score of 8.750000 %,with test performance 8.760000 %\n",
      "The code run for 20 epochs, with 1.036672 epochs/sec\n"
     ]
    },
    {
     "name": "stderr",
     "output_type": "stream",
     "text": [
      "The code for file  ran for 19.3s\n"
     ]
    },
    {
     "name": "stdout",
     "output_type": "stream",
     "text": [
      "Num dataset =  23000\n",
      "Optimization complete with best validation score of 8.470000 %,with test performance 8.930000 %\n",
      "The code run for 12 epochs, with 1.060697 epochs/sec\n"
     ]
    },
    {
     "name": "stderr",
     "output_type": "stream",
     "text": [
      "The code for file  ran for 11.3s\n"
     ]
    },
    {
     "name": "stdout",
     "output_type": "stream",
     "text": [
      "Num dataset =  23100\n",
      "Optimization complete with best validation score of 8.620000 %,with test performance 8.570000 %\n",
      "The code run for 14 epochs, with 1.022808 epochs/sec\n"
     ]
    },
    {
     "name": "stderr",
     "output_type": "stream",
     "text": [
      "The code for file  ran for 13.7s\n"
     ]
    },
    {
     "name": "stdout",
     "output_type": "stream",
     "text": [
      "Num dataset =  23200\n",
      "Optimization complete with best validation score of 8.120000 %,with test performance 8.140000 %\n",
      "The code run for 28 epochs, with 1.051730 epochs/sec\n"
     ]
    },
    {
     "name": "stderr",
     "output_type": "stream",
     "text": [
      "The code for file  ran for 26.6s\n"
     ]
    },
    {
     "name": "stdout",
     "output_type": "stream",
     "text": [
      "Num dataset =  23300\n",
      "Optimization complete with best validation score of 8.090000 %,with test performance 8.350000 %\n",
      "The code run for 10 epochs, with 1.066048 epochs/sec\n"
     ]
    },
    {
     "name": "stderr",
     "output_type": "stream",
     "text": [
      "The code for file  ran for 9.4s\n"
     ]
    },
    {
     "name": "stdout",
     "output_type": "stream",
     "text": [
      "Num dataset =  23400\n",
      "Optimization complete with best validation score of 8.360000 %,with test performance 8.430000 %\n",
      "The code run for 22 epochs, with 1.052109 epochs/sec\n"
     ]
    },
    {
     "name": "stderr",
     "output_type": "stream",
     "text": [
      "The code for file  ran for 20.9s\n"
     ]
    },
    {
     "name": "stdout",
     "output_type": "stream",
     "text": [
      "Num dataset =  23500\n",
      "Optimization complete with best validation score of 8.470000 %,with test performance 8.830000 %\n",
      "The code run for 18 epochs, with 1.012746 epochs/sec\n"
     ]
    },
    {
     "name": "stderr",
     "output_type": "stream",
     "text": [
      "The code for file  ran for 17.8s\n"
     ]
    },
    {
     "name": "stdout",
     "output_type": "stream",
     "text": [
      "Num dataset =  23600\n",
      "Optimization complete with best validation score of 8.030000 %,with test performance 8.330000 %\n",
      "The code run for 12 epochs, with 1.016591 epochs/sec\n"
     ]
    },
    {
     "name": "stderr",
     "output_type": "stream",
     "text": [
      "The code for file  ran for 11.8s\n"
     ]
    },
    {
     "name": "stdout",
     "output_type": "stream",
     "text": [
      "Num dataset =  23700\n",
      "Optimization complete with best validation score of 8.460000 %,with test performance 9.030000 %\n",
      "The code run for 18 epochs, with 1.023287 epochs/sec\n"
     ]
    },
    {
     "name": "stderr",
     "output_type": "stream",
     "text": [
      "The code for file  ran for 17.6s\n"
     ]
    },
    {
     "name": "stdout",
     "output_type": "stream",
     "text": [
      "Num dataset =  23800\n",
      "Optimization complete with best validation score of 7.960000 %,with test performance 8.330000 %\n",
      "The code run for 10 epochs, with 1.009837 epochs/sec\n"
     ]
    },
    {
     "name": "stderr",
     "output_type": "stream",
     "text": [
      "The code for file  ran for 9.9s\n"
     ]
    },
    {
     "name": "stdout",
     "output_type": "stream",
     "text": [
      "Num dataset =  23900\n",
      "Optimization complete with best validation score of 7.840000 %,with test performance 8.170000 %\n",
      "The code run for 12 epochs, with 1.025185 epochs/sec\n"
     ]
    },
    {
     "name": "stderr",
     "output_type": "stream",
     "text": [
      "The code for file  ran for 11.7s\n"
     ]
    },
    {
     "name": "stdout",
     "output_type": "stream",
     "text": [
      "Num dataset =  24000\n",
      "Optimization complete with best validation score of 7.680000 %,with test performance 8.050000 %\n",
      "The code run for 16 epochs, with 1.016650 epochs/sec\n"
     ]
    },
    {
     "name": "stderr",
     "output_type": "stream",
     "text": [
      "The code for file  ran for 15.7s\n"
     ]
    },
    {
     "name": "stdout",
     "output_type": "stream",
     "text": [
      "Num dataset =  24100\n",
      "Optimization complete with best validation score of 8.240000 %,with test performance 8.400000 %\n",
      "The code run for 12 epochs, with 1.013680 epochs/sec\n"
     ]
    },
    {
     "name": "stderr",
     "output_type": "stream",
     "text": [
      "The code for file  ran for 11.8s\n"
     ]
    },
    {
     "name": "stdout",
     "output_type": "stream",
     "text": [
      "Num dataset =  24200\n",
      "Optimization complete with best validation score of 7.880000 %,with test performance 8.100000 %\n",
      "The code run for 14 epochs, with 1.005116 epochs/sec\n"
     ]
    },
    {
     "name": "stderr",
     "output_type": "stream",
     "text": [
      "The code for file  ran for 13.9s\n"
     ]
    },
    {
     "name": "stdout",
     "output_type": "stream",
     "text": [
      "Num dataset =  24300\n",
      "Optimization complete with best validation score of 8.750000 %,with test performance 9.350000 %\n",
      "The code run for 24 epochs, with 0.999236 epochs/sec\n"
     ]
    },
    {
     "name": "stderr",
     "output_type": "stream",
     "text": [
      "The code for file  ran for 24.0s\n"
     ]
    },
    {
     "name": "stdout",
     "output_type": "stream",
     "text": [
      "Num dataset =  24400\n",
      "Optimization complete with best validation score of 8.620000 %,with test performance 9.030000 %\n",
      "The code run for 8 epochs, with 0.987345 epochs/sec\n"
     ]
    },
    {
     "name": "stderr",
     "output_type": "stream",
     "text": [
      "The code for file  ran for 8.1s\n"
     ]
    },
    {
     "name": "stdout",
     "output_type": "stream",
     "text": [
      "Num dataset =  24500\n",
      "Optimization complete with best validation score of 7.890000 %,with test performance 8.440000 %\n",
      "The code run for 20 epochs, with 0.997706 epochs/sec\n"
     ]
    },
    {
     "name": "stderr",
     "output_type": "stream",
     "text": [
      "The code for file  ran for 20.0s\n"
     ]
    },
    {
     "name": "stdout",
     "output_type": "stream",
     "text": [
      "Num dataset =  24600\n",
      "Optimization complete with best validation score of 8.970000 %,with test performance 9.250000 %\n",
      "The code run for 10 epochs, with 0.958395 epochs/sec\n"
     ]
    },
    {
     "name": "stderr",
     "output_type": "stream",
     "text": [
      "The code for file  ran for 10.4s\n"
     ]
    },
    {
     "name": "stdout",
     "output_type": "stream",
     "text": [
      "Num dataset =  24700\n",
      "Optimization complete with best validation score of 8.850000 %,with test performance 9.550000 %\n",
      "The code run for 4 epochs, with 0.960621 epochs/sec\n"
     ]
    },
    {
     "name": "stderr",
     "output_type": "stream",
     "text": [
      "The code for file  ran for 4.2s\n"
     ]
    },
    {
     "name": "stdout",
     "output_type": "stream",
     "text": [
      "Num dataset =  24800\n",
      "Optimization complete with best validation score of 8.840000 %,with test performance 9.210000 %\n",
      "The code run for 6 epochs, with 0.965676 epochs/sec\n"
     ]
    },
    {
     "name": "stderr",
     "output_type": "stream",
     "text": [
      "The code for file  ran for 6.2s\n"
     ]
    },
    {
     "name": "stdout",
     "output_type": "stream",
     "text": [
      "Num dataset =  24900\n",
      "Optimization complete with best validation score of 8.580000 %,with test performance 8.770000 %\n",
      "The code run for 4 epochs, with 0.979128 epochs/sec\n"
     ]
    },
    {
     "name": "stderr",
     "output_type": "stream",
     "text": [
      "The code for file  ran for 4.1s\n"
     ]
    },
    {
     "name": "stdout",
     "output_type": "stream",
     "text": [
      "Num dataset =  25000\n",
      "Optimization complete with best validation score of 8.290000 %,with test performance 8.370000 %\n",
      "The code run for 10 epochs, with 0.926589 epochs/sec\n"
     ]
    },
    {
     "name": "stderr",
     "output_type": "stream",
     "text": [
      "The code for file  ran for 10.8s\n"
     ]
    },
    {
     "name": "stdout",
     "output_type": "stream",
     "text": [
      "Num dataset =  25100\n",
      "Optimization complete with best validation score of 8.610000 %,with test performance 8.980000 %\n",
      "The code run for 4 epochs, with 0.975778 epochs/sec\n"
     ]
    },
    {
     "name": "stderr",
     "output_type": "stream",
     "text": [
      "The code for file  ran for 4.1s\n"
     ]
    },
    {
     "name": "stdout",
     "output_type": "stream",
     "text": [
      "Num dataset =  25200\n",
      "Optimization complete with best validation score of 9.010000 %,with test performance 9.250000 %\n",
      "The code run for 4 epochs, with 1.038091 epochs/sec\n"
     ]
    },
    {
     "name": "stderr",
     "output_type": "stream",
     "text": [
      "The code for file  ran for 3.9s\n"
     ]
    },
    {
     "name": "stdout",
     "output_type": "stream",
     "text": [
      "Num dataset =  25300\n",
      "Optimization complete with best validation score of 7.970000 %,with test performance 8.280000 %\n",
      "The code run for 10 epochs, with 0.994507 epochs/sec\n"
     ]
    },
    {
     "name": "stderr",
     "output_type": "stream",
     "text": [
      "The code for file  ran for 10.1s\n"
     ]
    },
    {
     "name": "stdout",
     "output_type": "stream",
     "text": [
      "Num dataset =  25400\n",
      "Optimization complete with best validation score of 9.070000 %,with test performance 9.170000 %\n",
      "The code run for 2 epochs, with 0.983780 epochs/sec\n"
     ]
    },
    {
     "name": "stderr",
     "output_type": "stream",
     "text": [
      "The code for file  ran for 2.0s\n"
     ]
    },
    {
     "name": "stdout",
     "output_type": "stream",
     "text": [
      "Num dataset =  25500\n",
      "Optimization complete with best validation score of 7.830000 %,with test performance 8.240000 %\n",
      "The code run for 6 epochs, with 0.993167 epochs/sec\n"
     ]
    },
    {
     "name": "stderr",
     "output_type": "stream",
     "text": [
      "The code for file  ran for 6.0s\n"
     ]
    },
    {
     "name": "stdout",
     "output_type": "stream",
     "text": [
      "Num dataset =  25600\n",
      "Optimization complete with best validation score of 8.060000 %,with test performance 8.490000 %\n",
      "The code run for 6 epochs, with 0.992594 epochs/sec\n"
     ]
    },
    {
     "name": "stderr",
     "output_type": "stream",
     "text": [
      "The code for file  ran for 6.0s\n"
     ]
    },
    {
     "name": "stdout",
     "output_type": "stream",
     "text": [
      "Num dataset =  25700\n",
      "Optimization complete with best validation score of 9.070000 %,with test performance 9.170000 %\n",
      "The code run for 2 epochs, with 0.958761 epochs/sec\n"
     ]
    },
    {
     "name": "stderr",
     "output_type": "stream",
     "text": [
      "The code for file  ran for 2.1s\n"
     ]
    },
    {
     "name": "stdout",
     "output_type": "stream",
     "text": [
      "Num dataset =  25800\n",
      "Optimization complete with best validation score of 8.310000 %,with test performance 8.280000 %\n",
      "The code run for 4 epochs, with 0.983440 epochs/sec\n"
     ]
    },
    {
     "name": "stderr",
     "output_type": "stream",
     "text": [
      "The code for file  ran for 4.1s\n"
     ]
    },
    {
     "name": "stdout",
     "output_type": "stream",
     "text": [
      "Num dataset =  25900\n",
      "Optimization complete with best validation score of 8.040000 %,with test performance 8.300000 %\n",
      "The code run for 16 epochs, with 1.023280 epochs/sec\n"
     ]
    },
    {
     "name": "stderr",
     "output_type": "stream",
     "text": [
      "The code for file  ran for 15.6s\n"
     ]
    },
    {
     "name": "stdout",
     "output_type": "stream",
     "text": [
      "Num dataset =  26000\n",
      "Optimization complete with best validation score of 8.190000 %,with test performance 8.310000 %\n",
      "The code run for 4 epochs, with 0.992685 epochs/sec\n"
     ]
    },
    {
     "name": "stderr",
     "output_type": "stream",
     "text": [
      "The code for file  ran for 4.0s\n"
     ]
    },
    {
     "name": "stdout",
     "output_type": "stream",
     "text": [
      "Num dataset =  26100\n",
      "Optimization complete with best validation score of 8.140000 %,with test performance 8.290000 %\n",
      "The code run for 4 epochs, with 1.011566 epochs/sec\n"
     ]
    },
    {
     "name": "stderr",
     "output_type": "stream",
     "text": [
      "The code for file  ran for 4.0s\n"
     ]
    },
    {
     "name": "stdout",
     "output_type": "stream",
     "text": [
      "Num dataset =  26200\n",
      "Optimization complete with best validation score of 8.310000 %,with test performance 8.700000 %\n",
      "The code run for 4 epochs, with 1.033281 epochs/sec\n"
     ]
    },
    {
     "name": "stderr",
     "output_type": "stream",
     "text": [
      "The code for file  ran for 3.9s\n"
     ]
    },
    {
     "name": "stdout",
     "output_type": "stream",
     "text": [
      "Num dataset =  26300\n",
      "Optimization complete with best validation score of 9.070000 %,with test performance 9.170000 %\n",
      "The code run for 2 epochs, with 0.968826 epochs/sec\n"
     ]
    },
    {
     "name": "stderr",
     "output_type": "stream",
     "text": [
      "The code for file  ran for 2.1s\n"
     ]
    },
    {
     "name": "stdout",
     "output_type": "stream",
     "text": [
      "Num dataset =  26400\n",
      "Optimization complete with best validation score of 8.480000 %,with test performance 8.800000 %\n",
      "The code run for 4 epochs, with 1.005967 epochs/sec\n"
     ]
    },
    {
     "name": "stderr",
     "output_type": "stream",
     "text": [
      "The code for file  ran for 4.0s\n"
     ]
    },
    {
     "name": "stdout",
     "output_type": "stream",
     "text": [
      "Num dataset =  26500\n",
      "Optimization complete with best validation score of 8.030000 %,with test performance 8.370000 %\n",
      "The code run for 10 epochs, with 0.994983 epochs/sec\n"
     ]
    },
    {
     "name": "stderr",
     "output_type": "stream",
     "text": [
      "The code for file  ran for 10.1s\n"
     ]
    },
    {
     "name": "stdout",
     "output_type": "stream",
     "text": [
      "Num dataset =  26600\n",
      "Optimization complete with best validation score of 8.030000 %,with test performance 8.130000 %\n",
      "The code run for 16 epochs, with 0.993559 epochs/sec\n"
     ]
    },
    {
     "name": "stderr",
     "output_type": "stream",
     "text": [
      "The code for file  ran for 16.1s\n"
     ]
    },
    {
     "name": "stdout",
     "output_type": "stream",
     "text": [
      "Num dataset =  26700\n",
      "Optimization complete with best validation score of 8.370000 %,with test performance 8.480000 %\n",
      "The code run for 4 epochs, with 0.944396 epochs/sec\n"
     ]
    },
    {
     "name": "stderr",
     "output_type": "stream",
     "text": [
      "The code for file  ran for 4.2s\n"
     ]
    },
    {
     "name": "stdout",
     "output_type": "stream",
     "text": [
      "Num dataset =  26800\n",
      "Optimization complete with best validation score of 8.520000 %,with test performance 8.730000 %\n",
      "The code run for 6 epochs, with 0.981552 epochs/sec\n"
     ]
    },
    {
     "name": "stderr",
     "output_type": "stream",
     "text": [
      "The code for file  ran for 6.1s\n"
     ]
    },
    {
     "name": "stdout",
     "output_type": "stream",
     "text": [
      "Num dataset =  26900\n",
      "Optimization complete with best validation score of 9.070000 %,with test performance 9.170000 %\n",
      "The code run for 2 epochs, with 0.951957 epochs/sec\n"
     ]
    },
    {
     "name": "stderr",
     "output_type": "stream",
     "text": [
      "The code for file  ran for 2.1s\n"
     ]
    },
    {
     "name": "stdout",
     "output_type": "stream",
     "text": [
      "Num dataset =  27000\n",
      "Optimization complete with best validation score of 8.880000 %,with test performance 9.150000 %\n",
      "The code run for 4 epochs, with 1.002032 epochs/sec\n"
     ]
    },
    {
     "name": "stderr",
     "output_type": "stream",
     "text": [
      "The code for file  ran for 4.0s\n"
     ]
    },
    {
     "name": "stdout",
     "output_type": "stream",
     "text": [
      "Num dataset =  27100\n",
      "Optimization complete with best validation score of 9.070000 %,with test performance 9.170000 %\n",
      "The code run for 2 epochs, with 0.925175 epochs/sec\n"
     ]
    },
    {
     "name": "stderr",
     "output_type": "stream",
     "text": [
      "The code for file  ran for 2.2s\n"
     ]
    },
    {
     "name": "stdout",
     "output_type": "stream",
     "text": [
      "Num dataset =  27200\n",
      "Optimization complete with best validation score of 7.990000 %,with test performance 8.420000 %\n",
      "The code run for 6 epochs, with 0.996027 epochs/sec\n"
     ]
    },
    {
     "name": "stderr",
     "output_type": "stream",
     "text": [
      "The code for file  ran for 6.0s\n"
     ]
    },
    {
     "name": "stdout",
     "output_type": "stream",
     "text": [
      "Num dataset =  27300\n",
      "Optimization complete with best validation score of 9.070000 %,with test performance 9.170000 %\n",
      "The code run for 2 epochs, with 0.968101 epochs/sec\n"
     ]
    },
    {
     "name": "stderr",
     "output_type": "stream",
     "text": [
      "The code for file  ran for 2.1s\n"
     ]
    },
    {
     "name": "stdout",
     "output_type": "stream",
     "text": [
      "Num dataset =  27400\n",
      "Optimization complete with best validation score of 9.070000 %,with test performance 9.170000 %\n",
      "The code run for 2 epochs, with 0.980671 epochs/sec\n"
     ]
    },
    {
     "name": "stderr",
     "output_type": "stream",
     "text": [
      "The code for file  ran for 2.0s\n"
     ]
    },
    {
     "name": "stdout",
     "output_type": "stream",
     "text": [
      "Num dataset =  27500\n",
      "Optimization complete with best validation score of 7.900000 %,with test performance 8.180000 %\n",
      "The code run for 24 epochs, with 0.937713 epochs/sec\n"
     ]
    },
    {
     "name": "stderr",
     "output_type": "stream",
     "text": [
      "The code for file  ran for 25.6s\n"
     ]
    },
    {
     "name": "stdout",
     "output_type": "stream",
     "text": [
      "Num dataset =  27600\n",
      "Optimization complete with best validation score of 7.860000 %,with test performance 8.580000 %\n",
      "The code run for 6 epochs, with 0.989777 epochs/sec\n"
     ]
    },
    {
     "name": "stderr",
     "output_type": "stream",
     "text": [
      "The code for file  ran for 6.1s\n"
     ]
    },
    {
     "name": "stdout",
     "output_type": "stream",
     "text": [
      "Num dataset =  27700\n",
      "Optimization complete with best validation score of 8.280000 %,with test performance 8.740000 %\n",
      "The code run for 4 epochs, with 1.007951 epochs/sec\n"
     ]
    },
    {
     "name": "stderr",
     "output_type": "stream",
     "text": [
      "The code for file  ran for 4.0s\n"
     ]
    },
    {
     "name": "stdout",
     "output_type": "stream",
     "text": [
      "Num dataset =  27800\n",
      "Optimization complete with best validation score of 7.900000 %,with test performance 8.450000 %\n",
      "The code run for 9 epochs, with 0.897373 epochs/sec\n"
     ]
    },
    {
     "name": "stderr",
     "output_type": "stream",
     "text": [
      "The code for file  ran for 10.0s\n"
     ]
    },
    {
     "name": "stdout",
     "output_type": "stream",
     "text": [
      "Num dataset =  27900\n",
      "Optimization complete with best validation score of 8.010000 %,with test performance 8.350000 %\n",
      "The code run for 8 epochs, with 0.986847 epochs/sec\n"
     ]
    },
    {
     "name": "stderr",
     "output_type": "stream",
     "text": [
      "The code for file  ran for 8.1s\n"
     ]
    },
    {
     "name": "stdout",
     "output_type": "stream",
     "text": [
      "Num dataset =  28000\n",
      "Optimization complete with best validation score of 8.150000 %,with test performance 8.440000 %\n",
      "The code run for 6 epochs, with 0.997279 epochs/sec\n"
     ]
    },
    {
     "name": "stderr",
     "output_type": "stream",
     "text": [
      "The code for file  ran for 6.0s\n"
     ]
    },
    {
     "name": "stdout",
     "output_type": "stream",
     "text": [
      "Num dataset =  28100\n",
      "Optimization complete with best validation score of 7.960000 %,with test performance 8.490000 %\n",
      "The code run for 8 epochs, with 0.980039 epochs/sec\n"
     ]
    },
    {
     "name": "stderr",
     "output_type": "stream",
     "text": [
      "The code for file  ran for 8.2s\n"
     ]
    },
    {
     "name": "stdout",
     "output_type": "stream",
     "text": [
      "Num dataset =  28200\n",
      "Optimization complete with best validation score of 8.290000 %,with test performance 8.610000 %\n",
      "The code run for 6 epochs, with 0.978464 epochs/sec\n"
     ]
    },
    {
     "name": "stderr",
     "output_type": "stream",
     "text": [
      "The code for file  ran for 6.1s\n"
     ]
    },
    {
     "name": "stdout",
     "output_type": "stream",
     "text": [
      "Num dataset =  28300\n",
      "Optimization complete with best validation score of 8.350000 %,with test performance 8.960000 %\n",
      "The code run for 6 epochs, with 0.986116 epochs/sec\n"
     ]
    },
    {
     "name": "stderr",
     "output_type": "stream",
     "text": [
      "The code for file  ran for 6.1s\n"
     ]
    },
    {
     "name": "stdout",
     "output_type": "stream",
     "text": [
      "Num dataset =  28400\n",
      "Optimization complete with best validation score of 8.380000 %,with test performance 8.920000 %\n",
      "The code run for 6 epochs, with 1.014178 epochs/sec\n"
     ]
    },
    {
     "name": "stderr",
     "output_type": "stream",
     "text": [
      "The code for file  ran for 5.9s\n"
     ]
    },
    {
     "name": "stdout",
     "output_type": "stream",
     "text": [
      "Num dataset =  28500\n",
      "Optimization complete with best validation score of 7.980000 %,with test performance 8.720000 %\n",
      "The code run for 8 epochs, with 0.984435 epochs/sec\n"
     ]
    },
    {
     "name": "stderr",
     "output_type": "stream",
     "text": [
      "The code for file  ran for 8.1s\n"
     ]
    },
    {
     "name": "stdout",
     "output_type": "stream",
     "text": [
      "Num dataset =  28600\n",
      "Optimization complete with best validation score of 8.070000 %,with test performance 8.140000 %\n",
      "The code run for 9 epochs, with 0.899212 epochs/sec\n"
     ]
    },
    {
     "name": "stderr",
     "output_type": "stream",
     "text": [
      "The code for file  ran for 10.0s\n"
     ]
    },
    {
     "name": "stdout",
     "output_type": "stream",
     "text": [
      "Num dataset =  28700\n",
      "Optimization complete with best validation score of 8.290000 %,with test performance 8.520000 %\n",
      "The code run for 4 epochs, with 1.007752 epochs/sec\n"
     ]
    },
    {
     "name": "stderr",
     "output_type": "stream",
     "text": [
      "The code for file  ran for 4.0s\n"
     ]
    },
    {
     "name": "stdout",
     "output_type": "stream",
     "text": [
      "Num dataset =  28800\n",
      "Optimization complete with best validation score of 8.630000 %,with test performance 8.630000 %\n",
      "The code run for 4 epochs, with 0.997087 epochs/sec\n"
     ]
    },
    {
     "name": "stderr",
     "output_type": "stream",
     "text": [
      "The code for file  ran for 4.0s\n"
     ]
    },
    {
     "name": "stdout",
     "output_type": "stream",
     "text": [
      "Num dataset =  28900\n",
      "Optimization complete with best validation score of 8.400000 %,with test performance 8.590000 %\n",
      "The code run for 6 epochs, with 0.978039 epochs/sec\n"
     ]
    },
    {
     "name": "stderr",
     "output_type": "stream",
     "text": [
      "The code for file  ran for 6.1s\n"
     ]
    },
    {
     "name": "stdout",
     "output_type": "stream",
     "text": [
      "Num dataset =  29000\n",
      "Optimization complete with best validation score of 9.070000 %,with test performance 9.170000 %\n",
      "The code run for 2 epochs, with 0.939809 epochs/sec\n"
     ]
    },
    {
     "name": "stderr",
     "output_type": "stream",
     "text": [
      "The code for file  ran for 2.1s\n"
     ]
    },
    {
     "name": "stdout",
     "output_type": "stream",
     "text": [
      "Num dataset =  29100\n",
      "Optimization complete with best validation score of 9.070000 %,with test performance 9.170000 %\n",
      "The code run for 2 epochs, with 0.961315 epochs/sec\n"
     ]
    },
    {
     "name": "stderr",
     "output_type": "stream",
     "text": [
      "The code for file  ran for 2.1s\n"
     ]
    },
    {
     "name": "stdout",
     "output_type": "stream",
     "text": [
      "Num dataset =  29200\n",
      "Optimization complete with best validation score of 9.070000 %,with test performance 9.170000 %\n",
      "The code run for 2 epochs, with 0.962120 epochs/sec\n"
     ]
    },
    {
     "name": "stderr",
     "output_type": "stream",
     "text": [
      "The code for file  ran for 2.1s\n"
     ]
    },
    {
     "name": "stdout",
     "output_type": "stream",
     "text": [
      "Num dataset =  29300\n",
      "Optimization complete with best validation score of 8.250000 %,with test performance 8.470000 %\n",
      "The code run for 6 epochs, with 0.992277 epochs/sec\n"
     ]
    },
    {
     "name": "stderr",
     "output_type": "stream",
     "text": [
      "The code for file  ran for 6.0s\n"
     ]
    },
    {
     "name": "stdout",
     "output_type": "stream",
     "text": [
      "Num dataset =  29400\n",
      "Optimization complete with best validation score of 8.120000 %,with test performance 8.530000 %\n",
      "The code run for 4 epochs, with 1.005148 epochs/sec\n"
     ]
    },
    {
     "name": "stderr",
     "output_type": "stream",
     "text": [
      "The code for file  ran for 4.0s\n"
     ]
    },
    {
     "name": "stdout",
     "output_type": "stream",
     "text": [
      "Num dataset =  29500\n",
      "Optimization complete with best validation score of 8.490000 %,with test performance 8.920000 %\n",
      "The code run for 4 epochs, with 0.952179 epochs/sec\n"
     ]
    },
    {
     "name": "stderr",
     "output_type": "stream",
     "text": [
      "The code for file  ran for 4.2s\n"
     ]
    },
    {
     "name": "stdout",
     "output_type": "stream",
     "text": [
      "Num dataset =  29600\n",
      "Optimization complete with best validation score of 7.600000 %,with test performance 8.030000 %\n",
      "The code run for 22 epochs, with 0.863325 epochs/sec\n"
     ]
    },
    {
     "name": "stderr",
     "output_type": "stream",
     "text": [
      "The code for file  ran for 25.5s\n"
     ]
    },
    {
     "name": "stdout",
     "output_type": "stream",
     "text": [
      "Num dataset =  29700\n",
      "Optimization complete with best validation score of 7.870000 %,with test performance 8.360000 %\n",
      "The code run for 12 epochs, with 0.857619 epochs/sec\n"
     ]
    },
    {
     "name": "stderr",
     "output_type": "stream",
     "text": [
      "The code for file  ran for 14.0s\n"
     ]
    },
    {
     "name": "stdout",
     "output_type": "stream",
     "text": [
      "Num dataset =  29800\n",
      "Optimization complete with best validation score of 9.070000 %,with test performance 9.170000 %\n",
      "The code run for 2 epochs, with 0.949346 epochs/sec\n"
     ]
    },
    {
     "name": "stderr",
     "output_type": "stream",
     "text": [
      "The code for file  ran for 2.1s\n"
     ]
    },
    {
     "name": "stdout",
     "output_type": "stream",
     "text": [
      "Num dataset =  29900\n",
      "Optimization complete with best validation score of 8.600000 %,with test performance 9.040000 %\n",
      "The code run for 4 epochs, with 0.990029 epochs/sec\n"
     ]
    },
    {
     "name": "stderr",
     "output_type": "stream",
     "text": [
      "The code for file  ran for 4.0s\n"
     ]
    },
    {
     "name": "stdout",
     "output_type": "stream",
     "text": [
      "Num dataset =  30000\n",
      "Optimization complete with best validation score of 7.860000 %,with test performance 8.280000 %\n",
      "The code run for 9 epochs, with 0.896774 epochs/sec\n"
     ]
    },
    {
     "name": "stderr",
     "output_type": "stream",
     "text": [
      "The code for file  ran for 10.0s\n"
     ]
    },
    {
     "name": "stdout",
     "output_type": "stream",
     "text": [
      "Num dataset =  30100\n",
      "Optimization complete with best validation score of 9.070000 %,with test performance 9.170000 %\n",
      "The code run for 2 epochs, with 0.905482 epochs/sec\n"
     ]
    },
    {
     "name": "stderr",
     "output_type": "stream",
     "text": [
      "The code for file  ran for 2.2s\n"
     ]
    },
    {
     "name": "stdout",
     "output_type": "stream",
     "text": [
      "Num dataset =  30200\n",
      "Optimization complete with best validation score of 8.040000 %,with test performance 8.680000 %\n",
      "The code run for 4 epochs, with 1.005280 epochs/sec\n"
     ]
    },
    {
     "name": "stderr",
     "output_type": "stream",
     "text": [
      "The code for file  ran for 4.0s\n"
     ]
    },
    {
     "name": "stdout",
     "output_type": "stream",
     "text": [
      "Num dataset =  30300\n",
      "Optimization complete with best validation score of 8.290000 %,with test performance 8.720000 %\n",
      "The code run for 4 epochs, with 0.988110 epochs/sec\n"
     ]
    },
    {
     "name": "stderr",
     "output_type": "stream",
     "text": [
      "The code for file  ran for 4.0s\n"
     ]
    },
    {
     "name": "stdout",
     "output_type": "stream",
     "text": [
      "Num dataset =  30400\n",
      "Optimization complete with best validation score of 9.070000 %,with test performance 9.170000 %\n",
      "The code run for 2 epochs, with 0.922597 epochs/sec\n"
     ]
    },
    {
     "name": "stderr",
     "output_type": "stream",
     "text": [
      "The code for file  ran for 2.2s\n"
     ]
    },
    {
     "name": "stdout",
     "output_type": "stream",
     "text": [
      "Num dataset =  30500\n",
      "Optimization complete with best validation score of 8.320000 %,with test performance 8.390000 %\n",
      "The code run for 5 epochs, with 0.820186 epochs/sec\n"
     ]
    },
    {
     "name": "stderr",
     "output_type": "stream",
     "text": [
      "The code for file  ran for 6.1s\n"
     ]
    },
    {
     "name": "stdout",
     "output_type": "stream",
     "text": [
      "Num dataset =  30600\n",
      "Optimization complete with best validation score of 7.970000 %,with test performance 8.470000 %\n",
      "The code run for 5 epochs, with 0.797110 epochs/sec\n"
     ]
    },
    {
     "name": "stderr",
     "output_type": "stream",
     "text": [
      "The code for file  ran for 6.3s\n"
     ]
    },
    {
     "name": "stdout",
     "output_type": "stream",
     "text": [
      "Num dataset =  30700\n",
      "Optimization complete with best validation score of 7.730000 %,with test performance 8.110000 %\n",
      "The code run for 27 epochs, with 0.879825 epochs/sec\n"
     ]
    },
    {
     "name": "stderr",
     "output_type": "stream",
     "text": [
      "The code for file  ran for 30.7s\n"
     ]
    },
    {
     "name": "stdout",
     "output_type": "stream",
     "text": [
      "Num dataset =  30800\n",
      "Optimization complete with best validation score of 8.310000 %,with test performance 9.010000 %\n",
      "The code run for 4 epochs, with 1.038150 epochs/sec\n"
     ]
    },
    {
     "name": "stderr",
     "output_type": "stream",
     "text": [
      "The code for file  ran for 3.9s\n"
     ]
    },
    {
     "name": "stdout",
     "output_type": "stream",
     "text": [
      "Num dataset =  30900\n",
      "Optimization complete with best validation score of 8.130000 %,with test performance 8.440000 %\n",
      "The code run for 4 epochs, with 0.993352 epochs/sec\n"
     ]
    },
    {
     "name": "stderr",
     "output_type": "stream",
     "text": [
      "The code for file  ran for 4.0s\n"
     ]
    },
    {
     "name": "stdout",
     "output_type": "stream",
     "text": [
      "Num dataset =  31000\n",
      "Optimization complete with best validation score of 8.320000 %,with test performance 8.400000 %\n",
      "The code run for 4 epochs, with 0.963496 epochs/sec\n"
     ]
    },
    {
     "name": "stderr",
     "output_type": "stream",
     "text": [
      "The code for file  ran for 4.2s\n"
     ]
    },
    {
     "name": "stdout",
     "output_type": "stream",
     "text": [
      "Num dataset =  31100\n",
      "Optimization complete with best validation score of 8.140000 %,with test performance 8.330000 %\n",
      "The code run for 4 epochs, with 0.993949 epochs/sec\n"
     ]
    },
    {
     "name": "stderr",
     "output_type": "stream",
     "text": [
      "The code for file  ran for 4.0s\n"
     ]
    },
    {
     "name": "stdout",
     "output_type": "stream",
     "text": [
      "Num dataset =  31200\n",
      "Optimization complete with best validation score of 8.410000 %,with test performance 8.600000 %\n",
      "The code run for 4 epochs, with 1.017728 epochs/sec\n"
     ]
    },
    {
     "name": "stderr",
     "output_type": "stream",
     "text": [
      "The code for file  ran for 3.9s\n"
     ]
    },
    {
     "name": "stdout",
     "output_type": "stream",
     "text": [
      "Num dataset =  31300\n",
      "Optimization complete with best validation score of 8.510000 %,with test performance 8.600000 %\n",
      "The code run for 4 epochs, with 0.984983 epochs/sec\n"
     ]
    },
    {
     "name": "stderr",
     "output_type": "stream",
     "text": [
      "The code for file  ran for 4.1s\n"
     ]
    },
    {
     "name": "stdout",
     "output_type": "stream",
     "text": [
      "Num dataset =  31400\n",
      "Optimization complete with best validation score of 8.430000 %,with test performance 8.740000 %\n",
      "The code run for 4 epochs, with 0.983079 epochs/sec\n"
     ]
    },
    {
     "name": "stderr",
     "output_type": "stream",
     "text": [
      "The code for file  ran for 4.1s\n"
     ]
    },
    {
     "name": "stdout",
     "output_type": "stream",
     "text": [
      "Num dataset =  31500\n",
      "Optimization complete with best validation score of 9.070000 %,with test performance 9.170000 %\n",
      "The code run for 2 epochs, with 0.948822 epochs/sec\n"
     ]
    },
    {
     "name": "stderr",
     "output_type": "stream",
     "text": [
      "The code for file  ran for 2.1s\n"
     ]
    },
    {
     "name": "stdout",
     "output_type": "stream",
     "text": [
      "Num dataset =  31600\n",
      "Optimization complete with best validation score of 8.400000 %,with test performance 9.070000 %\n",
      "The code run for 4 epochs, with 1.013716 epochs/sec\n"
     ]
    },
    {
     "name": "stderr",
     "output_type": "stream",
     "text": [
      "The code for file  ran for 3.9s\n"
     ]
    },
    {
     "name": "stdout",
     "output_type": "stream",
     "text": [
      "Num dataset =  31700\n",
      "Optimization complete with best validation score of 7.930000 %,with test performance 8.610000 %\n",
      "The code run for 8 epochs, with 0.799443 epochs/sec\n"
     ]
    },
    {
     "name": "stderr",
     "output_type": "stream",
     "text": [
      "The code for file  ran for 10.0s\n"
     ]
    },
    {
     "name": "stdout",
     "output_type": "stream",
     "text": [
      "Num dataset =  31800\n",
      "Optimization complete with best validation score of 8.450000 %,with test performance 8.880000 %\n",
      "The code run for 4 epochs, with 0.966029 epochs/sec\n"
     ]
    },
    {
     "name": "stderr",
     "output_type": "stream",
     "text": [
      "The code for file  ran for 4.1s\n"
     ]
    },
    {
     "name": "stdout",
     "output_type": "stream",
     "text": [
      "Num dataset =  31900\n",
      "Optimization complete with best validation score of 8.130000 %,with test performance 8.580000 %\n",
      "The code run for 5 epochs, with 0.830935 epochs/sec\n"
     ]
    },
    {
     "name": "stderr",
     "output_type": "stream",
     "text": [
      "The code for file  ran for 6.0s\n"
     ]
    },
    {
     "name": "stdout",
     "output_type": "stream",
     "text": [
      "Num dataset =  32000\n",
      "Optimization complete with best validation score of 7.650000 %,with test performance 8.150000 %\n",
      "The code run for 8 epochs, with 0.772889 epochs/sec\n"
     ]
    },
    {
     "name": "stderr",
     "output_type": "stream",
     "text": [
      "The code for file  ran for 10.4s\n"
     ]
    },
    {
     "name": "stdout",
     "output_type": "stream",
     "text": [
      "Num dataset =  32100\n",
      "Optimization complete with best validation score of 8.180000 %,with test performance 8.470000 %\n",
      "The code run for 4 epochs, with 0.990216 epochs/sec\n"
     ]
    },
    {
     "name": "stderr",
     "output_type": "stream",
     "text": [
      "The code for file  ran for 4.0s\n"
     ]
    },
    {
     "name": "stdout",
     "output_type": "stream",
     "text": [
      "Num dataset =  32200\n",
      "Optimization complete with best validation score of 8.070000 %,with test performance 8.690000 %\n",
      "The code run for 5 epochs, with 0.807051 epochs/sec\n"
     ]
    },
    {
     "name": "stderr",
     "output_type": "stream",
     "text": [
      "The code for file  ran for 6.2s\n"
     ]
    },
    {
     "name": "stdout",
     "output_type": "stream",
     "text": [
      "Num dataset =  32300\n",
      "Optimization complete with best validation score of 9.070000 %,with test performance 9.170000 %\n",
      "The code run for 2 epochs, with 0.932707 epochs/sec\n"
     ]
    },
    {
     "name": "stderr",
     "output_type": "stream",
     "text": [
      "The code for file  ran for 2.1s\n"
     ]
    },
    {
     "name": "stdout",
     "output_type": "stream",
     "text": [
      "Num dataset =  32400\n",
      "Optimization complete with best validation score of 9.070000 %,with test performance 9.170000 %\n",
      "The code run for 2 epochs, with 0.925152 epochs/sec\n"
     ]
    },
    {
     "name": "stderr",
     "output_type": "stream",
     "text": [
      "The code for file  ran for 2.2s\n"
     ]
    },
    {
     "name": "stdout",
     "output_type": "stream",
     "text": [
      "Num dataset =  32500\n",
      "Optimization complete with best validation score of 7.660000 %,with test performance 8.340000 %\n",
      "The code run for 13 epochs, with 0.820406 epochs/sec\n"
     ]
    },
    {
     "name": "stderr",
     "output_type": "stream",
     "text": [
      "The code for file  ran for 15.8s\n"
     ]
    },
    {
     "name": "stdout",
     "output_type": "stream",
     "text": [
      "Num dataset =  32600\n",
      "Optimization complete with best validation score of 9.000000 %,with test performance 9.050000 %\n",
      "The code run for 4 epochs, with 0.997380 epochs/sec\n"
     ]
    },
    {
     "name": "stderr",
     "output_type": "stream",
     "text": [
      "The code for file  ran for 4.0s\n"
     ]
    },
    {
     "name": "stdout",
     "output_type": "stream",
     "text": [
      "Num dataset =  32700\n",
      "Optimization complete with best validation score of 8.550000 %,with test performance 8.770000 %\n",
      "The code run for 4 epochs, with 1.002607 epochs/sec\n"
     ]
    },
    {
     "name": "stderr",
     "output_type": "stream",
     "text": [
      "The code for file  ran for 4.0s\n"
     ]
    },
    {
     "name": "stdout",
     "output_type": "stream",
     "text": [
      "Num dataset =  32800\n",
      "Optimization complete with best validation score of 8.340000 %,with test performance 8.570000 %\n",
      "The code run for 4 epochs, with 0.997875 epochs/sec\n"
     ]
    },
    {
     "name": "stderr",
     "output_type": "stream",
     "text": [
      "The code for file  ran for 4.0s\n"
     ]
    },
    {
     "name": "stdout",
     "output_type": "stream",
     "text": [
      "Num dataset =  32900\n",
      "Optimization complete with best validation score of 8.430000 %,with test performance 8.540000 %\n",
      "The code run for 4 epochs, with 1.033132 epochs/sec\n"
     ]
    },
    {
     "name": "stderr",
     "output_type": "stream",
     "text": [
      "The code for file  ran for 3.9s\n"
     ]
    },
    {
     "name": "stdout",
     "output_type": "stream",
     "text": [
      "Num dataset =  33000\n",
      "Optimization complete with best validation score of 8.710000 %,with test performance 8.950000 %\n",
      "The code run for 4 epochs, with 0.977432 epochs/sec\n"
     ]
    },
    {
     "name": "stderr",
     "output_type": "stream",
     "text": [
      "The code for file  ran for 4.1s\n"
     ]
    },
    {
     "name": "stdout",
     "output_type": "stream",
     "text": [
      "Num dataset =  33100\n",
      "Optimization complete with best validation score of 8.460000 %,with test performance 8.790000 %\n",
      "The code run for 4 epochs, with 1.021614 epochs/sec\n"
     ]
    },
    {
     "name": "stderr",
     "output_type": "stream",
     "text": [
      "The code for file  ran for 3.9s\n"
     ]
    },
    {
     "name": "stdout",
     "output_type": "stream",
     "text": [
      "Num dataset =  33200\n",
      "Optimization complete with best validation score of 8.370000 %,with test performance 8.530000 %\n",
      "The code run for 4 epochs, with 1.003018 epochs/sec\n"
     ]
    },
    {
     "name": "stderr",
     "output_type": "stream",
     "text": [
      "The code for file  ran for 4.0s\n"
     ]
    },
    {
     "name": "stdout",
     "output_type": "stream",
     "text": [
      "Num dataset =  33300\n",
      "Optimization complete with best validation score of 9.070000 %,with test performance 9.170000 %\n",
      "The code run for 2 epochs, with 0.966997 epochs/sec\n"
     ]
    },
    {
     "name": "stderr",
     "output_type": "stream",
     "text": [
      "The code for file  ran for 2.1s\n"
     ]
    },
    {
     "name": "stdout",
     "output_type": "stream",
     "text": [
      "Num dataset =  33400\n",
      "Optimization complete with best validation score of 8.710000 %,with test performance 8.830000 %\n",
      "The code run for 3 epochs, with 0.749190 epochs/sec\n"
     ]
    },
    {
     "name": "stderr",
     "output_type": "stream",
     "text": [
      "The code for file  ran for 4.0s\n"
     ]
    },
    {
     "name": "stdout",
     "output_type": "stream",
     "text": [
      "Num dataset =  33500\n",
      "Optimization complete with best validation score of 9.070000 %,with test performance 9.170000 %\n",
      "The code run for 2 epochs, with 0.955175 epochs/sec\n"
     ]
    },
    {
     "name": "stderr",
     "output_type": "stream",
     "text": [
      "The code for file  ran for 2.1s\n"
     ]
    },
    {
     "name": "stdout",
     "output_type": "stream",
     "text": [
      "Num dataset =  33600\n",
      "Optimization complete with best validation score of 8.450000 %,with test performance 8.560000 %\n",
      "The code run for 3 epochs, with 0.738631 epochs/sec\n"
     ]
    },
    {
     "name": "stderr",
     "output_type": "stream",
     "text": [
      "The code for file  ran for 4.1s\n"
     ]
    },
    {
     "name": "stdout",
     "output_type": "stream",
     "text": [
      "Num dataset =  33700\n",
      "Optimization complete with best validation score of 7.720000 %,with test performance 7.880000 %\n",
      "The code run for 8 epochs, with 0.779845 epochs/sec\n"
     ]
    },
    {
     "name": "stderr",
     "output_type": "stream",
     "text": [
      "The code for file  ran for 10.3s\n"
     ]
    },
    {
     "name": "stdout",
     "output_type": "stream",
     "text": [
      "Num dataset =  33800\n",
      "Optimization complete with best validation score of 9.070000 %,with test performance 9.170000 %\n",
      "The code run for 2 epochs, with 0.969199 epochs/sec\n"
     ]
    },
    {
     "name": "stderr",
     "output_type": "stream",
     "text": [
      "The code for file  ran for 2.1s\n"
     ]
    },
    {
     "name": "stdout",
     "output_type": "stream",
     "text": [
      "Num dataset =  33900\n",
      "Optimization complete with best validation score of 8.260000 %,with test performance 8.640000 %\n",
      "The code run for 3 epochs, with 0.727211 epochs/sec\n"
     ]
    },
    {
     "name": "stderr",
     "output_type": "stream",
     "text": [
      "The code for file  ran for 4.1s\n"
     ]
    },
    {
     "name": "stdout",
     "output_type": "stream",
     "text": [
      "Num dataset =  34000\n",
      "Optimization complete with best validation score of 9.050000 %,with test performance 9.140000 %\n",
      "The code run for 2 epochs, with 0.842316 epochs/sec\n"
     ]
    },
    {
     "name": "stderr",
     "output_type": "stream",
     "text": [
      "The code for file  ran for 2.4s\n"
     ]
    },
    {
     "name": "stdout",
     "output_type": "stream",
     "text": [
      "Num dataset =  34100\n",
      "Optimization complete with best validation score of 8.450000 %,with test performance 8.620000 %\n",
      "The code run for 3 epochs, with 0.735998 epochs/sec\n"
     ]
    },
    {
     "name": "stderr",
     "output_type": "stream",
     "text": [
      "The code for file  ran for 4.1s\n"
     ]
    },
    {
     "name": "stdout",
     "output_type": "stream",
     "text": [
      "Num dataset =  34200\n",
      "Optimization complete with best validation score of 8.340000 %,with test performance 8.540000 %\n",
      "The code run for 3 epochs, with 0.749559 epochs/sec\n"
     ]
    },
    {
     "name": "stderr",
     "output_type": "stream",
     "text": [
      "The code for file  ran for 4.0s\n"
     ]
    },
    {
     "name": "stdout",
     "output_type": "stream",
     "text": [
      "Num dataset =  34300\n",
      "Optimization complete with best validation score of 8.260000 %,with test performance 8.590000 %\n",
      "The code run for 3 epochs, with 0.727421 epochs/sec\n"
     ]
    },
    {
     "name": "stderr",
     "output_type": "stream",
     "text": [
      "The code for file  ran for 4.1s\n"
     ]
    },
    {
     "name": "stdout",
     "output_type": "stream",
     "text": [
      "Num dataset =  34400\n",
      "Optimization complete with best validation score of 8.500000 %,with test performance 8.730000 %\n",
      "The code run for 3 epochs, with 0.768432 epochs/sec\n"
     ]
    },
    {
     "name": "stderr",
     "output_type": "stream",
     "text": [
      "The code for file  ran for 3.9s\n"
     ]
    },
    {
     "name": "stdout",
     "output_type": "stream",
     "text": [
      "Num dataset =  34500\n",
      "Optimization complete with best validation score of 8.150000 %,with test performance 8.400000 %\n",
      "The code run for 5 epochs, with 0.834421 epochs/sec\n"
     ]
    },
    {
     "name": "stderr",
     "output_type": "stream",
     "text": [
      "The code for file  ran for 6.0s\n"
     ]
    },
    {
     "name": "stdout",
     "output_type": "stream",
     "text": [
      "Num dataset =  34600\n",
      "Optimization complete with best validation score of 9.070000 %,with test performance 9.170000 %\n",
      "The code run for 2 epochs, with 0.961945 epochs/sec\n"
     ]
    },
    {
     "name": "stderr",
     "output_type": "stream",
     "text": [
      "The code for file  ran for 2.1s\n"
     ]
    },
    {
     "name": "stdout",
     "output_type": "stream",
     "text": [
      "Num dataset =  34700\n",
      "Optimization complete with best validation score of 8.370000 %,with test performance 8.930000 %\n",
      "The code run for 3 epochs, with 0.761504 epochs/sec\n"
     ]
    },
    {
     "name": "stderr",
     "output_type": "stream",
     "text": [
      "The code for file  ran for 3.9s\n"
     ]
    },
    {
     "name": "stdout",
     "output_type": "stream",
     "text": [
      "Num dataset =  34800\n",
      "Optimization complete with best validation score of 9.070000 %,with test performance 9.170000 %\n",
      "The code run for 2 epochs, with 0.925788 epochs/sec\n"
     ]
    },
    {
     "name": "stderr",
     "output_type": "stream",
     "text": [
      "The code for file  ran for 2.2s\n"
     ]
    },
    {
     "name": "stdout",
     "output_type": "stream",
     "text": [
      "Num dataset =  34900\n",
      "Optimization complete with best validation score of 7.680000 %,with test performance 8.120000 %\n",
      "The code run for 32 epochs, with 0.732348 epochs/sec\n"
     ]
    },
    {
     "name": "stderr",
     "output_type": "stream",
     "text": [
      "The code for file  ran for 43.7s\n"
     ]
    },
    {
     "name": "stdout",
     "output_type": "stream",
     "text": [
      "Num dataset =  35000\n",
      "Optimization complete with best validation score of 8.040000 %,with test performance 8.300000 %\n",
      "The code run for 5 epochs, with 0.835000 epochs/sec\n"
     ]
    },
    {
     "name": "stderr",
     "output_type": "stream",
     "text": [
      "The code for file  ran for 6.0s\n"
     ]
    },
    {
     "name": "stdout",
     "output_type": "stream",
     "text": [
      "Num dataset =  35100\n",
      "Optimization complete with best validation score of 9.070000 %,with test performance 9.170000 %\n",
      "The code run for 2 epochs, with 0.903675 epochs/sec\n"
     ]
    },
    {
     "name": "stderr",
     "output_type": "stream",
     "text": [
      "The code for file  ran for 2.2s\n"
     ]
    },
    {
     "name": "stdout",
     "output_type": "stream",
     "text": [
      "Num dataset =  35200\n",
      "Optimization complete with best validation score of 9.070000 %,with test performance 9.170000 %\n",
      "The code run for 2 epochs, with 0.980686 epochs/sec\n"
     ]
    },
    {
     "name": "stderr",
     "output_type": "stream",
     "text": [
      "The code for file  ran for 2.0s\n"
     ]
    },
    {
     "name": "stdout",
     "output_type": "stream",
     "text": [
      "Num dataset =  35300\n",
      "Optimization complete with best validation score of 9.070000 %,with test performance 9.170000 %\n",
      "The code run for 2 epochs, with 0.962439 epochs/sec\n"
     ]
    },
    {
     "name": "stderr",
     "output_type": "stream",
     "text": [
      "The code for file  ran for 2.1s\n"
     ]
    },
    {
     "name": "stdout",
     "output_type": "stream",
     "text": [
      "Num dataset =  35400\n",
      "Optimization complete with best validation score of 7.940000 %,with test performance 8.090000 %\n",
      "The code run for 8 epochs, with 0.804628 epochs/sec\n"
     ]
    },
    {
     "name": "stderr",
     "output_type": "stream",
     "text": [
      "The code for file  ran for 9.9s\n"
     ]
    },
    {
     "name": "stdout",
     "output_type": "stream",
     "text": [
      "Num dataset =  35500\n",
      "Optimization complete with best validation score of 8.340000 %,with test performance 8.880000 %\n",
      "The code run for 3 epochs, with 0.766967 epochs/sec\n"
     ]
    },
    {
     "name": "stderr",
     "output_type": "stream",
     "text": [
      "The code for file  ran for 3.9s\n"
     ]
    },
    {
     "name": "stdout",
     "output_type": "stream",
     "text": [
      "Num dataset =  35600\n",
      "Optimization complete with best validation score of 9.070000 %,with test performance 9.170000 %\n",
      "The code run for 2 epochs, with 0.973941 epochs/sec\n"
     ]
    },
    {
     "name": "stderr",
     "output_type": "stream",
     "text": [
      "The code for file  ran for 2.1s\n"
     ]
    },
    {
     "name": "stdout",
     "output_type": "stream",
     "text": [
      "Num dataset =  35700\n",
      "Optimization complete with best validation score of 8.570000 %,with test performance 9.100000 %\n",
      "The code run for 3 epochs, with 0.740331 epochs/sec\n"
     ]
    },
    {
     "name": "stderr",
     "output_type": "stream",
     "text": [
      "The code for file  ran for 4.1s\n"
     ]
    },
    {
     "name": "stdout",
     "output_type": "stream",
     "text": [
      "Num dataset =  35800\n",
      "Optimization complete with best validation score of 9.070000 %,with test performance 9.170000 %\n",
      "The code run for 2 epochs, with 0.930503 epochs/sec\n"
     ]
    },
    {
     "name": "stderr",
     "output_type": "stream",
     "text": [
      "The code for file  ran for 2.1s\n"
     ]
    },
    {
     "name": "stdout",
     "output_type": "stream",
     "text": [
      "Num dataset =  35900\n",
      "Optimization complete with best validation score of 7.800000 %,with test performance 8.300000 %\n",
      "The code run for 12 epochs, with 0.747903 epochs/sec\n"
     ]
    },
    {
     "name": "stderr",
     "output_type": "stream",
     "text": [
      "The code for file  ran for 16.0s\n"
     ]
    },
    {
     "name": "stdout",
     "output_type": "stream",
     "text": [
      "Num dataset =  36000\n",
      "Optimization complete with best validation score of 8.530000 %,with test performance 8.600000 %\n",
      "The code run for 3 epochs, with 0.739365 epochs/sec\n"
     ]
    },
    {
     "name": "stderr",
     "output_type": "stream",
     "text": [
      "The code for file  ran for 4.1s\n"
     ]
    },
    {
     "name": "stdout",
     "output_type": "stream",
     "text": [
      "Num dataset =  36100\n",
      "Optimization complete with best validation score of 8.080000 %,with test performance 8.730000 %\n",
      "The code run for 3 epochs, with 0.755269 epochs/sec\n"
     ]
    },
    {
     "name": "stderr",
     "output_type": "stream",
     "text": [
      "The code for file  ran for 4.0s\n"
     ]
    },
    {
     "name": "stdout",
     "output_type": "stream",
     "text": [
      "Num dataset =  36200\n",
      "Optimization complete with best validation score of 8.080000 %,with test performance 8.620000 %\n",
      "The code run for 3 epochs, with 0.755575 epochs/sec\n"
     ]
    },
    {
     "name": "stderr",
     "output_type": "stream",
     "text": [
      "The code for file  ran for 4.0s\n"
     ]
    },
    {
     "name": "stdout",
     "output_type": "stream",
     "text": [
      "Num dataset =  36300\n",
      "Optimization complete with best validation score of 9.070000 %,with test performance 9.170000 %\n",
      "The code run for 2 epochs, with 0.977655 epochs/sec\n"
     ]
    },
    {
     "name": "stderr",
     "output_type": "stream",
     "text": [
      "The code for file  ran for 2.0s\n"
     ]
    },
    {
     "name": "stdout",
     "output_type": "stream",
     "text": [
      "Num dataset =  36400\n",
      "Optimization complete with best validation score of 8.270000 %,with test performance 8.490000 %\n",
      "The code run for 3 epochs, with 0.704597 epochs/sec\n"
     ]
    },
    {
     "name": "stderr",
     "output_type": "stream",
     "text": [
      "The code for file  ran for 4.3s\n"
     ]
    },
    {
     "name": "stdout",
     "output_type": "stream",
     "text": [
      "Num dataset =  36500\n",
      "Optimization complete with best validation score of 7.920000 %,with test performance 8.250000 %\n",
      "The code run for 5 epochs, with 0.791469 epochs/sec\n"
     ]
    },
    {
     "name": "stderr",
     "output_type": "stream",
     "text": [
      "The code for file  ran for 6.3s\n"
     ]
    },
    {
     "name": "stdout",
     "output_type": "stream",
     "text": [
      "Num dataset =  36600\n",
      "Optimization complete with best validation score of 8.280000 %,with test performance 8.560000 %\n",
      "The code run for 3 epochs, with 0.742925 epochs/sec\n"
     ]
    },
    {
     "name": "stderr",
     "output_type": "stream",
     "text": [
      "The code for file  ran for 4.0s\n"
     ]
    },
    {
     "name": "stdout",
     "output_type": "stream",
     "text": [
      "Num dataset =  36700\n",
      "Optimization complete with best validation score of 9.070000 %,with test performance 9.170000 %\n",
      "The code run for 2 epochs, with 0.990875 epochs/sec\n"
     ]
    },
    {
     "name": "stderr",
     "output_type": "stream",
     "text": [
      "The code for file  ran for 2.0s\n"
     ]
    },
    {
     "name": "stdout",
     "output_type": "stream",
     "text": [
      "Num dataset =  36800\n",
      "Optimization complete with best validation score of 8.850000 %,with test performance 9.070000 %\n",
      "The code run for 3 epochs, with 0.743301 epochs/sec\n"
     ]
    },
    {
     "name": "stderr",
     "output_type": "stream",
     "text": [
      "The code for file  ran for 4.0s\n"
     ]
    },
    {
     "name": "stdout",
     "output_type": "stream",
     "text": [
      "Num dataset =  36900\n",
      "Optimization complete with best validation score of 9.070000 %,with test performance 9.170000 %\n",
      "The code run for 2 epochs, with 0.956598 epochs/sec\n"
     ]
    },
    {
     "name": "stderr",
     "output_type": "stream",
     "text": [
      "The code for file  ran for 2.1s\n"
     ]
    },
    {
     "name": "stdout",
     "output_type": "stream",
     "text": [
      "Num dataset =  37000\n",
      "Optimization complete with best validation score of 9.070000 %,with test performance 9.170000 %\n",
      "The code run for 2 epochs, with 0.916611 epochs/sec\n"
     ]
    },
    {
     "name": "stderr",
     "output_type": "stream",
     "text": [
      "The code for file  ran for 2.2s\n"
     ]
    },
    {
     "name": "stdout",
     "output_type": "stream",
     "text": [
      "Num dataset =  37100\n",
      "Optimization complete with best validation score of 7.800000 %,with test performance 8.490000 %\n",
      "The code run for 9 epochs, with 0.739134 epochs/sec\n"
     ]
    },
    {
     "name": "stderr",
     "output_type": "stream",
     "text": [
      "The code for file  ran for 12.2s\n"
     ]
    },
    {
     "name": "stdout",
     "output_type": "stream",
     "text": [
      "Num dataset =  37200\n",
      "Optimization complete with best validation score of 7.630000 %,with test performance 8.440000 %\n",
      "The code run for 10 epochs, with 0.705367 epochs/sec\n"
     ]
    },
    {
     "name": "stderr",
     "output_type": "stream",
     "text": [
      "The code for file  ran for 14.2s\n"
     ]
    },
    {
     "name": "stdout",
     "output_type": "stream",
     "text": [
      "Num dataset =  37300\n",
      "Optimization complete with best validation score of 9.070000 %,with test performance 9.170000 %\n",
      "The code run for 2 epochs, with 0.942283 epochs/sec\n"
     ]
    },
    {
     "name": "stderr",
     "output_type": "stream",
     "text": [
      "The code for file  ran for 2.1s\n"
     ]
    },
    {
     "name": "stdout",
     "output_type": "stream",
     "text": [
      "Num dataset =  37400\n",
      "Optimization complete with best validation score of 7.610000 %,with test performance 7.960000 %\n",
      "The code run for 30 epochs, with 0.696949 epochs/sec\n"
     ]
    },
    {
     "name": "stderr",
     "output_type": "stream",
     "text": [
      "The code for file  ran for 43.0s\n"
     ]
    },
    {
     "name": "stdout",
     "output_type": "stream",
     "text": [
      "Num dataset =  37500\n",
      "Optimization complete with best validation score of 9.070000 %,with test performance 9.170000 %\n",
      "The code run for 2 epochs, with 0.938558 epochs/sec\n"
     ]
    },
    {
     "name": "stderr",
     "output_type": "stream",
     "text": [
      "The code for file  ran for 2.1s\n"
     ]
    },
    {
     "name": "stdout",
     "output_type": "stream",
     "text": [
      "Num dataset =  37600\n",
      "Optimization complete with best validation score of 8.780000 %,with test performance 8.840000 %\n",
      "The code run for 3 epochs, with 0.744311 epochs/sec\n"
     ]
    },
    {
     "name": "stderr",
     "output_type": "stream",
     "text": [
      "The code for file  ran for 4.0s\n"
     ]
    },
    {
     "name": "stdout",
     "output_type": "stream",
     "text": [
      "Num dataset =  37700\n",
      "Optimization complete with best validation score of 9.070000 %,with test performance 9.170000 %\n",
      "The code run for 2 epochs, with 0.957529 epochs/sec\n"
     ]
    },
    {
     "name": "stderr",
     "output_type": "stream",
     "text": [
      "The code for file  ran for 2.1s\n"
     ]
    },
    {
     "name": "stdout",
     "output_type": "stream",
     "text": [
      "Num dataset =  37800\n",
      "Optimization complete with best validation score of 9.070000 %,with test performance 9.170000 %\n",
      "The code run for 2 epochs, with 0.927326 epochs/sec\n"
     ]
    },
    {
     "name": "stderr",
     "output_type": "stream",
     "text": [
      "The code for file  ran for 2.2s\n"
     ]
    },
    {
     "name": "stdout",
     "output_type": "stream",
     "text": [
      "Num dataset =  37900\n",
      "Optimization complete with best validation score of 9.070000 %,with test performance 9.170000 %\n",
      "The code run for 2 epochs, with 0.974442 epochs/sec\n"
     ]
    },
    {
     "name": "stderr",
     "output_type": "stream",
     "text": [
      "The code for file  ran for 2.1s\n"
     ]
    },
    {
     "name": "stdout",
     "output_type": "stream",
     "text": [
      "Num dataset =  38000\n",
      "Optimization complete with best validation score of 8.570000 %,with test performance 9.270000 %\n",
      "The code run for 3 epochs, with 0.715609 epochs/sec\n"
     ]
    },
    {
     "name": "stderr",
     "output_type": "stream",
     "text": [
      "The code for file  ran for 4.2s\n"
     ]
    },
    {
     "name": "stdout",
     "output_type": "stream",
     "text": [
      "Num dataset =  38100\n",
      "Optimization complete with best validation score of 9.070000 %,with test performance 9.170000 %\n",
      "The code run for 2 epochs, with 0.928938 epochs/sec\n"
     ]
    },
    {
     "name": "stderr",
     "output_type": "stream",
     "text": [
      "The code for file  ran for 2.2s\n"
     ]
    },
    {
     "name": "stdout",
     "output_type": "stream",
     "text": [
      "Num dataset =  38200\n",
      "Optimization complete with best validation score of 9.070000 %,with test performance 9.170000 %\n",
      "The code run for 2 epochs, with 0.944877 epochs/sec\n"
     ]
    },
    {
     "name": "stderr",
     "output_type": "stream",
     "text": [
      "The code for file  ran for 2.1s\n"
     ]
    },
    {
     "name": "stdout",
     "output_type": "stream",
     "text": [
      "Num dataset =  38300\n",
      "Optimization complete with best validation score of 8.360000 %,with test performance 9.410000 %\n",
      "The code run for 3 epochs, with 0.740512 epochs/sec\n"
     ]
    },
    {
     "name": "stderr",
     "output_type": "stream",
     "text": [
      "The code for file  ran for 4.1s\n"
     ]
    },
    {
     "name": "stdout",
     "output_type": "stream",
     "text": [
      "Num dataset =  38400\n",
      "Optimization complete with best validation score of 8.370000 %,with test performance 9.420000 %\n",
      "The code run for 3 epochs, with 0.757214 epochs/sec\n"
     ]
    },
    {
     "name": "stderr",
     "output_type": "stream",
     "text": [
      "The code for file  ran for 4.0s\n"
     ]
    },
    {
     "name": "stdout",
     "output_type": "stream",
     "text": [
      "Num dataset =  38500\n",
      "Optimization complete with best validation score of 8.270000 %,with test performance 8.710000 %\n",
      "The code run for 3 epochs, with 0.754547 epochs/sec\n"
     ]
    },
    {
     "name": "stderr",
     "output_type": "stream",
     "text": [
      "The code for file  ran for 4.0s\n"
     ]
    },
    {
     "name": "stdout",
     "output_type": "stream",
     "text": [
      "Num dataset =  38600\n",
      "Optimization complete with best validation score of 7.590000 %,with test performance 7.940000 %\n",
      "The code run for 10 epochs, with 0.708081 epochs/sec\n"
     ]
    },
    {
     "name": "stderr",
     "output_type": "stream",
     "text": [
      "The code for file  ran for 14.1s\n"
     ]
    },
    {
     "name": "stdout",
     "output_type": "stream",
     "text": [
      "Num dataset =  38700\n",
      "Optimization complete with best validation score of 8.350000 %,with test performance 8.530000 %\n",
      "The code run for 4 epochs, with 0.653912 epochs/sec\n"
     ]
    },
    {
     "name": "stderr",
     "output_type": "stream",
     "text": [
      "The code for file  ran for 6.1s\n"
     ]
    },
    {
     "name": "stdout",
     "output_type": "stream",
     "text": [
      "Num dataset =  38800\n",
      "Optimization complete with best validation score of 8.190000 %,with test performance 8.650000 %\n",
      "The code run for 3 epochs, with 0.756014 epochs/sec\n"
     ]
    },
    {
     "name": "stderr",
     "output_type": "stream",
     "text": [
      "The code for file  ran for 4.0s\n"
     ]
    },
    {
     "name": "stdout",
     "output_type": "stream",
     "text": [
      "Num dataset =  38900\n",
      "Optimization complete with best validation score of 8.650000 %,with test performance 8.870000 %\n",
      "The code run for 3 epochs, with 0.751618 epochs/sec\n"
     ]
    },
    {
     "name": "stderr",
     "output_type": "stream",
     "text": [
      "The code for file  ran for 4.0s\n"
     ]
    },
    {
     "name": "stdout",
     "output_type": "stream",
     "text": [
      "Num dataset =  39000\n",
      "Optimization complete with best validation score of 8.350000 %,with test performance 8.450000 %\n",
      "The code run for 3 epochs, with 0.718536 epochs/sec\n"
     ]
    },
    {
     "name": "stderr",
     "output_type": "stream",
     "text": [
      "The code for file  ran for 4.2s\n"
     ]
    },
    {
     "name": "stdout",
     "output_type": "stream",
     "text": [
      "Num dataset =  39100\n",
      "Optimization complete with best validation score of 8.140000 %,with test performance 8.480000 %\n",
      "The code run for 3 epochs, with 0.751966 epochs/sec\n"
     ]
    },
    {
     "name": "stderr",
     "output_type": "stream",
     "text": [
      "The code for file  ran for 4.0s\n"
     ]
    },
    {
     "name": "stdout",
     "output_type": "stream",
     "text": [
      "Num dataset =  39200\n",
      "Optimization complete with best validation score of 8.110000 %,with test performance 8.250000 %\n",
      "The code run for 4 epochs, with 0.633581 epochs/sec\n"
     ]
    },
    {
     "name": "stderr",
     "output_type": "stream",
     "text": [
      "The code for file  ran for 6.3s\n"
     ]
    },
    {
     "name": "stdout",
     "output_type": "stream",
     "text": [
      "Num dataset =  39300\n",
      "Optimization complete with best validation score of 8.240000 %,with test performance 8.220000 %\n",
      "The code run for 3 epochs, with 0.733961 epochs/sec\n"
     ]
    },
    {
     "name": "stderr",
     "output_type": "stream",
     "text": [
      "The code for file  ran for 4.1s\n"
     ]
    },
    {
     "name": "stdout",
     "output_type": "stream",
     "text": [
      "Num dataset =  39400\n",
      "Optimization complete with best validation score of 8.320000 %,with test performance 8.440000 %\n",
      "The code run for 3 epochs, with 0.754268 epochs/sec\n"
     ]
    },
    {
     "name": "stderr",
     "output_type": "stream",
     "text": [
      "The code for file  ran for 4.0s\n"
     ]
    },
    {
     "name": "stdout",
     "output_type": "stream",
     "text": [
      "Num dataset =  39500\n",
      "Optimization complete with best validation score of 8.230000 %,with test performance 8.340000 %\n",
      "The code run for 3 epochs, with 0.757553 epochs/sec\n"
     ]
    },
    {
     "name": "stderr",
     "output_type": "stream",
     "text": [
      "The code for file  ran for 4.0s\n"
     ]
    },
    {
     "name": "stdout",
     "output_type": "stream",
     "text": [
      "Num dataset =  39600\n",
      "Optimization complete with best validation score of 9.070000 %,with test performance 9.170000 %\n",
      "The code run for 2 epochs, with 0.954235 epochs/sec\n"
     ]
    },
    {
     "name": "stderr",
     "output_type": "stream",
     "text": [
      "The code for file  ran for 2.1s\n"
     ]
    },
    {
     "name": "stdout",
     "output_type": "stream",
     "text": [
      "Num dataset =  39700\n",
      "Optimization complete with best validation score of 9.070000 %,with test performance 9.170000 %\n",
      "The code run for 2 epochs, with 0.947257 epochs/sec\n"
     ]
    },
    {
     "name": "stderr",
     "output_type": "stream",
     "text": [
      "The code for file  ran for 2.1s\n"
     ]
    },
    {
     "name": "stdout",
     "output_type": "stream",
     "text": [
      "Num dataset =  39800\n",
      "Optimization complete with best validation score of 7.540000 %,with test performance 7.960000 %\n",
      "The code run for 21 epochs, with 0.647357 epochs/sec\n"
     ]
    },
    {
     "name": "stderr",
     "output_type": "stream",
     "text": [
      "The code for file  ran for 32.4s\n"
     ]
    },
    {
     "name": "stdout",
     "output_type": "stream",
     "text": [
      "Num dataset =  39900\n",
      "Optimization complete with best validation score of 7.610000 %,with test performance 7.780000 %\n",
      "The code run for 13 epochs, with 0.651838 epochs/sec\n"
     ]
    },
    {
     "name": "stderr",
     "output_type": "stream",
     "text": [
      "The code for file  ran for 19.9s\n"
     ]
    },
    {
     "name": "stdout",
     "output_type": "stream",
     "text": [
      "Num dataset =  40000\n",
      "Optimization complete with best validation score of 7.900000 %,with test performance 8.000000 %\n",
      "The code run for 7 epochs, with 0.695109 epochs/sec\n"
     ]
    },
    {
     "name": "stderr",
     "output_type": "stream",
     "text": [
      "The code for file  ran for 10.1s\n"
     ]
    },
    {
     "name": "stdout",
     "output_type": "stream",
     "text": [
      "Num dataset =  40100\n",
      "Optimization complete with best validation score of 9.070000 %,with test performance 9.170000 %\n",
      "The code run for 2 epochs, with 0.980287 epochs/sec\n"
     ]
    },
    {
     "name": "stderr",
     "output_type": "stream",
     "text": [
      "The code for file  ran for 2.0s\n"
     ]
    },
    {
     "name": "stdout",
     "output_type": "stream",
     "text": [
      "Num dataset =  40200\n",
      "Optimization complete with best validation score of 9.070000 %,with test performance 9.170000 %\n",
      "The code run for 2 epochs, with 0.922219 epochs/sec\n"
     ]
    },
    {
     "name": "stderr",
     "output_type": "stream",
     "text": [
      "The code for file  ran for 2.2s\n"
     ]
    },
    {
     "name": "stdout",
     "output_type": "stream",
     "text": [
      "Num dataset =  40300\n",
      "Optimization complete with best validation score of 9.070000 %,with test performance 9.170000 %\n",
      "The code run for 2 epochs, with 0.905435 epochs/sec\n"
     ]
    },
    {
     "name": "stderr",
     "output_type": "stream",
     "text": [
      "The code for file  ran for 2.2s\n"
     ]
    },
    {
     "name": "stdout",
     "output_type": "stream",
     "text": [
      "Num dataset =  40400\n",
      "Optimization complete with best validation score of 9.070000 %,with test performance 9.170000 %\n",
      "The code run for 2 epochs, with 0.928255 epochs/sec\n"
     ]
    },
    {
     "name": "stderr",
     "output_type": "stream",
     "text": [
      "The code for file  ran for 2.2s\n"
     ]
    },
    {
     "name": "stdout",
     "output_type": "stream",
     "text": [
      "Num dataset =  40500\n",
      "Optimization complete with best validation score of 9.000000 %,with test performance 9.630000 %\n",
      "The code run for 3 epochs, with 0.741016 epochs/sec\n"
     ]
    },
    {
     "name": "stderr",
     "output_type": "stream",
     "text": [
      "The code for file  ran for 4.0s\n"
     ]
    },
    {
     "name": "stdout",
     "output_type": "stream",
     "text": [
      "Num dataset =  40600\n",
      "Optimization complete with best validation score of 7.920000 %,with test performance 8.100000 %\n",
      "The code run for 7 epochs, with 0.677263 epochs/sec\n"
     ]
    },
    {
     "name": "stderr",
     "output_type": "stream",
     "text": [
      "The code for file  ran for 10.3s\n"
     ]
    },
    {
     "name": "stdout",
     "output_type": "stream",
     "text": [
      "Num dataset =  40700\n",
      "Optimization complete with best validation score of 7.950000 %,with test performance 8.080000 %\n",
      "The code run for 7 epochs, with 0.685429 epochs/sec\n"
     ]
    },
    {
     "name": "stderr",
     "output_type": "stream",
     "text": [
      "The code for file  ran for 10.2s\n"
     ]
    },
    {
     "name": "stdout",
     "output_type": "stream",
     "text": [
      "Num dataset =  40800\n",
      "Optimization complete with best validation score of 7.910000 %,with test performance 8.790000 %\n",
      "The code run for 8 epochs, with 0.665393 epochs/sec\n"
     ]
    },
    {
     "name": "stderr",
     "output_type": "stream",
     "text": [
      "The code for file  ran for 12.0s\n"
     ]
    },
    {
     "name": "stdout",
     "output_type": "stream",
     "text": [
      "Num dataset =  40900\n",
      "Optimization complete with best validation score of 8.080000 %,with test performance 8.700000 %\n",
      "The code run for 5 epochs, with 0.606425 epochs/sec\n"
     ]
    },
    {
     "name": "stderr",
     "output_type": "stream",
     "text": [
      "The code for file  ran for 8.2s\n"
     ]
    },
    {
     "name": "stdout",
     "output_type": "stream",
     "text": [
      "Num dataset =  41000\n",
      "Optimization complete with best validation score of 9.070000 %,with test performance 9.170000 %\n",
      "The code run for 2 epochs, with 0.917077 epochs/sec\n"
     ]
    },
    {
     "name": "stderr",
     "output_type": "stream",
     "text": [
      "The code for file  ran for 2.2s\n"
     ]
    },
    {
     "name": "stdout",
     "output_type": "stream",
     "text": [
      "Num dataset =  41100\n",
      "Optimization complete with best validation score of 9.070000 %,with test performance 9.170000 %\n",
      "The code run for 2 epochs, with 0.968772 epochs/sec\n"
     ]
    },
    {
     "name": "stderr",
     "output_type": "stream",
     "text": [
      "The code for file  ran for 2.1s\n"
     ]
    },
    {
     "name": "stdout",
     "output_type": "stream",
     "text": [
      "Num dataset =  41200\n",
      "Optimization complete with best validation score of 8.620000 %,with test performance 8.640000 %\n",
      "The code run for 4 epochs, with 0.653041 epochs/sec\n"
     ]
    },
    {
     "name": "stderr",
     "output_type": "stream",
     "text": [
      "The code for file  ran for 6.1s\n"
     ]
    },
    {
     "name": "stdout",
     "output_type": "stream",
     "text": [
      "Num dataset =  41300\n",
      "Optimization complete with best validation score of 9.070000 %,with test performance 9.170000 %\n",
      "The code run for 2 epochs, with 0.947927 epochs/sec\n"
     ]
    },
    {
     "name": "stderr",
     "output_type": "stream",
     "text": [
      "The code for file  ran for 2.1s\n"
     ]
    },
    {
     "name": "stdout",
     "output_type": "stream",
     "text": [
      "Num dataset =  41400\n",
      "Optimization complete with best validation score of 9.070000 %,with test performance 9.170000 %\n",
      "The code run for 2 epochs, with 0.937939 epochs/sec\n"
     ]
    },
    {
     "name": "stderr",
     "output_type": "stream",
     "text": [
      "The code for file  ran for 2.1s\n"
     ]
    },
    {
     "name": "stdout",
     "output_type": "stream",
     "text": [
      "Num dataset =  41500\n",
      "Optimization complete with best validation score of 9.070000 %,with test performance 9.170000 %\n",
      "The code run for 2 epochs, with 0.970266 epochs/sec\n"
     ]
    },
    {
     "name": "stderr",
     "output_type": "stream",
     "text": [
      "The code for file  ran for 2.1s\n"
     ]
    },
    {
     "name": "stdout",
     "output_type": "stream",
     "text": [
      "Num dataset =  41600\n",
      "Optimization complete with best validation score of 8.010000 %,with test performance 8.420000 %\n",
      "The code run for 5 epochs, with 0.624442 epochs/sec\n"
     ]
    },
    {
     "name": "stderr",
     "output_type": "stream",
     "text": [
      "The code for file  ran for 8.0s\n"
     ]
    },
    {
     "name": "stdout",
     "output_type": "stream",
     "text": [
      "Num dataset =  41700\n",
      "Optimization complete with best validation score of 9.070000 %,with test performance 9.170000 %\n",
      "The code run for 2 epochs, with 0.905812 epochs/sec\n"
     ]
    },
    {
     "name": "stderr",
     "output_type": "stream",
     "text": [
      "The code for file  ran for 2.2s\n"
     ]
    },
    {
     "name": "stdout",
     "output_type": "stream",
     "text": [
      "Num dataset =  41800\n",
      "Optimization complete with best validation score of 9.070000 %,with test performance 9.170000 %\n",
      "The code run for 2 epochs, with 0.918703 epochs/sec\n"
     ]
    },
    {
     "name": "stderr",
     "output_type": "stream",
     "text": [
      "The code for file  ran for 2.2s\n"
     ]
    },
    {
     "name": "stdout",
     "output_type": "stream",
     "text": [
      "Num dataset =  41900\n",
      "Optimization complete with best validation score of 7.560000 %,with test performance 7.980000 %\n",
      "The code run for 14 epochs, with 0.650535 epochs/sec\n"
     ]
    },
    {
     "name": "stderr",
     "output_type": "stream",
     "text": [
      "The code for file  ran for 21.5s\n"
     ]
    },
    {
     "name": "stdout",
     "output_type": "stream",
     "text": [
      "Num dataset =  42000\n",
      "Optimization complete with best validation score of 9.070000 %,with test performance 9.170000 %\n",
      "The code run for 2 epochs, with 0.953079 epochs/sec\n"
     ]
    },
    {
     "name": "stderr",
     "output_type": "stream",
     "text": [
      "The code for file  ran for 2.1s\n"
     ]
    },
    {
     "name": "stdout",
     "output_type": "stream",
     "text": [
      "Num dataset =  42100\n",
      "Optimization complete with best validation score of 9.070000 %,with test performance 9.170000 %\n",
      "The code run for 2 epochs, with 0.960034 epochs/sec\n"
     ]
    },
    {
     "name": "stderr",
     "output_type": "stream",
     "text": [
      "The code for file  ran for 2.1s\n"
     ]
    },
    {
     "name": "stdout",
     "output_type": "stream",
     "text": [
      "Num dataset =  42200\n",
      "Optimization complete with best validation score of 9.070000 %,with test performance 9.170000 %\n",
      "The code run for 2 epochs, with 0.943912 epochs/sec\n"
     ]
    },
    {
     "name": "stderr",
     "output_type": "stream",
     "text": [
      "The code for file  ran for 2.1s\n"
     ]
    },
    {
     "name": "stdout",
     "output_type": "stream",
     "text": [
      "Num dataset =  42300\n",
      "Optimization complete with best validation score of 8.510000 %,with test performance 8.720000 %\n",
      "The code run for 3 epochs, with 0.719364 epochs/sec\n"
     ]
    },
    {
     "name": "stderr",
     "output_type": "stream",
     "text": [
      "The code for file  ran for 4.2s\n"
     ]
    },
    {
     "name": "stdout",
     "output_type": "stream",
     "text": [
      "Num dataset =  42400\n",
      "Optimization complete with best validation score of 7.680000 %,with test performance 8.320000 %\n",
      "The code run for 6 epochs, with 0.588674 epochs/sec\n"
     ]
    },
    {
     "name": "stderr",
     "output_type": "stream",
     "text": [
      "The code for file  ran for 10.2s\n"
     ]
    },
    {
     "name": "stdout",
     "output_type": "stream",
     "text": [
      "Num dataset =  42500\n",
      "Optimization complete with best validation score of 8.450000 %,with test performance 9.180000 %\n",
      "The code run for 3 epochs, with 0.730979 epochs/sec\n"
     ]
    },
    {
     "name": "stderr",
     "output_type": "stream",
     "text": [
      "The code for file  ran for 4.1s\n"
     ]
    },
    {
     "name": "stdout",
     "output_type": "stream",
     "text": [
      "Num dataset =  42600\n",
      "Optimization complete with best validation score of 8.920000 %,with test performance 9.930000 %\n",
      "The code run for 3 epochs, with 0.748692 epochs/sec\n"
     ]
    },
    {
     "name": "stderr",
     "output_type": "stream",
     "text": [
      "The code for file  ran for 4.0s\n"
     ]
    },
    {
     "name": "stdout",
     "output_type": "stream",
     "text": [
      "Num dataset =  42700\n",
      "Optimization complete with best validation score of 8.120000 %,with test performance 8.680000 %\n",
      "The code run for 4 epochs, with 0.648415 epochs/sec\n"
     ]
    },
    {
     "name": "stderr",
     "output_type": "stream",
     "text": [
      "The code for file  ran for 6.2s\n"
     ]
    },
    {
     "name": "stdout",
     "output_type": "stream",
     "text": [
      "Num dataset =  42800\n",
      "Optimization complete with best validation score of 9.070000 %,with test performance 9.170000 %\n",
      "The code run for 2 epochs, with 0.960252 epochs/sec\n"
     ]
    },
    {
     "name": "stderr",
     "output_type": "stream",
     "text": [
      "The code for file  ran for 2.1s\n"
     ]
    },
    {
     "name": "stdout",
     "output_type": "stream",
     "text": [
      "Num dataset =  42900\n",
      "Optimization complete with best validation score of 8.060000 %,with test performance 8.350000 %\n",
      "The code run for 4 epochs, with 0.657324 epochs/sec\n"
     ]
    },
    {
     "name": "stderr",
     "output_type": "stream",
     "text": [
      "The code for file  ran for 6.1s\n"
     ]
    },
    {
     "name": "stdout",
     "output_type": "stream",
     "text": [
      "Num dataset =  43000\n",
      "Optimization complete with best validation score of 8.140000 %,with test performance 8.470000 %\n",
      "The code run for 3 epochs, with 0.735191 epochs/sec\n"
     ]
    },
    {
     "name": "stderr",
     "output_type": "stream",
     "text": [
      "The code for file  ran for 4.1s\n"
     ]
    },
    {
     "name": "stdout",
     "output_type": "stream",
     "text": [
      "Num dataset =  43100\n",
      "Optimization complete with best validation score of 7.950000 %,with test performance 8.320000 %\n",
      "The code run for 5 epochs, with 0.616446 epochs/sec\n"
     ]
    },
    {
     "name": "stderr",
     "output_type": "stream",
     "text": [
      "The code for file  ran for 8.1s\n"
     ]
    },
    {
     "name": "stdout",
     "output_type": "stream",
     "text": [
      "Num dataset =  43200\n",
      "Optimization complete with best validation score of 9.070000 %,with test performance 9.170000 %\n",
      "The code run for 2 epochs, with 0.919797 epochs/sec\n"
     ]
    },
    {
     "name": "stderr",
     "output_type": "stream",
     "text": [
      "The code for file  ran for 2.2s\n"
     ]
    },
    {
     "name": "stdout",
     "output_type": "stream",
     "text": [
      "Num dataset =  43300\n",
      "Optimization complete with best validation score of 8.320000 %,with test performance 8.420000 %\n",
      "The code run for 3 epochs, with 0.764557 epochs/sec\n"
     ]
    },
    {
     "name": "stderr",
     "output_type": "stream",
     "text": [
      "The code for file  ran for 3.9s\n"
     ]
    },
    {
     "name": "stdout",
     "output_type": "stream",
     "text": [
      "Num dataset =  43400\n",
      "Optimization complete with best validation score of 8.620000 %,with test performance 8.840000 %\n",
      "The code run for 3 epochs, with 0.760478 epochs/sec\n"
     ]
    },
    {
     "name": "stderr",
     "output_type": "stream",
     "text": [
      "The code for file  ran for 3.9s\n"
     ]
    },
    {
     "name": "stdout",
     "output_type": "stream",
     "text": [
      "Num dataset =  43500\n",
      "Optimization complete with best validation score of 7.770000 %,with test performance 8.320000 %\n",
      "The code run for 4 epochs, with 0.662507 epochs/sec\n"
     ]
    },
    {
     "name": "stderr",
     "output_type": "stream",
     "text": [
      "The code for file  ran for 6.0s\n"
     ]
    },
    {
     "name": "stdout",
     "output_type": "stream",
     "text": [
      "Num dataset =  43600\n",
      "Optimization complete with best validation score of 8.250000 %,with test performance 8.950000 %\n",
      "The code run for 4 epochs, with 0.667962 epochs/sec\n"
     ]
    },
    {
     "name": "stderr",
     "output_type": "stream",
     "text": [
      "The code for file  ran for 6.0s\n"
     ]
    },
    {
     "name": "stdout",
     "output_type": "stream",
     "text": [
      "Num dataset =  43700\n",
      "Optimization complete with best validation score of 8.900000 %,with test performance 9.410000 %\n",
      "The code run for 4 epochs, with 0.664425 epochs/sec\n"
     ]
    },
    {
     "name": "stderr",
     "output_type": "stream",
     "text": [
      "The code for file  ran for 6.0s\n"
     ]
    },
    {
     "name": "stdout",
     "output_type": "stream",
     "text": [
      "Num dataset =  43800\n",
      "Optimization complete with best validation score of 8.200000 %,with test performance 8.470000 %\n",
      "The code run for 4 epochs, with 0.652595 epochs/sec\n"
     ]
    },
    {
     "name": "stderr",
     "output_type": "stream",
     "text": [
      "The code for file  ran for 6.1s\n"
     ]
    },
    {
     "name": "stdout",
     "output_type": "stream",
     "text": [
      "Num dataset =  43900\n",
      "Optimization complete with best validation score of 7.990000 %,with test performance 8.450000 %\n",
      "The code run for 4 epochs, with 0.666389 epochs/sec\n"
     ]
    },
    {
     "name": "stderr",
     "output_type": "stream",
     "text": [
      "The code for file  ran for 6.0s\n"
     ]
    },
    {
     "name": "stdout",
     "output_type": "stream",
     "text": [
      "Num dataset =  44000\n",
      "Optimization complete with best validation score of 8.430000 %,with test performance 8.930000 %\n",
      "The code run for 3 epochs, with 0.753312 epochs/sec\n"
     ]
    },
    {
     "name": "stderr",
     "output_type": "stream",
     "text": [
      "The code for file  ran for 4.0s\n"
     ]
    },
    {
     "name": "stdout",
     "output_type": "stream",
     "text": [
      "Num dataset =  44100\n",
      "Optimization complete with best validation score of 8.630000 %,with test performance 9.150000 %\n",
      "The code run for 3 epochs, with 0.736639 epochs/sec\n"
     ]
    },
    {
     "name": "stderr",
     "output_type": "stream",
     "text": [
      "The code for file  ran for 4.1s\n"
     ]
    },
    {
     "name": "stdout",
     "output_type": "stream",
     "text": [
      "Num dataset =  44200\n",
      "Optimization complete with best validation score of 8.550000 %,with test performance 8.660000 %\n",
      "The code run for 3 epochs, with 0.723064 epochs/sec\n"
     ]
    },
    {
     "name": "stderr",
     "output_type": "stream",
     "text": [
      "The code for file  ran for 4.1s\n"
     ]
    },
    {
     "name": "stdout",
     "output_type": "stream",
     "text": [
      "Num dataset =  44300\n",
      "Optimization complete with best validation score of 8.240000 %,with test performance 8.350000 %\n",
      "The code run for 4 epochs, with 0.646803 epochs/sec\n"
     ]
    },
    {
     "name": "stderr",
     "output_type": "stream",
     "text": [
      "The code for file  ran for 6.2s\n"
     ]
    },
    {
     "name": "stdout",
     "output_type": "stream",
     "text": [
      "Num dataset =  44400\n",
      "Optimization complete with best validation score of 7.760000 %,with test performance 8.320000 %\n",
      "The code run for 5 epochs, with 0.616888 epochs/sec\n"
     ]
    },
    {
     "name": "stderr",
     "output_type": "stream",
     "text": [
      "The code for file  ran for 8.1s\n"
     ]
    },
    {
     "name": "stdout",
     "output_type": "stream",
     "text": [
      "Num dataset =  44500\n",
      "Optimization complete with best validation score of 7.900000 %,with test performance 8.030000 %\n",
      "The code run for 4 epochs, with 0.662712 epochs/sec\n"
     ]
    },
    {
     "name": "stderr",
     "output_type": "stream",
     "text": [
      "The code for file  ran for 6.0s\n"
     ]
    },
    {
     "name": "stdout",
     "output_type": "stream",
     "text": [
      "Num dataset =  44600\n",
      "Optimization complete with best validation score of 7.290000 %,with test performance 7.610000 %\n",
      "The code run for 22 epochs, with 0.601203 epochs/sec\n"
     ]
    },
    {
     "name": "stderr",
     "output_type": "stream",
     "text": [
      "The code for file  ran for 36.6s\n"
     ]
    },
    {
     "name": "stdout",
     "output_type": "stream",
     "text": [
      "Num dataset =  44700\n",
      "Optimization complete with best validation score of 8.280000 %,with test performance 8.400000 %\n",
      "The code run for 3 epochs, with 0.737504 epochs/sec\n"
     ]
    },
    {
     "name": "stderr",
     "output_type": "stream",
     "text": [
      "The code for file  ran for 4.1s\n"
     ]
    },
    {
     "name": "stdout",
     "output_type": "stream",
     "text": [
      "Num dataset =  44800\n",
      "Optimization complete with best validation score of 8.550000 %,with test performance 8.760000 %\n",
      "The code run for 3 epochs, with 0.751390 epochs/sec\n"
     ]
    },
    {
     "name": "stderr",
     "output_type": "stream",
     "text": [
      "The code for file  ran for 4.0s\n"
     ]
    },
    {
     "name": "stdout",
     "output_type": "stream",
     "text": [
      "Num dataset =  44900\n",
      "Optimization complete with best validation score of 8.240000 %,with test performance 8.460000 %\n",
      "The code run for 3 epochs, with 0.707955 epochs/sec\n"
     ]
    },
    {
     "name": "stderr",
     "output_type": "stream",
     "text": [
      "The code for file  ran for 4.2s\n"
     ]
    },
    {
     "name": "stdout",
     "output_type": "stream",
     "text": [
      "Num dataset =  45000\n",
      "Optimization complete with best validation score of 8.230000 %,with test performance 8.200000 %\n",
      "The code run for 3 epochs, with 0.754101 epochs/sec\n"
     ]
    },
    {
     "name": "stderr",
     "output_type": "stream",
     "text": [
      "The code for file  ran for 4.0s\n"
     ]
    },
    {
     "name": "stdout",
     "output_type": "stream",
     "text": [
      "Num dataset =  45100\n",
      "Optimization complete with best validation score of 8.070000 %,with test performance 8.910000 %\n",
      "The code run for 4 epochs, with 0.649137 epochs/sec\n"
     ]
    },
    {
     "name": "stderr",
     "output_type": "stream",
     "text": [
      "The code for file  ran for 6.2s\n"
     ]
    },
    {
     "name": "stdout",
     "output_type": "stream",
     "text": [
      "Num dataset =  45200\n",
      "Optimization complete with best validation score of 8.260000 %,with test performance 9.280000 %\n",
      "The code run for 4 epochs, with 0.668166 epochs/sec\n"
     ]
    },
    {
     "name": "stderr",
     "output_type": "stream",
     "text": [
      "The code for file  ran for 6.0s\n"
     ]
    },
    {
     "name": "stdout",
     "output_type": "stream",
     "text": [
      "Num dataset =  45300\n",
      "Optimization complete with best validation score of 7.940000 %,with test performance 8.570000 %\n",
      "The code run for 4 epochs, with 0.663654 epochs/sec\n"
     ]
    },
    {
     "name": "stderr",
     "output_type": "stream",
     "text": [
      "The code for file  ran for 6.0s\n"
     ]
    },
    {
     "name": "stdout",
     "output_type": "stream",
     "text": [
      "Num dataset =  45400\n",
      "Optimization complete with best validation score of 8.170000 %,with test performance 8.310000 %\n",
      "The code run for 3 epochs, with 0.759437 epochs/sec\n"
     ]
    },
    {
     "name": "stderr",
     "output_type": "stream",
     "text": [
      "The code for file  ran for 4.0s\n"
     ]
    },
    {
     "name": "stdout",
     "output_type": "stream",
     "text": [
      "Num dataset =  45500\n",
      "Optimization complete with best validation score of 8.100000 %,with test performance 8.340000 %\n",
      "The code run for 3 epochs, with 0.736480 epochs/sec\n"
     ]
    },
    {
     "name": "stderr",
     "output_type": "stream",
     "text": [
      "The code for file  ran for 4.1s\n"
     ]
    },
    {
     "name": "stdout",
     "output_type": "stream",
     "text": [
      "Num dataset =  45600\n",
      "Optimization complete with best validation score of 8.260000 %,with test performance 8.400000 %\n",
      "The code run for 3 epochs, with 0.762536 epochs/sec\n"
     ]
    },
    {
     "name": "stderr",
     "output_type": "stream",
     "text": [
      "The code for file  ran for 3.9s\n"
     ]
    },
    {
     "name": "stdout",
     "output_type": "stream",
     "text": [
      "Num dataset =  45700\n",
      "Optimization complete with best validation score of 8.300000 %,with test performance 8.320000 %\n",
      "The code run for 4 epochs, with 0.669592 epochs/sec\n"
     ]
    },
    {
     "name": "stderr",
     "output_type": "stream",
     "text": [
      "The code for file  ran for 6.0s\n"
     ]
    },
    {
     "name": "stdout",
     "output_type": "stream",
     "text": [
      "Num dataset =  45800\n",
      "Optimization complete with best validation score of 7.530000 %,with test performance 7.720000 %\n",
      "The code run for 27 epochs, with 0.580726 epochs/sec\n"
     ]
    },
    {
     "name": "stderr",
     "output_type": "stream",
     "text": [
      "The code for file  ran for 46.5s\n"
     ]
    },
    {
     "name": "stdout",
     "output_type": "stream",
     "text": [
      "Num dataset =  45900\n",
      "Optimization complete with best validation score of 8.170000 %,with test performance 8.390000 %\n",
      "The code run for 4 epochs, with 0.647375 epochs/sec\n"
     ]
    },
    {
     "name": "stderr",
     "output_type": "stream",
     "text": [
      "The code for file  ran for 6.2s\n"
     ]
    },
    {
     "name": "stdout",
     "output_type": "stream",
     "text": [
      "Num dataset =  46000\n",
      "Optimization complete with best validation score of 7.750000 %,with test performance 8.310000 %\n",
      "The code run for 6 epochs, with 0.595166 epochs/sec\n"
     ]
    },
    {
     "name": "stderr",
     "output_type": "stream",
     "text": [
      "The code for file  ran for 10.1s\n"
     ]
    },
    {
     "name": "stdout",
     "output_type": "stream",
     "text": [
      "Num dataset =  46100\n",
      "Optimization complete with best validation score of 7.980000 %,with test performance 8.440000 %\n",
      "The code run for 4 epochs, with 0.668061 epochs/sec\n"
     ]
    },
    {
     "name": "stderr",
     "output_type": "stream",
     "text": [
      "The code for file  ran for 6.0s\n"
     ]
    },
    {
     "name": "stdout",
     "output_type": "stream",
     "text": [
      "Num dataset =  46200\n",
      "Optimization complete with best validation score of 7.480000 %,with test performance 7.790000 %\n",
      "The code run for 10 epochs, with 0.544106 epochs/sec\n"
     ]
    },
    {
     "name": "stderr",
     "output_type": "stream",
     "text": [
      "The code for file  ran for 18.4s\n"
     ]
    },
    {
     "name": "stdout",
     "output_type": "stream",
     "text": [
      "Num dataset =  46300\n",
      "Optimization complete with best validation score of 8.310000 %,with test performance 8.630000 %\n",
      "The code run for 3 epochs, with 0.741531 epochs/sec\n"
     ]
    },
    {
     "name": "stderr",
     "output_type": "stream",
     "text": [
      "The code for file  ran for 4.0s\n"
     ]
    },
    {
     "name": "stdout",
     "output_type": "stream",
     "text": [
      "Num dataset =  46400\n",
      "Optimization complete with best validation score of 8.380000 %,with test performance 8.510000 %\n",
      "The code run for 4 epochs, with 0.651459 epochs/sec\n"
     ]
    },
    {
     "name": "stderr",
     "output_type": "stream",
     "text": [
      "The code for file  ran for 6.1s\n"
     ]
    },
    {
     "name": "stdout",
     "output_type": "stream",
     "text": [
      "Num dataset =  46500\n",
      "Optimization complete with best validation score of 7.800000 %,with test performance 8.070000 %\n",
      "The code run for 7 epochs, with 0.568998 epochs/sec\n"
     ]
    },
    {
     "name": "stderr",
     "output_type": "stream",
     "text": [
      "The code for file  ran for 12.3s\n"
     ]
    },
    {
     "name": "stdout",
     "output_type": "stream",
     "text": [
      "Num dataset =  46600\n",
      "Optimization complete with best validation score of 8.240000 %,with test performance 8.800000 %\n",
      "The code run for 4 epochs, with 0.656805 epochs/sec\n"
     ]
    },
    {
     "name": "stderr",
     "output_type": "stream",
     "text": [
      "The code for file  ran for 6.1s\n"
     ]
    },
    {
     "name": "stdout",
     "output_type": "stream",
     "text": [
      "Num dataset =  46700\n",
      "Optimization complete with best validation score of 8.350000 %,with test performance 8.930000 %\n",
      "The code run for 3 epochs, with 0.773428 epochs/sec\n"
     ]
    },
    {
     "name": "stderr",
     "output_type": "stream",
     "text": [
      "The code for file  ran for 3.9s\n"
     ]
    },
    {
     "name": "stdout",
     "output_type": "stream",
     "text": [
      "Num dataset =  46800\n",
      "Optimization complete with best validation score of 8.150000 %,with test performance 8.310000 %\n",
      "The code run for 3 epochs, with 0.752722 epochs/sec\n"
     ]
    },
    {
     "name": "stderr",
     "output_type": "stream",
     "text": [
      "The code for file  ran for 4.0s\n"
     ]
    },
    {
     "name": "stdout",
     "output_type": "stream",
     "text": [
      "Num dataset =  46900\n",
      "Optimization complete with best validation score of 9.070000 %,with test performance 9.170000 %\n",
      "The code run for 2 epochs, with 0.940069 epochs/sec\n"
     ]
    },
    {
     "name": "stderr",
     "output_type": "stream",
     "text": [
      "The code for file  ran for 2.1s\n"
     ]
    },
    {
     "name": "stdout",
     "output_type": "stream",
     "text": [
      "Num dataset =  47000\n",
      "Optimization complete with best validation score of 7.750000 %,with test performance 7.920000 %\n",
      "The code run for 8 epochs, with 0.567165 epochs/sec\n"
     ]
    },
    {
     "name": "stderr",
     "output_type": "stream",
     "text": [
      "The code for file  ran for 14.1s\n"
     ]
    },
    {
     "name": "stdout",
     "output_type": "stream",
     "text": [
      "Num dataset =  47100\n",
      "Optimization complete with best validation score of 8.430000 %,with test performance 8.440000 %\n",
      "The code run for 3 epochs, with 0.751623 epochs/sec\n"
     ]
    },
    {
     "name": "stderr",
     "output_type": "stream",
     "text": [
      "The code for file  ran for 4.0s\n"
     ]
    },
    {
     "name": "stdout",
     "output_type": "stream",
     "text": [
      "Num dataset =  47200\n",
      "Optimization complete with best validation score of 7.610000 %,with test performance 8.210000 %\n",
      "The code run for 9 epochs, with 0.568533 epochs/sec\n"
     ]
    },
    {
     "name": "stderr",
     "output_type": "stream",
     "text": [
      "The code for file  ran for 15.8s\n"
     ]
    },
    {
     "name": "stdout",
     "output_type": "stream",
     "text": [
      "Num dataset =  47300\n",
      "Optimization complete with best validation score of 7.340000 %,with test performance 7.800000 %\n",
      "The code run for 21 epochs, with 0.543516 epochs/sec\n"
     ]
    },
    {
     "name": "stderr",
     "output_type": "stream",
     "text": [
      "The code for file  ran for 38.6s\n"
     ]
    },
    {
     "name": "stdout",
     "output_type": "stream",
     "text": [
      "Num dataset =  47400\n",
      "Optimization complete with best validation score of 8.090000 %,with test performance 9.080000 %\n",
      "The code run for 4 epochs, with 0.666333 epochs/sec\n"
     ]
    },
    {
     "name": "stderr",
     "output_type": "stream",
     "text": [
      "The code for file  ran for 6.0s\n"
     ]
    },
    {
     "name": "stdout",
     "output_type": "stream",
     "text": [
      "Num dataset =  47500\n",
      "Optimization complete with best validation score of 9.030000 %,with test performance 9.730000 %\n",
      "The code run for 2 epochs, with 0.905532 epochs/sec\n"
     ]
    },
    {
     "name": "stderr",
     "output_type": "stream",
     "text": [
      "The code for file  ran for 2.2s\n"
     ]
    },
    {
     "name": "stdout",
     "output_type": "stream",
     "text": [
      "Num dataset =  47600\n",
      "Optimization complete with best validation score of 8.080000 %,with test performance 8.500000 %\n",
      "The code run for 3 epochs, with 0.748980 epochs/sec\n"
     ]
    },
    {
     "name": "stderr",
     "output_type": "stream",
     "text": [
      "The code for file  ran for 4.0s\n"
     ]
    },
    {
     "name": "stdout",
     "output_type": "stream",
     "text": [
      "Num dataset =  47700\n",
      "Optimization complete with best validation score of 8.650000 %,with test performance 9.250000 %\n",
      "The code run for 3 epochs, with 0.741613 epochs/sec\n"
     ]
    },
    {
     "name": "stderr",
     "output_type": "stream",
     "text": [
      "The code for file  ran for 4.0s\n"
     ]
    },
    {
     "name": "stdout",
     "output_type": "stream",
     "text": [
      "Num dataset =  47800\n",
      "Optimization complete with best validation score of 7.290000 %,with test performance 8.130000 %\n",
      "The code run for 33 epochs, with 0.542861 epochs/sec\n"
     ]
    },
    {
     "name": "stderr",
     "output_type": "stream",
     "text": [
      "The code for file  ran for 60.8s\n"
     ]
    },
    {
     "name": "stdout",
     "output_type": "stream",
     "text": [
      "Num dataset =  47900\n",
      "Optimization complete with best validation score of 7.650000 %,with test performance 8.010000 %\n",
      "The code run for 10 epochs, with 0.550763 epochs/sec\n"
     ]
    },
    {
     "name": "stderr",
     "output_type": "stream",
     "text": [
      "The code for file  ran for 18.2s\n"
     ]
    },
    {
     "name": "stdout",
     "output_type": "stream",
     "text": [
      "Num dataset =  48000\n",
      "Optimization complete with best validation score of 8.040000 %,with test performance 8.370000 %\n",
      "The code run for 3 epochs, with 0.723951 epochs/sec\n"
     ]
    },
    {
     "name": "stderr",
     "output_type": "stream",
     "text": [
      "The code for file  ran for 4.1s\n"
     ]
    },
    {
     "name": "stdout",
     "output_type": "stream",
     "text": [
      "Num dataset =  48100\n",
      "Optimization complete with best validation score of 7.330000 %,with test performance 7.820000 %\n",
      "The code run for 30 epochs, with 0.549351 epochs/sec\n"
     ]
    },
    {
     "name": "stderr",
     "output_type": "stream",
     "text": [
      "The code for file  ran for 54.6s\n"
     ]
    },
    {
     "name": "stdout",
     "output_type": "stream",
     "text": [
      "Num dataset =  48200\n",
      "Optimization complete with best validation score of 8.720000 %,with test performance 8.970000 %\n",
      "The code run for 3 epochs, with 0.734845 epochs/sec\n"
     ]
    },
    {
     "name": "stderr",
     "output_type": "stream",
     "text": [
      "The code for file  ran for 4.1s\n"
     ]
    },
    {
     "name": "stdout",
     "output_type": "stream",
     "text": [
      "Num dataset =  48300\n",
      "Optimization complete with best validation score of 7.740000 %,with test performance 8.230000 %\n",
      "The code run for 7 epochs, with 0.581396 epochs/sec\n"
     ]
    },
    {
     "name": "stderr",
     "output_type": "stream",
     "text": [
      "The code for file  ran for 12.0s\n"
     ]
    },
    {
     "name": "stdout",
     "output_type": "stream",
     "text": [
      "Num dataset =  48400\n",
      "Optimization complete with best validation score of 7.980000 %,with test performance 8.920000 %\n",
      "The code run for 5 epochs, with 0.600701 epochs/sec\n"
     ]
    },
    {
     "name": "stderr",
     "output_type": "stream",
     "text": [
      "The code for file  ran for 8.3s\n"
     ]
    },
    {
     "name": "stdout",
     "output_type": "stream",
     "text": [
      "Num dataset =  48500\n",
      "Optimization complete with best validation score of 7.730000 %,with test performance 8.140000 %\n",
      "The code run for 7 epochs, with 0.572769 epochs/sec\n"
     ]
    },
    {
     "name": "stderr",
     "output_type": "stream",
     "text": [
      "The code for file  ran for 12.2s\n"
     ]
    },
    {
     "name": "stdout",
     "output_type": "stream",
     "text": [
      "Num dataset =  48600\n",
      "Optimization complete with best validation score of 9.070000 %,with test performance 9.170000 %\n",
      "The code run for 2 epochs, with 0.911438 epochs/sec\n"
     ]
    },
    {
     "name": "stderr",
     "output_type": "stream",
     "text": [
      "The code for file  ran for 2.2s\n"
     ]
    },
    {
     "name": "stdout",
     "output_type": "stream",
     "text": [
      "Num dataset =  48700\n",
      "Optimization complete with best validation score of 7.490000 %,with test performance 7.990000 %\n",
      "The code run for 12 epochs, with 0.551331 epochs/sec\n"
     ]
    },
    {
     "name": "stderr",
     "output_type": "stream",
     "text": [
      "The code for file  ran for 21.8s\n"
     ]
    },
    {
     "name": "stdout",
     "output_type": "stream",
     "text": [
      "Num dataset =  48800\n",
      "Optimization complete with best validation score of 9.070000 %,with test performance 9.170000 %\n",
      "The code run for 2 epochs, with 0.943450 epochs/sec\n"
     ]
    },
    {
     "name": "stderr",
     "output_type": "stream",
     "text": [
      "The code for file  ran for 2.1s\n"
     ]
    },
    {
     "name": "stdout",
     "output_type": "stream",
     "text": [
      "Num dataset =  48900\n",
      "Optimization complete with best validation score of 8.100000 %,with test performance 8.710000 %\n",
      "The code run for 4 epochs, with 0.651847 epochs/sec\n"
     ]
    },
    {
     "name": "stderr",
     "output_type": "stream",
     "text": [
      "The code for file  ran for 6.1s\n"
     ]
    },
    {
     "name": "stdout",
     "output_type": "stream",
     "text": [
      "Num dataset =  49000\n",
      "Optimization complete with best validation score of 7.620000 %,with test performance 8.110000 %\n",
      "The code run for 5 epochs, with 0.615501 epochs/sec\n"
     ]
    },
    {
     "name": "stderr",
     "output_type": "stream",
     "text": [
      "The code for file  ran for 8.1s\n"
     ]
    },
    {
     "name": "stdout",
     "output_type": "stream",
     "text": [
      "Num dataset =  49100\n",
      "Optimization complete with best validation score of 7.810000 %,with test performance 8.630000 %\n",
      "The code run for 3 epochs, with 0.756061 epochs/sec\n"
     ]
    },
    {
     "name": "stderr",
     "output_type": "stream",
     "text": [
      "The code for file  ran for 4.0s\n"
     ]
    },
    {
     "name": "stdout",
     "output_type": "stream",
     "text": [
      "Num dataset =  49200\n",
      "Optimization complete with best validation score of 7.310000 %,with test performance 7.730000 %\n",
      "The code run for 12 epochs, with 0.519229 epochs/sec\n"
     ]
    },
    {
     "name": "stderr",
     "output_type": "stream",
     "text": [
      "The code for file  ran for 23.1s\n"
     ]
    },
    {
     "name": "stdout",
     "output_type": "stream",
     "text": [
      "Num dataset =  49300\n",
      "Optimization complete with best validation score of 8.010000 %,with test performance 8.500000 %\n",
      "The code run for 3 epochs, with 0.748671 epochs/sec\n"
     ]
    },
    {
     "name": "stderr",
     "output_type": "stream",
     "text": [
      "The code for file  ran for 4.0s\n"
     ]
    },
    {
     "name": "stdout",
     "output_type": "stream",
     "text": [
      "Num dataset =  49400\n",
      "Optimization complete with best validation score of 7.720000 %,with test performance 8.300000 %\n",
      "The code run for 6 epochs, with 0.607854 epochs/sec\n"
     ]
    },
    {
     "name": "stderr",
     "output_type": "stream",
     "text": [
      "The code for file  ran for 9.9s\n"
     ]
    },
    {
     "name": "stdout",
     "output_type": "stream",
     "text": [
      "Num dataset =  49500\n",
      "Optimization complete with best validation score of 8.050000 %,with test performance 8.560000 %\n",
      "The code run for 4 epochs, with 0.665460 epochs/sec\n"
     ]
    },
    {
     "name": "stderr",
     "output_type": "stream",
     "text": [
      "The code for file  ran for 6.0s\n"
     ]
    },
    {
     "name": "stdout",
     "output_type": "stream",
     "text": [
      "Num dataset =  49600\n",
      "Optimization complete with best validation score of 9.070000 %,with test performance 9.170000 %\n",
      "The code run for 2 epochs, with 0.928479 epochs/sec\n"
     ]
    },
    {
     "name": "stderr",
     "output_type": "stream",
     "text": [
      "The code for file  ran for 2.2s\n"
     ]
    },
    {
     "name": "stdout",
     "output_type": "stream",
     "text": [
      "Num dataset =  49700\n",
      "Optimization complete with best validation score of 7.430000 %,with test performance 8.150000 %\n",
      "The code run for 7 epochs, with 0.590351 epochs/sec\n"
     ]
    },
    {
     "name": "stderr",
     "output_type": "stream",
     "text": [
      "The code for file  ran for 11.9s\n"
     ]
    },
    {
     "name": "stdout",
     "output_type": "stream",
     "text": [
      "Num dataset =  49800\n",
      "Optimization complete with best validation score of 8.510000 %,with test performance 8.870000 %\n",
      "The code run for 3 epochs, with 0.751961 epochs/sec\n"
     ]
    },
    {
     "name": "stderr",
     "output_type": "stream",
     "text": [
      "The code for file  ran for 4.0s\n"
     ]
    },
    {
     "name": "stdout",
     "output_type": "stream",
     "text": [
      "Num dataset =  49900\n",
      "Optimization complete with best validation score of 8.050000 %,with test performance 8.370000 %\n",
      "The code run for 4 epochs, with 0.635875 epochs/sec\n"
     ]
    },
    {
     "name": "stderr",
     "output_type": "stream",
     "text": [
      "The code for file  ran for 6.3s\n"
     ]
    }
   ],
   "source": [
    "result = numpy.arange(10000)\n",
    "for i in range(100,50000,100):\n",
    "    sgd_optimization_mnist(i)\n",
    "    result = numpy.vstack((result, predict()))\n",
    "    "
   ]
  },
  {
   "cell_type": "code",
   "execution_count": 16,
   "metadata": {
    "collapsed": false
   },
   "outputs": [
    {
     "data": {
      "text/plain": [
       "(500, 10000)"
      ]
     },
     "execution_count": 16,
     "metadata": {},
     "output_type": "execute_result"
    }
   ],
   "source": [
    "numpy.shape(result)"
   ]
  },
  {
   "cell_type": "code",
   "execution_count": 20,
   "metadata": {
    "collapsed": false
   },
   "outputs": [],
   "source": [
    "import pandas as pd\n",
    "import matplotlib.pyplot as plt"
   ]
  },
  {
   "cell_type": "code",
   "execution_count": 23,
   "metadata": {
    "collapsed": false
   },
   "outputs": [],
   "source": [
    "df = pd.DataFrame(data=result[1:,:],columns=result[0,:])"
   ]
  },
  {
   "cell_type": "code",
   "execution_count": 24,
   "metadata": {
    "collapsed": false
   },
   "outputs": [
    {
     "data": {
      "text/html": [
       "<div>\n",
       "<table border=\"1\" class=\"dataframe\">\n",
       "  <thead>\n",
       "    <tr style=\"text-align: right;\">\n",
       "      <th></th>\n",
       "      <th>0</th>\n",
       "      <th>1</th>\n",
       "      <th>2</th>\n",
       "      <th>3</th>\n",
       "      <th>4</th>\n",
       "      <th>5</th>\n",
       "      <th>6</th>\n",
       "      <th>7</th>\n",
       "      <th>8</th>\n",
       "      <th>9</th>\n",
       "      <th>...</th>\n",
       "      <th>9990</th>\n",
       "      <th>9991</th>\n",
       "      <th>9992</th>\n",
       "      <th>9993</th>\n",
       "      <th>9994</th>\n",
       "      <th>9995</th>\n",
       "      <th>9996</th>\n",
       "      <th>9997</th>\n",
       "      <th>9998</th>\n",
       "      <th>9999</th>\n",
       "    </tr>\n",
       "  </thead>\n",
       "  <tbody>\n",
       "    <tr>\n",
       "      <th>0</th>\n",
       "      <td>1</td>\n",
       "      <td>1</td>\n",
       "      <td>1</td>\n",
       "      <td>1</td>\n",
       "      <td>1</td>\n",
       "      <td>1</td>\n",
       "      <td>0</td>\n",
       "      <td>0</td>\n",
       "      <td>0</td>\n",
       "      <td>1</td>\n",
       "      <td>...</td>\n",
       "      <td>1</td>\n",
       "      <td>0</td>\n",
       "      <td>0</td>\n",
       "      <td>1</td>\n",
       "      <td>1</td>\n",
       "      <td>1</td>\n",
       "      <td>1</td>\n",
       "      <td>0</td>\n",
       "      <td>1</td>\n",
       "      <td>1</td>\n",
       "    </tr>\n",
       "    <tr>\n",
       "      <th>1</th>\n",
       "      <td>1</td>\n",
       "      <td>1</td>\n",
       "      <td>1</td>\n",
       "      <td>1</td>\n",
       "      <td>1</td>\n",
       "      <td>1</td>\n",
       "      <td>0</td>\n",
       "      <td>1</td>\n",
       "      <td>0</td>\n",
       "      <td>1</td>\n",
       "      <td>...</td>\n",
       "      <td>1</td>\n",
       "      <td>1</td>\n",
       "      <td>0</td>\n",
       "      <td>1</td>\n",
       "      <td>1</td>\n",
       "      <td>1</td>\n",
       "      <td>1</td>\n",
       "      <td>1</td>\n",
       "      <td>1</td>\n",
       "      <td>1</td>\n",
       "    </tr>\n",
       "    <tr>\n",
       "      <th>2</th>\n",
       "      <td>1</td>\n",
       "      <td>1</td>\n",
       "      <td>1</td>\n",
       "      <td>1</td>\n",
       "      <td>1</td>\n",
       "      <td>1</td>\n",
       "      <td>0</td>\n",
       "      <td>1</td>\n",
       "      <td>0</td>\n",
       "      <td>1</td>\n",
       "      <td>...</td>\n",
       "      <td>1</td>\n",
       "      <td>1</td>\n",
       "      <td>0</td>\n",
       "      <td>1</td>\n",
       "      <td>1</td>\n",
       "      <td>1</td>\n",
       "      <td>1</td>\n",
       "      <td>0</td>\n",
       "      <td>1</td>\n",
       "      <td>1</td>\n",
       "    </tr>\n",
       "    <tr>\n",
       "      <th>3</th>\n",
       "      <td>1</td>\n",
       "      <td>1</td>\n",
       "      <td>1</td>\n",
       "      <td>1</td>\n",
       "      <td>1</td>\n",
       "      <td>1</td>\n",
       "      <td>1</td>\n",
       "      <td>1</td>\n",
       "      <td>0</td>\n",
       "      <td>1</td>\n",
       "      <td>...</td>\n",
       "      <td>1</td>\n",
       "      <td>1</td>\n",
       "      <td>0</td>\n",
       "      <td>1</td>\n",
       "      <td>1</td>\n",
       "      <td>1</td>\n",
       "      <td>1</td>\n",
       "      <td>1</td>\n",
       "      <td>0</td>\n",
       "      <td>1</td>\n",
       "    </tr>\n",
       "    <tr>\n",
       "      <th>4</th>\n",
       "      <td>1</td>\n",
       "      <td>1</td>\n",
       "      <td>1</td>\n",
       "      <td>1</td>\n",
       "      <td>1</td>\n",
       "      <td>1</td>\n",
       "      <td>0</td>\n",
       "      <td>1</td>\n",
       "      <td>0</td>\n",
       "      <td>1</td>\n",
       "      <td>...</td>\n",
       "      <td>1</td>\n",
       "      <td>1</td>\n",
       "      <td>0</td>\n",
       "      <td>1</td>\n",
       "      <td>1</td>\n",
       "      <td>1</td>\n",
       "      <td>1</td>\n",
       "      <td>1</td>\n",
       "      <td>1</td>\n",
       "      <td>1</td>\n",
       "    </tr>\n",
       "  </tbody>\n",
       "</table>\n",
       "<p>5 rows × 10000 columns</p>\n",
       "</div>"
      ],
      "text/plain": [
       "   0     1     2     3     4     5     6     7     8     9     ...   9990  \\\n",
       "0     1     1     1     1     1     1     0     0     0     1  ...      1   \n",
       "1     1     1     1     1     1     1     0     1     0     1  ...      1   \n",
       "2     1     1     1     1     1     1     0     1     0     1  ...      1   \n",
       "3     1     1     1     1     1     1     1     1     0     1  ...      1   \n",
       "4     1     1     1     1     1     1     0     1     0     1  ...      1   \n",
       "\n",
       "   9991  9992  9993  9994  9995  9996  9997  9998  9999  \n",
       "0     0     0     1     1     1     1     0     1     1  \n",
       "1     1     0     1     1     1     1     1     1     1  \n",
       "2     1     0     1     1     1     1     0     1     1  \n",
       "3     1     0     1     1     1     1     1     0     1  \n",
       "4     1     0     1     1     1     1     1     1     1  \n",
       "\n",
       "[5 rows x 10000 columns]"
      ]
     },
     "execution_count": 24,
     "metadata": {},
     "output_type": "execute_result"
    }
   ],
   "source": [
    "df.head()"
   ]
  },
  {
   "cell_type": "code",
   "execution_count": 26,
   "metadata": {
    "collapsed": false
   },
   "outputs": [],
   "source": [
    "df.to_csv('logistic_regression.csv')"
   ]
  },
  {
   "cell_type": "code",
   "execution_count": null,
   "metadata": {
    "collapsed": false
   },
   "outputs": [],
   "source": [
    "predicted_values[:30]"
   ]
  },
  {
   "cell_type": "code",
   "execution_count": 13,
   "metadata": {
    "collapsed": false,
    "scrolled": false
   },
   "outputs": [
    {
     "name": "stdout",
     "output_type": "stream",
     "text": [
      "Num dataset =  100\n",
      "Optimization complete with best validation score of 30.180000 %,with test performance 32.200000 %\n",
      "The code run for 501 epochs, with 6.133256 epochs/sec\n"
     ]
    },
    {
     "name": "stderr",
     "output_type": "stream",
     "text": [
      "The code for file  ran for 81.7s\n"
     ]
    }
   ],
   "source": [
    "sgd_optimization_mnist(100)"
   ]
  },
  {
   "cell_type": "code",
   "execution_count": null,
   "metadata": {
    "collapsed": false
   },
   "outputs": [],
   "source": [
    "a = numpy.arange(10000)"
   ]
  },
  {
   "cell_type": "code",
   "execution_count": null,
   "metadata": {
    "collapsed": false
   },
   "outputs": [],
   "source": [
    "a"
   ]
  },
  {
   "cell_type": "code",
   "execution_count": null,
   "metadata": {
    "collapsed": true
   },
   "outputs": [],
   "source": []
  }
 ],
 "metadata": {
  "kernelspec": {
   "display_name": "Python [Root]",
   "language": "python",
   "name": "Python [Root]"
  },
  "language_info": {
   "codemirror_mode": {
    "name": "ipython",
    "version": 2
   },
   "file_extension": ".py",
   "mimetype": "text/x-python",
   "name": "python",
   "nbconvert_exporter": "python",
   "pygments_lexer": "ipython2",
   "version": "2.7.12"
  }
 },
 "nbformat": 4,
 "nbformat_minor": 0
}
